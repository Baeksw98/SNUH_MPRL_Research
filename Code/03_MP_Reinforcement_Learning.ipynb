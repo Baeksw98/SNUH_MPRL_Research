{
 "cells": [
  {
   "cell_type": "markdown",
   "metadata": {},
   "source": [
    "### Mechanical Power Vital File Reinforcement Learning \n",
    "* Sangwon Baek / SNUH / Vital Lab \n",
    "* Jan 30th 2024 "
   ]
  },
  {
   "cell_type": "code",
   "execution_count": 1,
   "metadata": {},
   "outputs": [
    {
     "name": "stderr",
     "output_type": "stream",
     "text": [
      "/tmp/ipykernel_2645027/47251558.py:5: DeprecationWarning: The current Dask DataFrame implementation is deprecated. \n",
      "In a future release, Dask DataFrame will use a new implementation that\n",
      "contains several improvements including a logical query planning.\n",
      "The user-facing DataFrame API will remain unchanged.\n",
      "\n",
      "The new implementation is already available and can be enabled by\n",
      "installing the dask-expr library:\n",
      "\n",
      "    $ pip install dask-expr\n",
      "\n",
      "and turning the query planning option on:\n",
      "\n",
      "    >>> import dask\n",
      "    >>> dask.config.set({'dataframe.query-planning': True})\n",
      "    >>> import dask.dataframe as dd\n",
      "\n",
      "API documentation for the new implementation is available at\n",
      "https://docs.dask.org/en/stable/dask-expr-api.html\n",
      "\n",
      "Any feedback can be reported on the Dask issue tracker\n",
      "https://github.com/dask/dask/issues \n",
      "\n",
      "To disable this warning in the future, set dask config:\n",
      "\n",
      "    # via Python\n",
      "    >>> dask.config.set({'dataframe.query-planning-warning': False})\n",
      "\n",
      "    # via CLI\n",
      "    dask config set dataframe.query-planning-warning False\n",
      "\n",
      "\n",
      "  import dask.dataframe as dd\n"
     ]
    },
    {
     "name": "stdout",
     "output_type": "stream",
     "text": [
      "GPU: cuda:0\n"
     ]
    }
   ],
   "source": [
    "import vitaldb\n",
    "\n",
    "import pandas as pd\n",
    "from pandas import Timestamp, Timedelta\n",
    "import dask.dataframe as dd\n",
    "import numpy as np\n",
    "import matplotlib.pyplot as plt\n",
    "import matplotlib as mpl \n",
    "import seaborn as sns\n",
    "import pytz\n",
    "from itertools import chain\n",
    "from tqdm import tqdm\n",
    "import datetime\n",
    "\n",
    "import re\n",
    "import os\n",
    "import glob\n",
    "import random\n",
    "from collections import defaultdict\n",
    "import gc  # Garbage Collector\n",
    "import sys\n",
    "\n",
    "from joblib import Parallel, delayed\n",
    "\n",
    "import warnings\n",
    "warnings.filterwarnings(\"ignore\", category=RuntimeWarning) \n",
    "\n",
    "# Display first 50 rows of dataframe\n",
    "pd.set_option('display.max_rows', 100)\n",
    "pd.set_option('display.float_format', '{:.2f}'.format)\n",
    "\n",
    "#Set Global Matplotlib parameters for font \n",
    "mpl.rcParams['font.family'] = 'Arial'\n",
    "mpl.rcParams['font.size'] = 12\n",
    "\n",
    "# import d3rlpy algorithms\n",
    "import d3rlpy\n",
    "from d3rlpy.algos import DiscreteCQLConfig, CQLConfig, CQL\n",
    "from d3rlpy.dataset import MDPDataset\n",
    "from d3rlpy.preprocessing import StandardObservationScaler, MinMaxActionScaler, StandardRewardScaler\n",
    "from d3rlpy.ope import FQE, FQEConfig, DiscreteFQE\n",
    "\n",
    "# from d3rlpy.metrics.scorer import evaluate_on_environment, discounted_sum_of_advantage_scorer\n",
    "\n",
    "# import rtbgym and gym\n",
    "import gym\n",
    "import torch\n",
    "device = \"cuda:0\" if torch.cuda.is_available() else \"cpu\"\n",
    "print(f\"GPU: {device}\")\n",
    "\n",
    "from sklearn.linear_model import LinearRegression\n",
    "from sklearn.model_selection import train_test_split\n",
    "from sklearn.metrics import mean_squared_error, r2_score"
   ]
  },
  {
   "cell_type": "code",
   "execution_count": null,
   "metadata": {},
   "outputs": [],
   "source": []
  },
  {
   "cell_type": "code",
   "execution_count": 2,
   "metadata": {},
   "outputs": [],
   "source": [
    "def collect_file_npz(years):\n",
    "    # Initialize a dictionary to hold filenames and file paths for each year\n",
    "    file_names, file_paths = {}, {}\n",
    "\n",
    "    # Initialize an empty list to store all file paths across years\n",
    "    all_filenames, all_file_paths = [], []\n",
    "\n",
    "    # Iterate over each year, get filenames, and count .vital files\n",
    "    for year in years:\n",
    "        path = f'../Data/VitalNPZ/{year}/'\n",
    "        try:\n",
    "            filenames = os.listdir(path)\n",
    "        except FileNotFoundError:\n",
    "            print(f\"Directory not found: {path}\")\n",
    "            continue\n",
    "\n",
    "        # Store filenames and file paths for the current year\n",
    "        file_names[year] = filenames\n",
    "        year_file_paths = [os.path.join(path, filename) for filename in filenames]\n",
    "        file_paths[year] = year_file_paths\n",
    "\n",
    "        # Extend all_file_paths list with file paths from the current year\n",
    "        all_file_paths.extend(year_file_paths)\n",
    "        all_filenames.extend(filenames)\n",
    "\n",
    "        # Count and print the number of .npz files\n",
    "        npz_file_count = len([f for f in filenames if f.endswith('.npz')])\n",
    "        print(f'Got a total of {npz_file_count} vital files for MP research in 20{year}')\n",
    "\n",
    "    return file_names, file_paths, all_filenames, all_file_paths\n",
    "\n",
    "def stratified_sampling_npz(directory_paths, sample_size=1):\n",
    "    def extract_op_room(filename):\n",
    "        return filename.split('_')[0]\n",
    "\n",
    "    file_names = {}\n",
    "    for year, path in directory_paths.items():\n",
    "        filenames = os.listdir(path)\n",
    "        file_names[year] = [os.path.join(f'../Data/VitalNPZ/{year}/', fname) for fname in filenames]  # Prepend the path to filenames\n",
    "\n",
    "    # Group filenames by year and operation room\n",
    "    stratified_groups = defaultdict(lambda: defaultdict(list))\n",
    "    for year, filenames in file_names.items():\n",
    "        for fname in filenames:\n",
    "            op_room = extract_op_room(fname)\n",
    "            stratified_groups[year][op_room].append(fname)\n",
    "\n",
    "    # Perform stratified random sampling\n",
    "    sampled_filenames = []\n",
    "    for year, op_rooms in stratified_groups.items():\n",
    "        for op_room, fnames in op_rooms.items():\n",
    "            if len(fnames) >= sample_size:\n",
    "                sampled_filenames.extend(random.sample(fnames, sample_size))\n",
    "            else:\n",
    "                sampled_filenames.extend(fnames)\n",
    "    \n",
    "    # Print the number of files sampled\n",
    "    print(f\"Sampled {len(sampled_filenames)} files\")\n",
    "    return sampled_filenames\n",
    "\n",
    "def reformat_filenames_vital(original_filename):\n",
    "    # Remove the '.vital' extension from the original filename\n",
    "    base_filename = original_filename[:-6]  # Assuming '.vital' is always the extension and is 6 characters long\n",
    "    \n",
    "    # Split the base filename to extract the necessary parts\n",
    "    parts = base_filename.split('_')\n",
    "    if len(parts) > 1:\n",
    "        # Extract the year part (first two digits after the underscore)\n",
    "        year_part = parts[1][:2]\n",
    "        # Construct the new filename, appending '_MP.npz' at the end\n",
    "        new_filename = f\"../Data/VitalNPZ/{year_part}/{base_filename}_MP.npz\"\n",
    "        return new_filename\n",
    "    else:\n",
    "        # If the filename doesn't match the expected pattern, append '_MP.vital' to the original base filename\n",
    "        return f\"{base_filename}_MP.npz\"\n",
    "    \n",
    "def get_filtered_reformatted_filenames(df, threshold):\n",
    "    # Filter DataFrame based on MP Missing Rate threshold\n",
    "    filtered_df = df[df['MP Missing Rate'] <= threshold]\n",
    "    \n",
    "    # Apply reformatting to each filename in the filtered DataFrame\n",
    "    reformatted_filenames = filtered_df['File Name'].apply(reformat_filenames_vital).tolist()\n",
    "    \n",
    "    return reformatted_filenames"
   ]
  },
  {
   "cell_type": "code",
   "execution_count": 3,
   "metadata": {},
   "outputs": [],
   "source": [
    "def extract_year_from_path(file_path):\n",
    "    year_match = re.search(r'/(\\d{2})/', file_path)\n",
    "    return \"20\" + str(year_match.group(1)) if year_match else \"Unknown\"\n",
    "\n",
    "def rename_column(name):\n",
    "    # Handle the combined MP case\n",
    "    if 'MP_COMBINED_60' in name:\n",
    "        return 'Combined_MP'\n",
    "    if 'MP_METHOD_60' in name:\n",
    "        return 'MP_Method'\n",
    "    # Use regex to find the metric name between \"/\" and \" (\"\n",
    "    match = re.search(r'/(?P<metric_name>.+?) \\(', name)\n",
    "    if match:\n",
    "        return match.group('metric_name')\n",
    "    \n",
    "    # If no pattern matches, return the original name (or you could choose to handle it differently)\n",
    "    return name\n",
    "\n",
    "def extract_file_id(file_path):  \n",
    "    # Extract the segment between the last '/' and '_MP'\n",
    "    file_id = re.search(r'/([^/]+)_MP', file_path)\n",
    "    return file_id.group(1) if file_id else \"Unknown\"\n",
    "\n",
    "def load_single_npz_file(file_path):\n",
    "    try:\n",
    "        with np.load(file_path, allow_pickle=True, mmap_mode='r') as data:\n",
    "            vital_array = data['vital_data']\n",
    "            track_names = data['track_names']\n",
    "\n",
    "        track_names = np.insert(track_names, 0, \"Time\")\n",
    "        filtered_columns = [name for name in track_names if (name.startswith('Mechanical Power') and name not in [\"Mechanical Power 60/MP_SIMPLIFIED_60\", \"Mechanical Power 60/MP_SURROGATE_60\", \"Mechanical Power 60/MP_METHOD_60\"]) or name == 'Time']\n",
    "\n",
    "        # Identify indexes of filtered_columns in track_names to directly use them for creating the DataFrame\n",
    "        filtered_columns_indexes = [i for i, name in enumerate(track_names) if name in filtered_columns]\n",
    "        \n",
    "        # Create a DataFrame with only the filtered columns from the vital_array\n",
    "        processed_df = pd.DataFrame(vital_array[:, filtered_columns_indexes], columns=[track_names[i] for i in filtered_columns_indexes])\n",
    "\n",
    "        processed_df = processed_df.rename(columns=lambda name: rename_column(name))\n",
    "        processed_df['File_ID'] = extract_file_id(file_path)\n",
    "        \n",
    "        columns_order = ['File_ID'] + [col for col in processed_df.columns if col not in ['File_ID', 'Terminal_Index']]\n",
    "        processed_df = processed_df[columns_order]\n",
    "\n",
    "        # Remove rows where all columns except for 'File_ID' and 'Time' have missing values\n",
    "        cols_to_check = processed_df.columns.difference(['File_ID', 'Time'])\n",
    "        processed_df = processed_df.dropna(subset=cols_to_check, how='all')\n",
    "\n",
    "        # Additionally, drop all rows where 'Combined_MP' column is missing\n",
    "        processed_df = processed_df.dropna(subset=['Combined_MP'])\n",
    "\n",
    "        # Explicit garbage collection\n",
    "        del vital_array, track_names  # Delete variables that are no longer needed\n",
    "        gc.collect()  # Invoke garbage collector\n",
    "\n",
    "        return processed_df\n",
    "    \n",
    "    except Exception as e:\n",
    "        print(f\"Error loading {file_path}: {e}\")\n",
    "        return None\n",
    "    \n",
    "def get_column_data(df, search_string):\n",
    "    matched_columns = df.columns[df.columns.str.contains(search_string)]\n",
    "    return df[matched_columns].dropna()\n",
    "\n",
    "def process_all_npz_files(file_paths):\n",
    "    # Process files in parallel and return the concatenated DataFrame of results\n",
    "    dfs = Parallel(n_jobs=os.cpu_count())(\n",
    "        delayed(load_single_npz_file)(fp) for fp in tqdm(file_paths, desc=\"Processing NPZ Files\", file=sys.stdout)\n",
    "    )\n",
    "    # Filter out any None results due to errors\n",
    "    dfs_filtered = [df for df in dfs if df is not None]\n",
    "    # Concatenate all DataFrames into a single DataFrame if not empty\n",
    "    if dfs_filtered:\n",
    "        return pd.concat(dfs_filtered, ignore_index=True)\n",
    "    return pd.DataFrame()  # Return an empty DataFrame if no data\n",
    "\n",
    "# def process_all_npz_files_in_batches(file_paths, batch_size=10000):\n",
    "#     # Split file_paths into chunks of batch_size\n",
    "#     chunks = [file_paths[x:x+batch_size] for x in range(0, len(file_paths), batch_size)]\n",
    "#     combined_df = pd.DataFrame()\n",
    "    \n",
    "#     for chunk in tqdm(chunks, desc=\"Processing Chunks\"):\n",
    "#         batch_df = process_files_in_batch(chunk)\n",
    "#         combined_df = pd.concat([combined_df, batch_df], ignore_index=True)\n",
    "    \n",
    "#     return combined_df"
   ]
  },
  {
   "cell_type": "code",
   "execution_count": 4,
   "metadata": {},
   "outputs": [],
   "source": [
    "def preprocess_demographic_data(filepath):\n",
    "    # Load the demographic data\n",
    "    demographic_df = pd.read_csv(filepath)\n",
    "    \n",
    "    # Remove 'MP Missing Rate' and 'OPID' columns\n",
    "    demographic_df.drop(['MP Missing Rate', 'OPID'], axis=1, inplace=True)\n",
    "    \n",
    "    # Drop rows where 'age' is NaN\n",
    "    demographic_df.dropna(subset=['age'], inplace=True)\n",
    "    \n",
    "    # Filter out rows where 'age' is less than 10\n",
    "    demographic_df = demographic_df[demographic_df['age'] >= 10]\n",
    "    \n",
    "    # Drop rows where either 'height' or 'weight' does not exist (is NaN)\n",
    "    demographic_df.dropna(subset=['height', 'weight'], inplace=True)\n",
    "    \n",
    "    # Convert 'age' from float to int\n",
    "    demographic_df['age'] = demographic_df['age'].astype(int)\n",
    "    \n",
    "    # Change 'sex' values (\"M\" to 1; \"F\" to 0)\n",
    "    demographic_df['sex'] = demographic_df['sex'].map({'M': 1, 'F': 0})\n",
    "\n",
    "    # Remove 'vital' from the 'File_ID' column\n",
    "    if 'File_ID' in demographic_df.columns:\n",
    "        demographic_df['File_ID'] = demographic_df['File_ID'].str.replace('.vital', '', regex=False)\n",
    "    \n",
    "    return demographic_df\n",
    "\n",
    "def plot_demographics(demographic_df):\n",
    "\n",
    "    # Set the aesthetic style of the plots\n",
    "    sns.set(style=\"whitegrid\")\n",
    "    \n",
    "    # Define a function to filter the middle 98% of a given column\n",
    "    def filter_mid(column):\n",
    "        lower_bound, upper_bound = column.quantile([0.01, 0.99])\n",
    "        return column[(column >= lower_bound) & (column <= upper_bound)]\n",
    "\n",
    "    # Apply the filter to age, height, and weight\n",
    "    filtered_age = filter_mid(demographic_df['age'])\n",
    "    filtered_height = filter_mid(demographic_df['height'])\n",
    "    filtered_weight = filter_mid(demographic_df['weight'])\n",
    "\n",
    "    # Histogram for Age\n",
    "    plt.figure(figsize=(10, 6))\n",
    "    sns.histplot(filtered_age, kde=True, color='black')\n",
    "    plt.title('Histogram of Age')\n",
    "    plt.xlabel('Age')\n",
    "    plt.ylabel('Frequency')\n",
    "    plt.xticks(np.arange(filtered_age.min(), filtered_age.max() + 1, 5))\n",
    "    plt.show()\n",
    "\n",
    "    # Histogram for Height\n",
    "    plt.figure(figsize=(10, 6))\n",
    "    sns.histplot(filtered_height, kde=True, color='green')\n",
    "    plt.title('Histogram of Height')\n",
    "    plt.xlabel('Height (cm)')\n",
    "    plt.ylabel('Frequency')\n",
    "    plt.xticks(np.arange(filtered_height.min(), filtered_height.max() + 1, 5))\n",
    "    plt.show()\n",
    "\n",
    "    # Histogram for Weight\n",
    "    plt.figure(figsize=(10, 6))\n",
    "    sns.histplot(filtered_weight, kde=True, color='purple')\n",
    "    plt.title('Histogram of Weight')\n",
    "    plt.xlabel('Weight (kg)')\n",
    "    plt.ylabel('Frequency')\n",
    "    plt.xticks(np.arange(filtered_weight.min(), filtered_weight.max() + 1, 5))\n",
    "    plt.show()\n",
    "    \n",
    "    # Bar Plot for Sex remains unchanged as it's categorical and not affected by outlier cropping\n",
    "    plt.figure(figsize=(10, 6))\n",
    "    sex_counts = demographic_df['sex'].value_counts()\n",
    "    sns.barplot(x=sex_counts.index, y=sex_counts.values, palette=['red', 'blue'])\n",
    "    plt.title('Bar Plot of Sex')\n",
    "    plt.xlabel('Sex')\n",
    "    plt.ylabel('Count')\n",
    "    plt.xticks(ticks=range(len(sex_counts)), labels=['Male' if x==1 else 'Female' for x in sex_counts.index])\n",
    "    plt.show()\n",
    "\n"
   ]
  },
  {
   "cell_type": "code",
   "execution_count": 5,
   "metadata": {},
   "outputs": [],
   "source": [
    "def calculate_overall_median_iqr(merged_df):\n",
    "    # Aggregate unique predicted_Combined_MP values per File_ID\n",
    "    unique_predicted_per_file = merged_df.drop_duplicates(subset=['File_ID', 'predicted_Combined_MP'])\n",
    "    \n",
    "    # Calculate median and IQR from these unique values\n",
    "    overall_median = unique_predicted_per_file['predicted_Combined_MP'].median()\n",
    "    Q1 = unique_predicted_per_file['predicted_Combined_MP'].quantile(0.25)\n",
    "    Q3 = unique_predicted_per_file['predicted_Combined_MP'].quantile(0.75)\n",
    "    overall_iqr = Q3 - Q1\n",
    "\n",
    "    # Print the results\n",
    "    print(f\"Overall Median of Unique Predicted Combined_MP: {overall_median}\")\n",
    "    print(f\"Overall IQR of Unique Predicted Combined_MP: {overall_iqr}\")    \n",
    "    \n",
    "    return overall_median, overall_iqr\n",
    "\n",
    "def plot_MP_histogram(merged_df):\n",
    "\n",
    "    # Check if 'Combined_MP' is in the DataFrame\n",
    "    if 'Combined_MP' not in merged_df.columns:\n",
    "        print(\"The DataFrame does not contain 'Combined_MP'. Please ensure predictions have been made.\")\n",
    "        return\n",
    "\n",
    "    # Remove duplicates to ensure each file_id is represented once\n",
    "    unique_file_id_df = merged_df.drop_duplicates(subset=['File_ID'])\n",
    "\n",
    "    # Plotting the histogram\n",
    "    plt.figure(figsize=(10, 6))\n",
    "    plt.hist(unique_file_id_df['Combined_MP'], bins=100, color='blue', edgecolor='black')\n",
    "    plt.title('Distribution of Combined_MP for Unique File_IDs')\n",
    "    plt.xlabel('Combined_MP')\n",
    "    plt.ylabel('Frequency')\n",
    "    plt.grid(True)\n",
    "    plt.show()\n",
    "\n",
    "def plot_regression_results(merged_df):\n",
    "    \"\"\"\n",
    "    Plots the actual vs. predicted Combined_MP values from the regression analysis.\n",
    "    \n",
    "    Parameters:\n",
    "    - merged_df: DataFrame containing both actual and predicted Combined_MP values.\n",
    "    \"\"\"\n",
    "    # Scatter plot of actual vs. predicted Combined_MP\n",
    "    plt.figure(figsize=(10, 6))\n",
    "    sns.scatterplot(x='Combined_MP', y='predicted_Combined_MP', data=merged_df, alpha=0.6)\n",
    "    \n",
    "    # Calculate limits for the plot\n",
    "    min_val = min(merged_df['Combined_MP'].min(), merged_df['predicted_Combined_MP'].min())\n",
    "    max_val = max(merged_df['Combined_MP'].max(), merged_df['predicted_Combined_MP'].max())\n",
    "    \n",
    "    # Draw line for perfect predictions\n",
    "    plt.plot([min_val, max_val], [min_val, max_val], 'r--', lw=2)\n",
    "    \n",
    "    plt.title('Original vs. Adjusted MP')\n",
    "    plt.xlabel('Original MP (unadjusted)')\n",
    "    plt.ylabel('Adjusted MP (age, height, sex)')\n",
    "    plt.grid(True)\n",
    "    plt.show()"
   ]
  },
  {
   "cell_type": "code",
   "execution_count": 6,
   "metadata": {},
   "outputs": [],
   "source": [
    "def create_reward_group(demographic_df, combined_df):\n",
    "    merged_df = pd.merge(combined_df, demographic_df, on='File_ID', how='left')\n",
    "    merged_df.dropna(subset=['Combined_MP', 'age', 'sex', 'height'], inplace=True)\n",
    "    \n",
    "    merged_df['sex'] = merged_df['sex'].astype(int)\n",
    "    merged_df['age'] = merged_df['age'].astype(int)\n",
    "    merged_df['height'] = merged_df['height'].round(1)\n",
    "    \n",
    "    age_bins = [0, 40, 60, 80, float('inf')]\n",
    "    age_labels = ['~40', '40~60', '60~80', '80~']\n",
    "    merged_df['age_group'] = pd.cut(merged_df['age'], bins=age_bins, labels=age_labels, right=False)\n",
    "    \n",
    "    # Apply height bins and labels based on sex directly within the apply method\n",
    "    def apply_height_group(row):\n",
    "        if row['sex'] == 0:  # Female\n",
    "            bins = [0, 150, 160, 170, float('inf')]\n",
    "            labels = ['<150', '150~160', '160~170', '>170']\n",
    "        else:  # Male\n",
    "            bins = [0, 160, 170, 180, float('inf')]\n",
    "            labels = ['<160', '160~170', '170~180', '>180']\n",
    "        # Find the index of the bin to which the height belongs\n",
    "        bin_index = np.digitize(row['height'], bins) - 1  # Adjust index\n",
    "        return labels[bin_index]\n",
    "\n",
    "    merged_df['height_group'] = merged_df.apply(apply_height_group, axis=1)\n",
    "    \n",
    "    # Construct reward_group combining sex, age_group, and height_group\n",
    "    merged_df['reward_group'] = merged_df.apply(lambda row: f\"{('F' if row['sex'] == 0 else 'M')}_{row['age_group']}_{row['height_group']}\", axis=1)\n",
    "    \n",
    "    # Map each unique reward_group to an ID\n",
    "    group_mapping = {group: idx for idx, group in enumerate(merged_df['reward_group'].unique(), start=1)}\n",
    "    merged_df['reward_group_id'] = merged_df['reward_group'].map(group_mapping)\n",
    "\n",
    "    return merged_df\n",
    "\n",
    "def create_action_groups(df):\n",
    "    check_columns = ['RR', 'TV', 'PEEP']\n",
    "    df = df.dropna(subset=check_columns).copy()\n",
    "\n",
    "    # Define bins for each action column\n",
    "    rr_bins = [-np.inf, 5, 10, 15, 20, np.inf]\n",
    "    tv_bins = [-np.inf, 0.1, 0.3, 0.5, np.inf]\n",
    "    peep_bins = [-np.inf, 5, 8, np.inf]\n",
    "    \n",
    "    # Define labels for the bins (optional, for clarity)\n",
    "    rr_labels = ['~5', '5~10', '10~15', '15~20', '20~']\n",
    "    tv_labels = ['~0.1', '0.1~0.3', '0.3~0.5', '0.5~']\n",
    "    peep_labels = ['<5', '5~8', '>8']\n",
    "    \n",
    "    # Categorize each action column into bins\n",
    "    df['RR_group'] = pd.cut(df['RR'], bins=rr_bins, labels=rr_labels)\n",
    "    df['TV_group'] = pd.cut(df['TV'], bins=tv_bins, labels=tv_labels)\n",
    "    df['PEEP_group'] = pd.cut(df['PEEP'], bins=peep_bins, labels=peep_labels)\n",
    "    \n",
    "    # Combine categorized groups into a single column to represent action groups\n",
    "    df['action_groups'] = df['RR_group'].astype(str) + \"_\" + df['TV_group'].astype(str) + \"_\" + df['PEEP_group'].astype(str)\n",
    "\n",
    "    # Assign numbers to each unique action_group to create action_group_ids\n",
    "    df['action_group_ids'], _ = pd.factorize(df['action_groups'])\n",
    "\n",
    "    return df\n",
    "\n",
    "def create_subgroups(demographic_df, combined_df):\n",
    "    temp_df = create_reward_group(demographic_df, combined_df)\n",
    "    df = create_action_groups(temp_df)\n",
    "    return df\n",
    "\n",
    "def calculate_subgroup_statistics(merged_df):\n",
    "    # Ensure 'Combined_MP' is in a numeric data type\n",
    "    merged_df['Combined_MP'] = pd.to_numeric(merged_df['Combined_MP'], errors='coerce')\n",
    "    \n",
    "    # Group by 'group' and calculate the requested statistics for 'Combined_MP'\n",
    "    group_stats = merged_df.groupby('reward_group')['Combined_MP'].quantile([0.25, 0.75]).unstack()\n",
    "\n",
    "    # Create a dictionary to store the results\n",
    "    stats_dict = {}\n",
    "    \n",
    "    # Populate the dictionary with the group as the key and a list of [Q1, Q3] as the value\n",
    "    for group in group_stats.index:\n",
    "        stats_dict[group] = [group_stats.loc[group, 0.25], group_stats.loc[group, 0.75]]\n",
    "    \n",
    "    return stats_dict\n",
    "\n",
    "def assign_dynamic_rewards(row, reward_criteria):\n",
    "    # Extract the group for this row\n",
    "    group = row['reward_group']\n",
    "    \n",
    "    # Extract the Q1 and Q3 values for this group from the reward criteria\n",
    "    q1, q3 = reward_criteria.get(group, [None, None])\n",
    "    \n",
    "    # Initialize reward to 0\n",
    "    reward = 0\n",
    "\n",
    "    combined_mp = row['Combined_MP']\n",
    "\n",
    "    # Check if the group is not found in the criteria, or Q1/Q3 values are missing\n",
    "    if pd.isnull(q1) or pd.isnull(q3):\n",
    "        return 0  # Adjust this as needed\n",
    "    \n",
    "    # Calculate the reward based on distance from Q1 and Q3\n",
    "    if combined_mp < q1:\n",
    "        # Calculate the distance from Q1 and assign penalty accordingly\n",
    "        distance = q1 - combined_mp\n",
    "        reward = -(distance/2)  # Caps the penalty to -4 for distance >= 4\n",
    "    elif combined_mp > q3:\n",
    "        # Calculate the distance from Q3 and assign penalty accordingly\n",
    "        distance = combined_mp - q3\n",
    "        reward = -min(distance, 5)  # Caps the penalty to -5 for distance >= 5\n",
    "    \n",
    "    return reward\n",
    "\n",
    "def get_dataset(df, reward_criteria):\n",
    "\n",
    "    # Columns to check for NaN values\n",
    "    check_columns = ['MV', 'RR', 'TV', 'PEEP', 'Peak Pressure', 'Plateau Pressure', 'F', 'CO2', 'Compliance', 'Combined_MP']\n",
    "    \n",
    "    # Drop rows where any NaN values exist in the specified columns\n",
    "    df_cleaned = df.dropna(subset=check_columns).copy()\n",
    "\n",
    "    # Observation columns\n",
    "    observation_columns = ['MV', 'RR', 'TV', 'PEEP', 'Peak Pressure', 'Plateau Pressure', 'F', 'CO2', 'Compliance']\n",
    "    observations = df_cleaned[observation_columns].to_numpy()\n",
    "    \n",
    "    # Use action_group_ids for actions\n",
    "    actions = df_cleaned['action_group_ids'].to_numpy().reshape(-1, 1)\n",
    "    \n",
    "    # Apply the function to each row\n",
    "    df_cleaned['reward'] = df_cleaned.apply(lambda row: assign_dynamic_rewards(row, reward_criteria), axis=1)\n",
    "    rewards = df_cleaned['reward'].to_numpy().reshape(-1, 1)\n",
    "\n",
    "    # Initialize 'Terminal_Index' to 0 for all rows and mark the last occurrence as terminal\n",
    "    df_cleaned['Terminal_Index'] = 0\n",
    "    last_occurrences = df_cleaned.groupby('File_ID').tail(1).index\n",
    "    df_cleaned.loc[last_occurrences, 'Terminal_Index'] = 1\n",
    "    terminals = df_cleaned['Terminal_Index'].to_numpy().reshape(-1, 1)\n",
    "\n",
    "    return df_cleaned, observations, actions, rewards, terminals"
   ]
  },
  {
   "cell_type": "code",
   "execution_count": 7,
   "metadata": {},
   "outputs": [
    {
     "name": "stdout",
     "output_type": "stream",
     "text": [
      "Sampled 2297 files\n",
      "Got a total of 4384 vital files for MP research in 2017\n",
      "Got a total of 5465 vital files for MP research in 2018\n",
      "Got a total of 6724 vital files for MP research in 2019\n",
      "Got a total of 7545 vital files for MP research in 2020\n",
      "Got a total of 8938 vital files for MP research in 2021\n",
      "Got a total of 9776 vital files for MP research in 2022\n",
      "Got a total of 3993 vital files for MP research in 2023\n",
      "Total number of files: 46825\n",
      "File paths after filtering: 45465\n"
     ]
    }
   ],
   "source": [
    "years = range(17, 24)\n",
    "# Get sampled file paths through stratified sampling\n",
    "directory_paths = {year: f'../Data/VitalNPZ/{year}/' for year in range(17, 24)}\n",
    "sampled_file_paths = stratified_sampling_npz(directory_paths, sample_size=10)\n",
    "sampled_file_ids = [extract_file_id(fp) for fp in sampled_file_paths]\n",
    "file_names, file_paths, all_filenames, all_file_paths = collect_file_npz(years)\n",
    "print(f\"Total number of files: {len(all_file_paths)}\")\n",
    "\n",
    "# Read missing rate files.csv and save afe mr_files_df \n",
    "mr_files_df = pd.read_csv('../Results/Missing_Rate_Files.csv')\n",
    "necessary_file_paths = get_filtered_reformatted_filenames(mr_files_df, 0.2)\n",
    "print(f\"File paths after filtering: {len(necessary_file_paths)}\")\n",
    "\n",
    "# Load demographic data\n",
    "demographic_df = preprocess_demographic_data(\"ExcelFiles/Demographic_data_vitals.csv\")"
   ]
  },
  {
   "cell_type": "code",
   "execution_count": 8,
   "metadata": {},
   "outputs": [
    {
     "name": "stdout",
     "output_type": "stream",
     "text": [
      "Processing NPZ Files: 100%|██████████| 45465/45465 [13:30<00:00, 56.10it/s]\n"
     ]
    }
   ],
   "source": [
    "combined_df = process_all_npz_files(necessary_file_paths) "
   ]
  },
  {
   "cell_type": "code",
   "execution_count": 9,
   "metadata": {},
   "outputs": [],
   "source": [
    "# action_group_id_counts = action_df['action_group_ids'].value_counts().sort_index()\n",
    "# action_group_id_mapping = action_df[['action_groups', 'action_group_ids']].drop_duplicates().set_index('action_group_ids').sort_index()\n",
    "# action_group_counts = pd.merge(action_group_id_counts, action_group_id_mapping, how='outer', on='action_group_ids')\n",
    "# action_group_counts.to_csv(\"ExcelFiles/Action_group_counts.csv\")\n",
    "# action_group_counts"
   ]
  },
  {
   "cell_type": "code",
   "execution_count": 10,
   "metadata": {},
   "outputs": [
    {
     "name": "stdout",
     "output_type": "stream",
     "text": [
      "(47558405, 9) (47558405, 1) (47558405, 1) (47558405, 1)\n",
      "\u001b[2m2024-03-15 16:12.21\u001b[0m [\u001b[32m\u001b[1minfo     \u001b[0m] \u001b[1mSignatures have been automatically determined.\u001b[0m \u001b[36maction_signature\u001b[0m=\u001b[35mSignature(dtype=[dtype('int32')], shape=[(1,)])\u001b[0m \u001b[36mobservation_signature\u001b[0m=\u001b[35mSignature(dtype=[dtype('float32')], shape=[(9,)])\u001b[0m \u001b[36mreward_signature\u001b[0m=\u001b[35mSignature(dtype=[dtype('float32')], shape=[(1,)])\u001b[0m\n",
      "\u001b[2m2024-03-15 16:12.21\u001b[0m [\u001b[32m\u001b[1minfo     \u001b[0m] \u001b[1mAction-space has been automatically determined.\u001b[0m \u001b[36maction_space\u001b[0m=\u001b[35m<ActionSpace.DISCRETE: 2>\u001b[0m\n",
      "\u001b[2m2024-03-15 16:12.21\u001b[0m [\u001b[32m\u001b[1minfo     \u001b[0m] \u001b[1mAction size has been automatically determined.\u001b[0m \u001b[36maction_size\u001b[0m=\u001b[35m60\u001b[0m\n"
     ]
    }
   ],
   "source": [
    "merged_df = create_subgroups(demographic_df, combined_df)\n",
    "MP_Reward = calculate_subgroup_statistics(merged_df)\n",
    "\n",
    "df_dataset, observations, actions, rewards, terminals = get_dataset(merged_df, MP_Reward)  \n",
    "print(observations.shape, actions.shape, rewards.shape, terminals.shape)\n",
    "\n",
    "# Cast data to more memory-efficient types\n",
    "observations = observations.astype(np.float32)\n",
    "actions = actions.astype(np.int32)  \n",
    "rewards = rewards.astype(np.float32)  \n",
    "terminals = terminals.astype(np.int32)  \n",
    "\n",
    "# Creating the dataset with memory-efficient data types\n",
    "dataset = MDPDataset(\n",
    "    observations=observations,\n",
    "    actions=actions,\n",
    "    rewards=rewards,\n",
    "    terminals=terminals\n",
    ")"
   ]
  },
  {
   "cell_type": "code",
   "execution_count": 11,
   "metadata": {},
   "outputs": [
    {
     "name": "stderr",
     "output_type": "stream",
     "text": [
      "findfont: Font family 'Arial' not found.\n",
      "findfont: Font family 'Arial' not found.\n",
      "findfont: Font family 'Arial' not found.\n",
      "findfont: Font family 'Arial' not found.\n",
      "findfont: Font family 'Arial' not found.\n",
      "findfont: Font family 'Arial' not found.\n",
      "findfont: Font family 'Arial' not found.\n",
      "findfont: Font family 'Arial' not found.\n",
      "findfont: Font family 'Arial' not found.\n",
      "findfont: Font family 'Arial' not found.\n",
      "findfont: Font family 'Arial' not found.\n",
      "findfont: Font family 'Arial' not found.\n",
      "findfont: Font family 'Arial' not found.\n",
      "findfont: Font family 'Arial' not found.\n",
      "findfont: Font family 'Arial' not found.\n",
      "findfont: Font family 'Arial' not found.\n",
      "findfont: Font family 'Arial' not found.\n",
      "findfont: Font family 'Arial' not found.\n",
      "findfont: Font family 'Arial' not found.\n",
      "findfont: Font family 'Arial' not found.\n",
      "findfont: Font family 'Arial' not found.\n",
      "findfont: Font family 'Arial' not found.\n",
      "findfont: Font family 'Arial' not found.\n",
      "findfont: Font family 'Arial' not found.\n",
      "findfont: Font family 'Arial' not found.\n",
      "findfont: Font family 'Arial' not found.\n",
      "findfont: Font family 'Arial' not found.\n",
      "findfont: Font family 'Arial' not found.\n",
      "findfont: Font family 'Arial' not found.\n",
      "findfont: Font family 'Arial' not found.\n",
      "findfont: Font family 'Arial' not found.\n",
      "findfont: Font family 'Arial' not found.\n",
      "findfont: Font family 'Arial' not found.\n",
      "findfont: Font family 'Arial' not found.\n",
      "findfont: Font family 'Arial' not found.\n",
      "findfont: Font family 'Arial' not found.\n",
      "findfont: Font family 'Arial' not found.\n",
      "findfont: Font family 'Arial' not found.\n",
      "findfont: Font family 'Arial' not found.\n",
      "findfont: Font family 'Arial' not found.\n",
      "findfont: Font family 'Arial' not found.\n",
      "findfont: Font family 'Arial' not found.\n",
      "findfont: Font family 'Arial' not found.\n",
      "findfont: Font family 'Arial' not found.\n",
      "findfont: Font family 'Arial' not found.\n",
      "findfont: Font family 'Arial' not found.\n",
      "findfont: Font family 'Arial' not found.\n",
      "findfont: Font family 'Arial' not found.\n",
      "findfont: Font family 'Arial' not found.\n",
      "findfont: Font family 'Arial' not found.\n",
      "findfont: Font family 'Arial' not found.\n",
      "findfont: Font family 'Arial' not found.\n",
      "findfont: Font family 'Arial' not found.\n",
      "findfont: Font family 'Arial' not found.\n",
      "findfont: Font family 'Arial' not found.\n",
      "findfont: Font family 'Arial' not found.\n",
      "findfont: Font family 'Arial' not found.\n",
      "findfont: Font family 'Arial' not found.\n",
      "findfont: Font family 'Arial' not found.\n",
      "findfont: Font family 'Arial' not found.\n",
      "findfont: Font family 'Arial' not found.\n",
      "findfont: Font family 'Arial' not found.\n",
      "findfont: Font family 'Arial' not found.\n",
      "findfont: Font family 'Arial' not found.\n",
      "findfont: Font family 'Arial' not found.\n",
      "findfont: Font family 'Arial' not found.\n",
      "findfont: Font family 'Arial' not found.\n",
      "findfont: Font family 'Arial' not found.\n",
      "findfont: Font family 'Arial' not found.\n",
      "findfont: Font family 'Arial' not found.\n",
      "findfont: Font family 'Arial' not found.\n",
      "findfont: Font family 'Arial' not found.\n",
      "findfont: Font family 'Arial' not found.\n",
      "findfont: Font family 'Arial' not found.\n",
      "findfont: Font family 'Arial' not found.\n",
      "findfont: Font family 'Arial' not found.\n",
      "findfont: Font family 'Arial' not found.\n",
      "findfont: Font family 'Arial' not found.\n",
      "findfont: Font family 'Arial' not found.\n",
      "findfont: Font family 'Arial' not found.\n",
      "findfont: Font family 'Arial' not found.\n",
      "findfont: Font family 'Arial' not found.\n",
      "findfont: Font family 'Arial' not found.\n",
      "findfont: Font family 'Arial' not found.\n",
      "findfont: Font family 'Arial' not found.\n",
      "findfont: Font family 'Arial' not found.\n",
      "findfont: Font family 'Arial' not found.\n",
      "findfont: Font family 'Arial' not found.\n",
      "findfont: Font family 'Arial' not found.\n",
      "findfont: Font family 'Arial' not found.\n",
      "findfont: Font family 'Arial' not found.\n",
      "findfont: Font family 'Arial' not found.\n",
      "findfont: Font family 'Arial' not found.\n",
      "findfont: Font family 'Arial' not found.\n",
      "findfont: Font family 'Arial' not found.\n",
      "findfont: Font family 'Arial' not found.\n",
      "findfont: Font family 'Arial' not found.\n",
      "findfont: Font family 'Arial' not found.\n",
      "findfont: Font family 'Arial' not found.\n",
      "findfont: Font family 'Arial' not found.\n",
      "findfont: Font family 'Arial' not found.\n",
      "findfont: Font family 'Arial' not found.\n",
      "findfont: Font family 'Arial' not found.\n",
      "findfont: Font family 'Arial' not found.\n",
      "findfont: Font family 'Arial' not found.\n",
      "findfont: Font family 'Arial' not found.\n",
      "findfont: Font family 'Arial' not found.\n",
      "findfont: Font family 'Arial' not found.\n",
      "findfont: Font family 'Arial' not found.\n",
      "findfont: Font family 'Arial' not found.\n",
      "findfont: Font family 'Arial' not found.\n",
      "findfont: Font family 'Arial' not found.\n",
      "findfont: Font family 'Arial' not found.\n",
      "findfont: Font family 'Arial' not found.\n",
      "findfont: Font family 'Arial' not found.\n",
      "findfont: Font family 'Arial' not found.\n",
      "findfont: Font family 'Arial' not found.\n",
      "findfont: Font family 'Arial' not found.\n",
      "findfont: Font family 'Arial' not found.\n",
      "findfont: Font family 'Arial' not found.\n",
      "findfont: Font family 'Arial' not found.\n",
      "findfont: Font family 'Arial' not found.\n",
      "findfont: Font family 'Arial' not found.\n",
      "findfont: Font family 'Arial' not found.\n",
      "findfont: Font family 'Arial' not found.\n",
      "findfont: Font family 'Arial' not found.\n",
      "findfont: Font family 'Arial' not found.\n",
      "findfont: Font family 'Arial' not found.\n",
      "findfont: Font family 'Arial' not found.\n",
      "findfont: Font family 'Arial' not found.\n",
      "findfont: Font family 'Arial' not found.\n",
      "findfont: Font family 'Arial' not found.\n",
      "findfont: Font family 'Arial' not found.\n",
      "findfont: Font family 'Arial' not found.\n",
      "findfont: Font family 'Arial' not found.\n",
      "findfont: Font family 'Arial' not found.\n",
      "findfont: Font family 'Arial' not found.\n",
      "findfont: Font family 'Arial' not found.\n",
      "findfont: Font family 'Arial' not found.\n",
      "findfont: Font family 'Arial' not found.\n",
      "findfont: Font family 'Arial' not found.\n",
      "findfont: Font family 'Arial' not found.\n",
      "findfont: Font family 'Arial' not found.\n",
      "findfont: Font family 'Arial' not found.\n",
      "findfont: Font family 'Arial' not found.\n",
      "findfont: Font family 'Arial' not found.\n",
      "findfont: Font family 'Arial' not found.\n",
      "findfont: Font family 'Arial' not found.\n",
      "findfont: Font family 'Arial' not found.\n",
      "findfont: Font family 'Arial' not found.\n",
      "findfont: Font family 'Arial' not found.\n",
      "findfont: Font family 'Arial' not found.\n",
      "findfont: Font family 'Arial' not found.\n",
      "findfont: Font family 'Arial' not found.\n",
      "findfont: Font family 'Arial' not found.\n",
      "findfont: Font family 'Arial' not found.\n",
      "findfont: Font family 'Arial' not found.\n",
      "findfont: Font family 'Arial' not found.\n",
      "findfont: Font family 'Arial' not found.\n",
      "findfont: Font family 'Arial' not found.\n",
      "findfont: Font family 'Arial' not found.\n",
      "findfont: Font family 'Arial' not found.\n",
      "findfont: Font family 'Arial' not found.\n",
      "findfont: Font family 'Arial' not found.\n",
      "findfont: Font family 'Arial' not found.\n",
      "findfont: Font family 'Arial' not found.\n",
      "findfont: Font family 'Arial' not found.\n",
      "findfont: Font family 'Arial' not found.\n",
      "findfont: Font family 'Arial' not found.\n",
      "findfont: Font family 'Arial' not found.\n",
      "findfont: Font family 'Arial' not found.\n",
      "findfont: Font family 'Arial' not found.\n",
      "findfont: Font family 'Arial' not found.\n",
      "findfont: Font family 'Arial' not found.\n",
      "findfont: Font family 'Arial' not found.\n",
      "findfont: Font family 'Arial' not found.\n",
      "findfont: Font family 'Arial' not found.\n",
      "findfont: Font family 'Arial' not found.\n",
      "findfont: Font family 'Arial' not found.\n",
      "findfont: Font family 'Arial' not found.\n",
      "findfont: Font family 'Arial' not found.\n",
      "findfont: Font family 'Arial' not found.\n",
      "findfont: Font family 'Arial' not found.\n",
      "findfont: Font family 'Arial' not found.\n",
      "findfont: Font family 'Arial' not found.\n",
      "findfont: Font family 'Arial' not found.\n",
      "findfont: Font family 'Arial' not found.\n",
      "findfont: Font family 'Arial' not found.\n",
      "findfont: Font family 'Arial' not found.\n",
      "findfont: Font family 'Arial' not found.\n",
      "findfont: Font family 'Arial' not found.\n",
      "findfont: Font family 'Arial' not found.\n",
      "findfont: Font family 'Arial' not found.\n",
      "findfont: Font family 'Arial' not found.\n",
      "findfont: Font family 'Arial' not found.\n",
      "findfont: Font family 'Arial' not found.\n",
      "findfont: Font family 'Arial' not found.\n",
      "findfont: Font family 'Arial' not found.\n",
      "findfont: Font family 'Arial' not found.\n",
      "findfont: Font family 'Arial' not found.\n",
      "findfont: Font family 'Arial' not found.\n",
      "findfont: Font family 'Arial' not found.\n",
      "findfont: Font family 'Arial' not found.\n",
      "findfont: Font family 'Arial' not found.\n",
      "findfont: Font family 'Arial' not found.\n",
      "findfont: Font family 'Arial' not found.\n",
      "findfont: Font family 'Arial' not found.\n",
      "findfont: Font family 'Arial' not found.\n",
      "findfont: Font family 'Arial' not found.\n",
      "findfont: Font family 'Arial' not found.\n",
      "findfont: Font family 'Arial' not found.\n",
      "findfont: Font family 'Arial' not found.\n",
      "findfont: Font family 'Arial' not found.\n",
      "findfont: Font family 'Arial' not found.\n",
      "findfont: Font family 'Arial' not found.\n",
      "findfont: Font family 'Arial' not found.\n",
      "findfont: Font family 'Arial' not found.\n",
      "findfont: Font family 'Arial' not found.\n",
      "findfont: Font family 'Arial' not found.\n",
      "findfont: Font family 'Arial' not found.\n",
      "findfont: Font family 'Arial' not found.\n",
      "findfont: Font family 'Arial' not found.\n",
      "findfont: Font family 'Arial' not found.\n",
      "findfont: Font family 'Arial' not found.\n",
      "findfont: Font family 'Arial' not found.\n",
      "findfont: Font family 'Arial' not found.\n",
      "findfont: Font family 'Arial' not found.\n",
      "findfont: Font family 'Arial' not found.\n",
      "findfont: Font family 'Arial' not found.\n",
      "findfont: Font family 'Arial' not found.\n",
      "findfont: Font family 'Arial' not found.\n",
      "findfont: Font family 'Arial' not found.\n",
      "findfont: Font family 'Arial' not found.\n",
      "findfont: Font family 'Arial' not found.\n",
      "findfont: Font family 'Arial' not found.\n",
      "findfont: Font family 'Arial' not found.\n",
      "findfont: Font family 'Arial' not found.\n",
      "findfont: Font family 'Arial' not found.\n",
      "findfont: Font family 'Arial' not found.\n",
      "findfont: Font family 'Arial' not found.\n",
      "findfont: Font family 'Arial' not found.\n",
      "findfont: Font family 'Arial' not found.\n",
      "findfont: Font family 'Arial' not found.\n",
      "findfont: Font family 'Arial' not found.\n"
     ]
    },
    {
     "data": {
      "image/png": "[encoded data removed]",
      "text/plain": [
       "<Figure size 1500x2000 with 2 Axes>"
      ]
     },
     "metadata": {},
     "output_type": "display_data"
    }
   ],
   "source": [
    "def plot_histograms_with_ids(df):\n",
    "    # Count the number of rows for each unique group ID\n",
    "    action_group_id_counts = df['action_group_ids'].value_counts().sort_index()\n",
    "    reward_group_id_counts = df['reward_group_id'].value_counts().sort_index()\n",
    "\n",
    "    # Create mappings for group names to their IDs\n",
    "    action_group_id_mapping = df[['action_groups', 'action_group_ids']].drop_duplicates().set_index('action_group_ids').sort_index()\n",
    "    reward_group_id_mapping = df[['reward_group', 'reward_group_id']].drop_duplicates().set_index('reward_group_id').sort_index()\n",
    "\n",
    "    # Plotting\n",
    "    fig, ax = plt.subplots(2, 1, figsize=(15, 20))\n",
    "\n",
    "    # Action Groups Histogram\n",
    "    action_group_id_counts.plot(kind='bar', ax=ax[0], color='skyblue')\n",
    "    ax[0].set_title('Action Groups Count by ID')\n",
    "    ax[0].set_xlabel('Action Group IDs')\n",
    "    ax[0].set_ylabel('Counts')\n",
    "    ax[0].set_xticklabels(action_group_id_counts.index)\n",
    "\n",
    "    # Reward Group Histogram\n",
    "    reward_group_id_counts.plot(kind='bar', ax=ax[1], color='lightgreen')\n",
    "    ax[1].set_title('Reward Groups Count by ID')\n",
    "    ax[1].set_xlabel('Reward Group IDs')\n",
    "    ax[1].set_ylabel('Counts')\n",
    "    ax[1].set_xticklabels(reward_group_id_counts.index)\n",
    "\n",
    "    plt.tight_layout()\n",
    "    plt.show()\n",
    "\n",
    "    return action_group_id_mapping, reward_group_id_mapping\n",
    "\n",
    "Unique_df = df_dataset.drop_duplicates(subset=['File_ID'], keep='last')\n",
    "\n",
    "action_group_id_mapping, reward_group_id_mapping = plot_histograms_with_ids(Unique_df)\n",
    "\n",
    "# Display mappings\n",
    "# display(action_group_id_mapping)\n",
    "# display(reward_group_id_mapping)"
   ]
  },
  {
   "cell_type": "code",
   "execution_count": 12,
   "metadata": {},
   "outputs": [
    {
     "data": {
      "text/html": [
       "<div>\n",
       "<style scoped>\n",
       "    .dataframe tbody tr th:only-of-type {\n",
       "        vertical-align: middle;\n",
       "    }\n",
       "\n",
       "    .dataframe tbody tr th {\n",
       "        vertical-align: top;\n",
       "    }\n",
       "\n",
       "    .dataframe thead th {\n",
       "        text-align: right;\n",
       "    }\n",
       "</style>\n",
       "<table border=\"1\" class=\"dataframe\">\n",
       "  <thead>\n",
       "    <tr style=\"text-align: right;\">\n",
       "      <th></th>\n",
       "      <th>action_groups</th>\n",
       "    </tr>\n",
       "    <tr>\n",
       "      <th>action_group_ids</th>\n",
       "      <th></th>\n",
       "    </tr>\n",
       "  </thead>\n",
       "  <tbody>\n",
       "    <tr>\n",
       "      <th>0</th>\n",
       "      <td>5~10_0.3~0.5_&lt;5</td>\n",
       "    </tr>\n",
       "    <tr>\n",
       "      <th>1</th>\n",
       "      <td>10~15_0.3~0.5_&lt;5</td>\n",
       "    </tr>\n",
       "    <tr>\n",
       "      <th>2</th>\n",
       "      <td>10~15_0.3~0.5_5~8</td>\n",
       "    </tr>\n",
       "    <tr>\n",
       "      <th>3</th>\n",
       "      <td>5~10_0.3~0.5_5~8</td>\n",
       "    </tr>\n",
       "    <tr>\n",
       "      <th>4</th>\n",
       "      <td>~5_0.3~0.5_&lt;5</td>\n",
       "    </tr>\n",
       "    <tr>\n",
       "      <th>5</th>\n",
       "      <td>15~20_0.3~0.5_5~8</td>\n",
       "    </tr>\n",
       "    <tr>\n",
       "      <th>6</th>\n",
       "      <td>15~20_0.3~0.5_&lt;5</td>\n",
       "    </tr>\n",
       "    <tr>\n",
       "      <th>7</th>\n",
       "      <td>10~15_0.1~0.3_5~8</td>\n",
       "    </tr>\n",
       "    <tr>\n",
       "      <th>8</th>\n",
       "      <td>5~10_0.1~0.3_5~8</td>\n",
       "    </tr>\n",
       "    <tr>\n",
       "      <th>9</th>\n",
       "      <td>15~20_0.1~0.3_5~8</td>\n",
       "    </tr>\n",
       "    <tr>\n",
       "      <th>10</th>\n",
       "      <td>10~15_0.5~_&lt;5</td>\n",
       "    </tr>\n",
       "    <tr>\n",
       "      <th>11</th>\n",
       "      <td>15~20_0.5~_&lt;5</td>\n",
       "    </tr>\n",
       "    <tr>\n",
       "      <th>12</th>\n",
       "      <td>~5_0.3~0.5_5~8</td>\n",
       "    </tr>\n",
       "    <tr>\n",
       "      <th>13</th>\n",
       "      <td>15~20_0.3~0.5_&gt;8</td>\n",
       "    </tr>\n",
       "    <tr>\n",
       "      <th>14</th>\n",
       "      <td>10~15_0.5~_5~8</td>\n",
       "    </tr>\n",
       "    <tr>\n",
       "      <th>15</th>\n",
       "      <td>5~10_0.5~_5~8</td>\n",
       "    </tr>\n",
       "    <tr>\n",
       "      <th>16</th>\n",
       "      <td>10~15_0.1~0.3_&lt;5</td>\n",
       "    </tr>\n",
       "    <tr>\n",
       "      <th>17</th>\n",
       "      <td>20~_0.3~0.5_&lt;5</td>\n",
       "    </tr>\n",
       "    <tr>\n",
       "      <th>18</th>\n",
       "      <td>10~15_~0.1_&lt;5</td>\n",
       "    </tr>\n",
       "    <tr>\n",
       "      <th>19</th>\n",
       "      <td>15~20_0.1~0.3_&lt;5</td>\n",
       "    </tr>\n",
       "    <tr>\n",
       "      <th>20</th>\n",
       "      <td>5~10_0.5~_&lt;5</td>\n",
       "    </tr>\n",
       "    <tr>\n",
       "      <th>21</th>\n",
       "      <td>5~10_0.1~0.3_&lt;5</td>\n",
       "    </tr>\n",
       "    <tr>\n",
       "      <th>22</th>\n",
       "      <td>20~_0.1~0.3_&lt;5</td>\n",
       "    </tr>\n",
       "    <tr>\n",
       "      <th>24</th>\n",
       "      <td>~5_0.1~0.3_5~8</td>\n",
       "    </tr>\n",
       "    <tr>\n",
       "      <th>25</th>\n",
       "      <td>20~_0.3~0.5_5~8</td>\n",
       "    </tr>\n",
       "    <tr>\n",
       "      <th>26</th>\n",
       "      <td>5~10_0.3~0.5_&gt;8</td>\n",
       "    </tr>\n",
       "    <tr>\n",
       "      <th>27</th>\n",
       "      <td>10~15_0.3~0.5_&gt;8</td>\n",
       "    </tr>\n",
       "    <tr>\n",
       "      <th>28</th>\n",
       "      <td>15~20_0.5~_5~8</td>\n",
       "    </tr>\n",
       "    <tr>\n",
       "      <th>29</th>\n",
       "      <td>20~_0.5~_5~8</td>\n",
       "    </tr>\n",
       "    <tr>\n",
       "      <th>30</th>\n",
       "      <td>20~_0.5~_&lt;5</td>\n",
       "    </tr>\n",
       "    <tr>\n",
       "      <th>31</th>\n",
       "      <td>15~20_0.5~_&gt;8</td>\n",
       "    </tr>\n",
       "    <tr>\n",
       "      <th>32</th>\n",
       "      <td>10~15_0.5~_&gt;8</td>\n",
       "    </tr>\n",
       "    <tr>\n",
       "      <th>33</th>\n",
       "      <td>20~_0.3~0.5_&gt;8</td>\n",
       "    </tr>\n",
       "    <tr>\n",
       "      <th>34</th>\n",
       "      <td>10~15_0.1~0.3_&gt;8</td>\n",
       "    </tr>\n",
       "    <tr>\n",
       "      <th>35</th>\n",
       "      <td>15~20_0.1~0.3_&gt;8</td>\n",
       "    </tr>\n",
       "    <tr>\n",
       "      <th>36</th>\n",
       "      <td>20~_~0.1_&lt;5</td>\n",
       "    </tr>\n",
       "    <tr>\n",
       "      <th>37</th>\n",
       "      <td>15~20_~0.1_&lt;5</td>\n",
       "    </tr>\n",
       "    <tr>\n",
       "      <th>38</th>\n",
       "      <td>5~10_0.1~0.3_&gt;8</td>\n",
       "    </tr>\n",
       "    <tr>\n",
       "      <th>39</th>\n",
       "      <td>20~_0.5~_&gt;8</td>\n",
       "    </tr>\n",
       "    <tr>\n",
       "      <th>40</th>\n",
       "      <td>20~_0.1~0.3_&gt;8</td>\n",
       "    </tr>\n",
       "    <tr>\n",
       "      <th>41</th>\n",
       "      <td>20~_0.1~0.3_5~8</td>\n",
       "    </tr>\n",
       "    <tr>\n",
       "      <th>44</th>\n",
       "      <td>5~10_0.5~_&gt;8</td>\n",
       "    </tr>\n",
       "    <tr>\n",
       "      <th>45</th>\n",
       "      <td>10~15_~0.1_5~8</td>\n",
       "    </tr>\n",
       "    <tr>\n",
       "      <th>46</th>\n",
       "      <td>15~20_~0.1_5~8</td>\n",
       "    </tr>\n",
       "    <tr>\n",
       "      <th>47</th>\n",
       "      <td>5~10_~0.1_&gt;8</td>\n",
       "    </tr>\n",
       "    <tr>\n",
       "      <th>48</th>\n",
       "      <td>5~10_~0.1_5~8</td>\n",
       "    </tr>\n",
       "    <tr>\n",
       "      <th>50</th>\n",
       "      <td>10~15_~0.1_&gt;8</td>\n",
       "    </tr>\n",
       "    <tr>\n",
       "      <th>51</th>\n",
       "      <td>15~20_~0.1_&gt;8</td>\n",
       "    </tr>\n",
       "    <tr>\n",
       "      <th>52</th>\n",
       "      <td>20~_~0.1_5~8</td>\n",
       "    </tr>\n",
       "    <tr>\n",
       "      <th>53</th>\n",
       "      <td>5~10_~0.1_&lt;5</td>\n",
       "    </tr>\n",
       "    <tr>\n",
       "      <th>54</th>\n",
       "      <td>20~_~0.1_&gt;8</td>\n",
       "    </tr>\n",
       "    <tr>\n",
       "      <th>55</th>\n",
       "      <td>~5_~0.1_&lt;5</td>\n",
       "    </tr>\n",
       "    <tr>\n",
       "      <th>58</th>\n",
       "      <td>~5_0.1~0.3_&gt;8</td>\n",
       "    </tr>\n",
       "  </tbody>\n",
       "</table>\n",
       "</div>"
      ],
      "text/plain": [
       "                      action_groups\n",
       "action_group_ids                   \n",
       "0                   5~10_0.3~0.5_<5\n",
       "1                  10~15_0.3~0.5_<5\n",
       "2                 10~15_0.3~0.5_5~8\n",
       "3                  5~10_0.3~0.5_5~8\n",
       "4                     ~5_0.3~0.5_<5\n",
       "5                 15~20_0.3~0.5_5~8\n",
       "6                  15~20_0.3~0.5_<5\n",
       "7                 10~15_0.1~0.3_5~8\n",
       "8                  5~10_0.1~0.3_5~8\n",
       "9                 15~20_0.1~0.3_5~8\n",
       "10                    10~15_0.5~_<5\n",
       "11                    15~20_0.5~_<5\n",
       "12                   ~5_0.3~0.5_5~8\n",
       "13                 15~20_0.3~0.5_>8\n",
       "14                   10~15_0.5~_5~8\n",
       "15                    5~10_0.5~_5~8\n",
       "16                 10~15_0.1~0.3_<5\n",
       "17                   20~_0.3~0.5_<5\n",
       "18                    10~15_~0.1_<5\n",
       "19                 15~20_0.1~0.3_<5\n",
       "20                     5~10_0.5~_<5\n",
       "21                  5~10_0.1~0.3_<5\n",
       "22                   20~_0.1~0.3_<5\n",
       "24                   ~5_0.1~0.3_5~8\n",
       "25                  20~_0.3~0.5_5~8\n",
       "26                  5~10_0.3~0.5_>8\n",
       "27                 10~15_0.3~0.5_>8\n",
       "28                   15~20_0.5~_5~8\n",
       "29                     20~_0.5~_5~8\n",
       "30                      20~_0.5~_<5\n",
       "31                    15~20_0.5~_>8\n",
       "32                    10~15_0.5~_>8\n",
       "33                   20~_0.3~0.5_>8\n",
       "34                 10~15_0.1~0.3_>8\n",
       "35                 15~20_0.1~0.3_>8\n",
       "36                      20~_~0.1_<5\n",
       "37                    15~20_~0.1_<5\n",
       "38                  5~10_0.1~0.3_>8\n",
       "39                      20~_0.5~_>8\n",
       "40                   20~_0.1~0.3_>8\n",
       "41                  20~_0.1~0.3_5~8\n",
       "44                     5~10_0.5~_>8\n",
       "45                   10~15_~0.1_5~8\n",
       "46                   15~20_~0.1_5~8\n",
       "47                     5~10_~0.1_>8\n",
       "48                    5~10_~0.1_5~8\n",
       "50                    10~15_~0.1_>8\n",
       "51                    15~20_~0.1_>8\n",
       "52                     20~_~0.1_5~8\n",
       "53                     5~10_~0.1_<5\n",
       "54                      20~_~0.1_>8\n",
       "55                       ~5_~0.1_<5\n",
       "58                    ~5_0.1~0.3_>8"
      ]
     },
     "execution_count": 12,
     "metadata": {},
     "output_type": "execute_result"
    }
   ],
   "source": [
    "action_group_id_mapping.to_csv('../Results/Action_Group_ID_Mapping.csv')\n",
    "reward_group_id_mapping.to_csv('../Results/Reward_Group_ID_Mapping.csv')\n",
    "action_group_id_mapping"
   ]
  },
  {
   "cell_type": "code",
   "execution_count": 13,
   "metadata": {},
   "outputs": [
    {
     "name": "stdout",
     "output_type": "stream",
     "text": [
      "\u001b[2m2024-03-15 16:12.49\u001b[0m [\u001b[32m\u001b[1minfo     \u001b[0m] \u001b[1mdataset info                  \u001b[0m \u001b[36mdataset_info\u001b[0m=\u001b[35mDatasetInfo(observation_signature=Signature(dtype=[dtype('float32')], shape=[(9,)]), action_signature=Signature(dtype=[dtype('int32')], shape=[(1,)]), reward_signature=Signature(dtype=[dtype('float32')], shape=[(1,)]), action_space=<ActionSpace.DISCRETE: 2>, action_size=60)\u001b[0m\n",
      "\u001b[2m2024-03-15 16:12.49\u001b[0m [\u001b[32m\u001b[1mdebug    \u001b[0m] \u001b[1mFitting observation scaler... \u001b[0m \u001b[36mobservation_scaler\u001b[0m=\u001b[35mstandard\u001b[0m\n",
      "\u001b[2m2024-03-15 16:46.50\u001b[0m [\u001b[32m\u001b[1minfo     \u001b[0m] \u001b[1mDirectory is created at d3rlpy_logs/DiscreteCQL_20240315164650\u001b[0m\n",
      "\u001b[2m2024-03-15 16:46.50\u001b[0m [\u001b[32m\u001b[1mdebug    \u001b[0m] \u001b[1mBuilding models...            \u001b[0m\n",
      "\u001b[2m2024-03-15 16:46.50\u001b[0m [\u001b[32m\u001b[1mdebug    \u001b[0m] \u001b[1mModels have been built.       \u001b[0m\n",
      "\u001b[2m2024-03-15 16:46.50\u001b[0m [\u001b[32m\u001b[1minfo     \u001b[0m] \u001b[1mParameters                    \u001b[0m \u001b[36mparams\u001b[0m=\u001b[35m{'observation_shape': [9], 'action_size': 60, 'config': {'type': 'discrete_cql', 'params': {'batch_size': 256, 'gamma': 0.99, 'observation_scaler': {'type': 'standard', 'params': {'mean': [6.149734740844974, 14.186244271648723, 0.4342922613289987, 4.709694727448951, 18.88232943965512, 17.442472917563155, 2.263324658525239, 34.89699256535237, 39.19199680033941], 'std': [1.4183265089577488, 2.5976533713385193, 0.06838374874193565, 2.4551997201275455, 4.638369055954587, 4.275140941743548, 1.3543199066043854, 3.050924515655214, 12.093905619081669], 'eps': 0.001}}, 'action_scaler': {'type': 'none', 'params': {}}, 'reward_scaler': {'type': 'none', 'params': {}}, 'learning_rate': 0.01, 'optim_factory': {'type': 'adam', 'params': {'betas': [0.9, 0.999], 'eps': 1e-08, 'weight_decay': 0, 'amsgrad': False}}, 'encoder_factory': {'type': 'default', 'params': {'activation': 'relu', 'use_batch_norm': False, 'dropout_rate': None}}, 'q_func_factory': {'type': 'mean', 'params': {'share_encoder': False}}, 'n_critics': 1, 'target_update_interval': 8000, 'alpha': 1.0}}}\u001b[0m\n"
     ]
    },
    {
     "data": {
      "application/vnd.jupyter.widget-view+json": {
       "model_id": "bb27f30d661b476092993452dfbc4294",
       "version_major": 2,
       "version_minor": 0
      },
      "text/plain": [
       "Epoch 1/100:   0%|          | 0/10000 [00:00<?, ?it/s]"
      ]
     },
     "metadata": {},
     "output_type": "display_data"
    },
    {
     "name": "stdout",
     "output_type": "stream",
     "text": [
      "\u001b[2m2024-03-15 16:48.48\u001b[0m [\u001b[32m\u001b[1minfo     \u001b[0m] \u001b[1mDiscreteCQL_20240315164650: epoch=1 step=10000\u001b[0m \u001b[36mepoch\u001b[0m=\u001b[35m1\u001b[0m \u001b[36mmetrics\u001b[0m=\u001b[35m{'time_sample_batch': 0.00819552025794983, 'time_algorithm_update': 0.00333391375541687, 'loss': 0.25359017201662065, 'td_loss': 0.17753243999704718, 'conservative_loss': 0.07605773192290216, 'time_step': 0.011673932313919068}\u001b[0m \u001b[36mstep\u001b[0m=\u001b[35m10000\u001b[0m\n",
      "\u001b[2m2024-03-15 16:48.48\u001b[0m [\u001b[32m\u001b[1minfo     \u001b[0m] \u001b[1mModel parameters are saved to d3rlpy_logs/DiscreteCQL_20240315164650/model_10000.d3\u001b[0m\n"
     ]
    },
    {
     "data": {
      "application/vnd.jupyter.widget-view+json": {
       "model_id": "8275020dbace4029a5aaaa8f6cf0f5d7",
       "version_major": 2,
       "version_minor": 0
      },
      "text/plain": [
       "Epoch 2/100:   0%|          | 0/10000 [00:00<?, ?it/s]"
      ]
     },
     "metadata": {},
     "output_type": "display_data"
    },
    {
     "name": "stdout",
     "output_type": "stream",
     "text": [
      "\u001b[2m2024-03-15 16:50.44\u001b[0m [\u001b[32m\u001b[1minfo     \u001b[0m] \u001b[1mDiscreteCQL_20240315164650: epoch=2 step=20000\u001b[0m \u001b[36mepoch\u001b[0m=\u001b[35m2\u001b[0m \u001b[36mmetrics\u001b[0m=\u001b[35m{'time_sample_batch': 0.00813341646194458, 'time_algorithm_update': 0.0032441372632980347, 'loss': 0.22415277972370387, 'td_loss': 0.1835301423445344, 'conservative_loss': 0.04062263729204424, 'time_step': 0.011513468003273011}\u001b[0m \u001b[36mstep\u001b[0m=\u001b[35m20000\u001b[0m\n",
      "\u001b[2m2024-03-15 16:50.44\u001b[0m [\u001b[32m\u001b[1minfo     \u001b[0m] \u001b[1mModel parameters are saved to d3rlpy_logs/DiscreteCQL_20240315164650/model_20000.d3\u001b[0m\n"
     ]
    },
    {
     "data": {
      "application/vnd.jupyter.widget-view+json": {
       "model_id": "b6cc0a4f879d4d89a373b4801acde93b",
       "version_major": 2,
       "version_minor": 0
      },
      "text/plain": [
       "Epoch 3/100:   0%|          | 0/10000 [00:00<?, ?it/s]"
      ]
     },
     "metadata": {},
     "output_type": "display_data"
    },
    {
     "name": "stdout",
     "output_type": "stream",
     "text": [
      "\u001b[2m2024-03-15 16:52.40\u001b[0m [\u001b[32m\u001b[1minfo     \u001b[0m] \u001b[1mDiscreteCQL_20240315164650: epoch=3 step=30000\u001b[0m \u001b[36mepoch\u001b[0m=\u001b[35m3\u001b[0m \u001b[36mmetrics\u001b[0m=\u001b[35m{'time_sample_batch': 0.0081768474817276, 'time_algorithm_update': 0.0032687942028045655, 'loss': 0.24007573556229472, 'td_loss': 0.2039944586969912, 'conservative_loss': 0.036081276720180175, 'time_step': 0.011578572678565978}\u001b[0m \u001b[36mstep\u001b[0m=\u001b[35m30000\u001b[0m\n",
      "\u001b[2m2024-03-15 16:52.40\u001b[0m [\u001b[32m\u001b[1minfo     \u001b[0m] \u001b[1mModel parameters are saved to d3rlpy_logs/DiscreteCQL_20240315164650/model_30000.d3\u001b[0m\n"
     ]
    },
    {
     "data": {
      "application/vnd.jupyter.widget-view+json": {
       "model_id": "477060342df14cf6b66723de196412d7",
       "version_major": 2,
       "version_minor": 0
      },
      "text/plain": [
       "Epoch 4/100:   0%|          | 0/10000 [00:00<?, ?it/s]"
      ]
     },
     "metadata": {},
     "output_type": "display_data"
    },
    {
     "name": "stdout",
     "output_type": "stream",
     "text": [
      "\u001b[2m2024-03-15 16:54.37\u001b[0m [\u001b[32m\u001b[1minfo     \u001b[0m] \u001b[1mDiscreteCQL_20240315164650: epoch=4 step=40000\u001b[0m \u001b[36mepoch\u001b[0m=\u001b[35m4\u001b[0m \u001b[36mmetrics\u001b[0m=\u001b[35m{'time_sample_batch': 0.008130639028549195, 'time_algorithm_update': 0.003293492007255554, 'loss': 0.2725813732616603, 'td_loss': 0.2387413564696908, 'conservative_loss': 0.03384001669685822, 'time_step': 0.0115618816614151}\u001b[0m \u001b[36mstep\u001b[0m=\u001b[35m40000\u001b[0m\n",
      "\u001b[2m2024-03-15 16:54.37\u001b[0m [\u001b[32m\u001b[1minfo     \u001b[0m] \u001b[1mModel parameters are saved to d3rlpy_logs/DiscreteCQL_20240315164650/model_40000.d3\u001b[0m\n"
     ]
    },
    {
     "data": {
      "application/vnd.jupyter.widget-view+json": {
       "model_id": "032abd4bb0134b29ab7ff182fab91b7f",
       "version_major": 2,
       "version_minor": 0
      },
      "text/plain": [
       "Epoch 5/100:   0%|          | 0/10000 [00:00<?, ?it/s]"
      ]
     },
     "metadata": {},
     "output_type": "display_data"
    },
    {
     "name": "stdout",
     "output_type": "stream",
     "text": [
      "\u001b[2m2024-03-15 16:56.33\u001b[0m [\u001b[32m\u001b[1minfo     \u001b[0m] \u001b[1mDiscreteCQL_20240315164650: epoch=5 step=50000\u001b[0m \u001b[36mepoch\u001b[0m=\u001b[35m5\u001b[0m \u001b[36mmetrics\u001b[0m=\u001b[35m{'time_sample_batch': 0.008142118287086487, 'time_algorithm_update': 0.003258976411819458, 'loss': 0.3025664433926344, 'td_loss': 0.27136652673706413, 'conservative_loss': 0.031199916593520904, 'time_step': 0.01154284052848816}\u001b[0m \u001b[36mstep\u001b[0m=\u001b[35m50000\u001b[0m\n",
      "\u001b[2m2024-03-15 16:56.33\u001b[0m [\u001b[32m\u001b[1minfo     \u001b[0m] \u001b[1mModel parameters are saved to d3rlpy_logs/DiscreteCQL_20240315164650/model_50000.d3\u001b[0m\n"
     ]
    },
    {
     "data": {
      "application/vnd.jupyter.widget-view+json": {
       "model_id": "7de2b19edf8a444583abc934b6731db7",
       "version_major": 2,
       "version_minor": 0
      },
      "text/plain": [
       "Epoch 6/100:   0%|          | 0/10000 [00:00<?, ?it/s]"
      ]
     },
     "metadata": {},
     "output_type": "display_data"
    },
    {
     "name": "stdout",
     "output_type": "stream",
     "text": [
      "\u001b[2m2024-03-15 16:58.29\u001b[0m [\u001b[32m\u001b[1minfo     \u001b[0m] \u001b[1mDiscreteCQL_20240315164650: epoch=6 step=60000\u001b[0m \u001b[36mepoch\u001b[0m=\u001b[35m6\u001b[0m \u001b[36mmetrics\u001b[0m=\u001b[35m{'time_sample_batch': 0.008161418890953063, 'time_algorithm_update': 0.003233884286880493, 'loss': 0.328705078291893, 'td_loss': 0.29831900042369963, 'conservative_loss': 0.030386077860242222, 'time_step': 0.01153598473072052}\u001b[0m \u001b[36mstep\u001b[0m=\u001b[35m60000\u001b[0m\n",
      "\u001b[2m2024-03-15 16:58.29\u001b[0m [\u001b[32m\u001b[1minfo     \u001b[0m] \u001b[1mModel parameters are saved to d3rlpy_logs/DiscreteCQL_20240315164650/model_60000.d3\u001b[0m\n"
     ]
    },
    {
     "data": {
      "application/vnd.jupyter.widget-view+json": {
       "model_id": "19fa9989fcbf4e14acbb3d5a4ecbc549",
       "version_major": 2,
       "version_minor": 0
      },
      "text/plain": [
       "Epoch 7/100:   0%|          | 0/10000 [00:00<?, ?it/s]"
      ]
     },
     "metadata": {},
     "output_type": "display_data"
    },
    {
     "name": "stdout",
     "output_type": "stream",
     "text": [
      "\u001b[2m2024-03-15 17:00.25\u001b[0m [\u001b[32m\u001b[1minfo     \u001b[0m] \u001b[1mDiscreteCQL_20240315164650: epoch=7 step=70000\u001b[0m \u001b[36mepoch\u001b[0m=\u001b[35m7\u001b[0m \u001b[36mmetrics\u001b[0m=\u001b[35m{'time_sample_batch': 0.00815853841304779, 'time_algorithm_update': 0.00327741436958313, 'loss': 0.3616520970121026, 'td_loss': 0.3304872847110033, 'conservative_loss': 0.03116481225792086, 'time_step': 0.011577504420280457}\u001b[0m \u001b[36mstep\u001b[0m=\u001b[35m70000\u001b[0m\n",
      "\u001b[2m2024-03-15 17:00.25\u001b[0m [\u001b[32m\u001b[1minfo     \u001b[0m] \u001b[1mModel parameters are saved to d3rlpy_logs/DiscreteCQL_20240315164650/model_70000.d3\u001b[0m\n"
     ]
    },
    {
     "data": {
      "application/vnd.jupyter.widget-view+json": {
       "model_id": "897532dc02634ba5ac544dc25eb120fa",
       "version_major": 2,
       "version_minor": 0
      },
      "text/plain": [
       "Epoch 8/100:   0%|          | 0/10000 [00:00<?, ?it/s]"
      ]
     },
     "metadata": {},
     "output_type": "display_data"
    },
    {
     "name": "stdout",
     "output_type": "stream",
     "text": [
      "\u001b[2m2024-03-15 17:02.22\u001b[0m [\u001b[32m\u001b[1minfo     \u001b[0m] \u001b[1mDiscreteCQL_20240315164650: epoch=8 step=80000\u001b[0m \u001b[36mepoch\u001b[0m=\u001b[35m8\u001b[0m \u001b[36mmetrics\u001b[0m=\u001b[35m{'time_sample_batch': 0.008145242285728455, 'time_algorithm_update': 0.0032785340785980227, 'loss': 0.4132106303393841, 'td_loss': 0.38304448116347195, 'conservative_loss': 0.030166149350843625, 'time_step': 0.011564603996276856}\u001b[0m \u001b[36mstep\u001b[0m=\u001b[35m80000\u001b[0m\n",
      "\u001b[2m2024-03-15 17:02.22\u001b[0m [\u001b[32m\u001b[1minfo     \u001b[0m] \u001b[1mModel parameters are saved to d3rlpy_logs/DiscreteCQL_20240315164650/model_80000.d3\u001b[0m\n"
     ]
    },
    {
     "data": {
      "application/vnd.jupyter.widget-view+json": {
       "model_id": "f56d907d740a44969102c38eb9d9864b",
       "version_major": 2,
       "version_minor": 0
      },
      "text/plain": [
       "Epoch 9/100:   0%|          | 0/10000 [00:00<?, ?it/s]"
      ]
     },
     "metadata": {},
     "output_type": "display_data"
    },
    {
     "name": "stdout",
     "output_type": "stream",
     "text": [
      "\u001b[2m2024-03-15 17:04.18\u001b[0m [\u001b[32m\u001b[1minfo     \u001b[0m] \u001b[1mDiscreteCQL_20240315164650: epoch=9 step=90000\u001b[0m \u001b[36mepoch\u001b[0m=\u001b[35m9\u001b[0m \u001b[36mmetrics\u001b[0m=\u001b[35m{'time_sample_batch': 0.008121551442146302, 'time_algorithm_update': 0.003252536416053772, 'loss': 0.4136744040220976, 'td_loss': 0.3861389660790563, 'conservative_loss': 0.027535438124794746, 'time_step': 0.011516321182250976}\u001b[0m \u001b[36mstep\u001b[0m=\u001b[35m90000\u001b[0m\n",
      "\u001b[2m2024-03-15 17:04.18\u001b[0m [\u001b[32m\u001b[1minfo     \u001b[0m] \u001b[1mModel parameters are saved to d3rlpy_logs/DiscreteCQL_20240315164650/model_90000.d3\u001b[0m\n"
     ]
    },
    {
     "data": {
      "application/vnd.jupyter.widget-view+json": {
       "model_id": "81710cb380b64a00a67c8356bd8e7867",
       "version_major": 2,
       "version_minor": 0
      },
      "text/plain": [
       "Epoch 10/100:   0%|          | 0/10000 [00:00<?, ?it/s]"
      ]
     },
     "metadata": {},
     "output_type": "display_data"
    },
    {
     "name": "stdout",
     "output_type": "stream",
     "text": [
      "\u001b[2m2024-03-15 17:06.14\u001b[0m [\u001b[32m\u001b[1minfo     \u001b[0m] \u001b[1mDiscreteCQL_20240315164650: epoch=10 step=100000\u001b[0m \u001b[36mepoch\u001b[0m=\u001b[35m10\u001b[0m \u001b[36mmetrics\u001b[0m=\u001b[35m{'time_sample_batch': 0.008115266752243042, 'time_algorithm_update': 0.0032527188777923583, 'loss': 0.4470456225171685, 'td_loss': 0.4188290607497096, 'conservative_loss': 0.0282165616159793, 'time_step': 0.011510017657279967}\u001b[0m \u001b[36mstep\u001b[0m=\u001b[35m100000\u001b[0m\n",
      "\u001b[2m2024-03-15 17:06.14\u001b[0m [\u001b[32m\u001b[1minfo     \u001b[0m] \u001b[1mModel parameters are saved to d3rlpy_logs/DiscreteCQL_20240315164650/model_100000.d3\u001b[0m\n"
     ]
    },
    {
     "data": {
      "application/vnd.jupyter.widget-view+json": {
       "model_id": "bcbda10bee794c5e8ca04d7c266d26ff",
       "version_major": 2,
       "version_minor": 0
      },
      "text/plain": [
       "Epoch 11/100:   0%|          | 0/10000 [00:00<?, ?it/s]"
      ]
     },
     "metadata": {},
     "output_type": "display_data"
    },
    {
     "name": "stdout",
     "output_type": "stream",
     "text": [
      "\u001b[2m2024-03-15 17:08.10\u001b[0m [\u001b[32m\u001b[1minfo     \u001b[0m] \u001b[1mDiscreteCQL_20240315164650: epoch=11 step=110000\u001b[0m \u001b[36mepoch\u001b[0m=\u001b[35m11\u001b[0m \u001b[36mmetrics\u001b[0m=\u001b[35m{'time_sample_batch': 0.008174879574775695, 'time_algorithm_update': 0.003278793406486511, 'loss': 0.5134358385398984, 'td_loss': 0.4825937783434987, 'conservative_loss': 0.030842060006340034, 'time_step': 0.011597314453125}\u001b[0m \u001b[36mstep\u001b[0m=\u001b[35m110000\u001b[0m\n",
      "\u001b[2m2024-03-15 17:08.10\u001b[0m [\u001b[32m\u001b[1minfo     \u001b[0m] \u001b[1mModel parameters are saved to d3rlpy_logs/DiscreteCQL_20240315164650/model_110000.d3\u001b[0m\n"
     ]
    },
    {
     "data": {
      "application/vnd.jupyter.widget-view+json": {
       "model_id": "2225fe9485084d789238a2ae0530e93e",
       "version_major": 2,
       "version_minor": 0
      },
      "text/plain": [
       "Epoch 12/100:   0%|          | 0/10000 [00:00<?, ?it/s]"
      ]
     },
     "metadata": {},
     "output_type": "display_data"
    },
    {
     "name": "stdout",
     "output_type": "stream",
     "text": [
      "\u001b[2m2024-03-15 17:10.07\u001b[0m [\u001b[32m\u001b[1minfo     \u001b[0m] \u001b[1mDiscreteCQL_20240315164650: epoch=12 step=120000\u001b[0m \u001b[36mepoch\u001b[0m=\u001b[35m12\u001b[0m \u001b[36mmetrics\u001b[0m=\u001b[35m{'time_sample_batch': 0.008221427702903747, 'time_algorithm_update': 0.0032809688091278077, 'loss': 0.5150827652424574, 'td_loss': 0.48585924105644224, 'conservative_loss': 0.02922352419317467, 'time_step': 0.011646175813674926}\u001b[0m \u001b[36mstep\u001b[0m=\u001b[35m120000\u001b[0m\n",
      "\u001b[2m2024-03-15 17:10.07\u001b[0m [\u001b[32m\u001b[1minfo     \u001b[0m] \u001b[1mModel parameters are saved to d3rlpy_logs/DiscreteCQL_20240315164650/model_120000.d3\u001b[0m\n"
     ]
    },
    {
     "data": {
      "application/vnd.jupyter.widget-view+json": {
       "model_id": "eb16144f940f45c6b3548c29e1fc654e",
       "version_major": 2,
       "version_minor": 0
      },
      "text/plain": [
       "Epoch 13/100:   0%|          | 0/10000 [00:00<?, ?it/s]"
      ]
     },
     "metadata": {},
     "output_type": "display_data"
    },
    {
     "name": "stdout",
     "output_type": "stream",
     "text": [
      "\u001b[2m2024-03-15 17:12.04\u001b[0m [\u001b[32m\u001b[1minfo     \u001b[0m] \u001b[1mDiscreteCQL_20240315164650: epoch=13 step=130000\u001b[0m \u001b[36mepoch\u001b[0m=\u001b[35m13\u001b[0m \u001b[36mmetrics\u001b[0m=\u001b[35m{'time_sample_batch': 0.008185179352760315, 'time_algorithm_update': 0.0032810471296310425, 'loss': 0.6242897887527943, 'td_loss': 0.5942404548540712, 'conservative_loss': 0.0300493336131447, 'time_step': 0.011613782739639282}\u001b[0m \u001b[36mstep\u001b[0m=\u001b[35m130000\u001b[0m\n",
      "\u001b[2m2024-03-15 17:12.04\u001b[0m [\u001b[32m\u001b[1minfo     \u001b[0m] \u001b[1mModel parameters are saved to d3rlpy_logs/DiscreteCQL_20240315164650/model_130000.d3\u001b[0m\n"
     ]
    },
    {
     "data": {
      "application/vnd.jupyter.widget-view+json": {
       "model_id": "c0b5cb00b93248089290f0cd739ab298",
       "version_major": 2,
       "version_minor": 0
      },
      "text/plain": [
       "Epoch 14/100:   0%|          | 0/10000 [00:00<?, ?it/s]"
      ]
     },
     "metadata": {},
     "output_type": "display_data"
    },
    {
     "name": "stdout",
     "output_type": "stream",
     "text": [
      "\u001b[2m2024-03-15 17:14.03\u001b[0m [\u001b[32m\u001b[1minfo     \u001b[0m] \u001b[1mDiscreteCQL_20240315164650: epoch=14 step=140000\u001b[0m \u001b[36mepoch\u001b[0m=\u001b[35m14\u001b[0m \u001b[36mmetrics\u001b[0m=\u001b[35m{'time_sample_batch': 0.008296157097816467, 'time_algorithm_update': 0.0033825363636016846, 'loss': 0.5975928419351578, 'td_loss': 0.5675861924737692, 'conservative_loss': 0.030006649661174743, 'time_step': 0.011830072832107543}\u001b[0m \u001b[36mstep\u001b[0m=\u001b[35m140000\u001b[0m\n",
      "\u001b[2m2024-03-15 17:14.03\u001b[0m [\u001b[32m\u001b[1minfo     \u001b[0m] \u001b[1mModel parameters are saved to d3rlpy_logs/DiscreteCQL_20240315164650/model_140000.d3\u001b[0m\n"
     ]
    },
    {
     "data": {
      "application/vnd.jupyter.widget-view+json": {
       "model_id": "238d31e3c6124774838cef7f7f4cb333",
       "version_major": 2,
       "version_minor": 0
      },
      "text/plain": [
       "Epoch 15/100:   0%|          | 0/10000 [00:00<?, ?it/s]"
      ]
     },
     "metadata": {},
     "output_type": "display_data"
    },
    {
     "name": "stdout",
     "output_type": "stream",
     "text": [
      "\u001b[2m2024-03-15 17:16.02\u001b[0m [\u001b[32m\u001b[1minfo     \u001b[0m] \u001b[1mDiscreteCQL_20240315164650: epoch=15 step=150000\u001b[0m \u001b[36mepoch\u001b[0m=\u001b[35m15\u001b[0m \u001b[36mmetrics\u001b[0m=\u001b[35m{'time_sample_batch': 0.008262348580360413, 'time_algorithm_update': 0.0033676629543304445, 'loss': 0.6217312345221638, 'td_loss': 0.5913063908711076, 'conservative_loss': 0.03042484359596856, 'time_step': 0.011779337072372437}\u001b[0m \u001b[36mstep\u001b[0m=\u001b[35m150000\u001b[0m\n",
      "\u001b[2m2024-03-15 17:16.02\u001b[0m [\u001b[32m\u001b[1minfo     \u001b[0m] \u001b[1mModel parameters are saved to d3rlpy_logs/DiscreteCQL_20240315164650/model_150000.d3\u001b[0m\n"
     ]
    },
    {
     "data": {
      "application/vnd.jupyter.widget-view+json": {
       "model_id": "6420979a98c64941b765e5e20ddfdb4a",
       "version_major": 2,
       "version_minor": 0
      },
      "text/plain": [
       "Epoch 16/100:   0%|          | 0/10000 [00:00<?, ?it/s]"
      ]
     },
     "metadata": {},
     "output_type": "display_data"
    },
    {
     "name": "stdout",
     "output_type": "stream",
     "text": [
      "\u001b[2m2024-03-15 17:17.58\u001b[0m [\u001b[32m\u001b[1minfo     \u001b[0m] \u001b[1mDiscreteCQL_20240315164650: epoch=16 step=160000\u001b[0m \u001b[36mepoch\u001b[0m=\u001b[35m16\u001b[0m \u001b[36mmetrics\u001b[0m=\u001b[35m{'time_sample_batch': 0.008129084849357605, 'time_algorithm_update': 0.003275985312461853, 'loss': 0.6420581787109375, 'td_loss': 0.6135631545513869, 'conservative_loss': 0.02849502424102975, 'time_step': 0.011551486015319825}\u001b[0m \u001b[36mstep\u001b[0m=\u001b[35m160000\u001b[0m\n",
      "\u001b[2m2024-03-15 17:17.58\u001b[0m [\u001b[32m\u001b[1minfo     \u001b[0m] \u001b[1mModel parameters are saved to d3rlpy_logs/DiscreteCQL_20240315164650/model_160000.d3\u001b[0m\n"
     ]
    },
    {
     "data": {
      "application/vnd.jupyter.widget-view+json": {
       "model_id": "6fc9f69ee8b247808fd4b4c693370634",
       "version_major": 2,
       "version_minor": 0
      },
      "text/plain": [
       "Epoch 17/100:   0%|          | 0/10000 [00:00<?, ?it/s]"
      ]
     },
     "metadata": {},
     "output_type": "display_data"
    },
    {
     "name": "stdout",
     "output_type": "stream",
     "text": [
      "\u001b[2m2024-03-15 17:19.55\u001b[0m [\u001b[32m\u001b[1minfo     \u001b[0m] \u001b[1mDiscreteCQL_20240315164650: epoch=17 step=170000\u001b[0m \u001b[36mepoch\u001b[0m=\u001b[35m17\u001b[0m \u001b[36mmetrics\u001b[0m=\u001b[35m{'time_sample_batch': 0.008149010252952575, 'time_algorithm_update': 0.0032908222436904906, 'loss': 0.6700448630496859, 'td_loss': 0.6418740304574371, 'conservative_loss': 0.028170832673885163, 'time_step': 0.011587211465835572}\u001b[0m \u001b[36mstep\u001b[0m=\u001b[35m170000\u001b[0m\n",
      "\u001b[2m2024-03-15 17:19.55\u001b[0m [\u001b[32m\u001b[1minfo     \u001b[0m] \u001b[1mModel parameters are saved to d3rlpy_logs/DiscreteCQL_20240315164650/model_170000.d3\u001b[0m\n"
     ]
    },
    {
     "data": {
      "application/vnd.jupyter.widget-view+json": {
       "model_id": "9a1fb6ae7b8f48deace03aea18b5e28e",
       "version_major": 2,
       "version_minor": 0
      },
      "text/plain": [
       "Epoch 18/100:   0%|          | 0/10000 [00:00<?, ?it/s]"
      ]
     },
     "metadata": {},
     "output_type": "display_data"
    },
    {
     "name": "stdout",
     "output_type": "stream",
     "text": [
      "\u001b[2m2024-03-15 17:21.51\u001b[0m [\u001b[32m\u001b[1minfo     \u001b[0m] \u001b[1mDiscreteCQL_20240315164650: epoch=18 step=180000\u001b[0m \u001b[36mepoch\u001b[0m=\u001b[35m18\u001b[0m \u001b[36mmetrics\u001b[0m=\u001b[35m{'time_sample_batch': 0.008162240934371949, 'time_algorithm_update': 0.00327340407371521, 'loss': 0.7535421837851405, 'td_loss': 0.7221682004213333, 'conservative_loss': 0.031373983544507066, 'time_step': 0.011583900237083436}\u001b[0m \u001b[36mstep\u001b[0m=\u001b[35m180000\u001b[0m\n",
      "\u001b[2m2024-03-15 17:21.51\u001b[0m [\u001b[32m\u001b[1minfo     \u001b[0m] \u001b[1mModel parameters are saved to d3rlpy_logs/DiscreteCQL_20240315164650/model_180000.d3\u001b[0m\n"
     ]
    },
    {
     "data": {
      "application/vnd.jupyter.widget-view+json": {
       "model_id": "889b7995ac55402dbfaceaac0b7c3c32",
       "version_major": 2,
       "version_minor": 0
      },
      "text/plain": [
       "Epoch 19/100:   0%|          | 0/10000 [00:00<?, ?it/s]"
      ]
     },
     "metadata": {},
     "output_type": "display_data"
    },
    {
     "name": "stdout",
     "output_type": "stream",
     "text": [
      "\u001b[2m2024-03-15 17:23.51\u001b[0m [\u001b[32m\u001b[1minfo     \u001b[0m] \u001b[1mDiscreteCQL_20240315164650: epoch=19 step=190000\u001b[0m \u001b[36mepoch\u001b[0m=\u001b[35m19\u001b[0m \u001b[36mmetrics\u001b[0m=\u001b[35m{'time_sample_batch': 0.008232295131683349, 'time_algorithm_update': 0.0034827454805374147, 'loss': 0.7203185400933028, 'td_loss': 0.6890269053831697, 'conservative_loss': 0.03129163485117606, 'time_step': 0.011865792870521545}\u001b[0m \u001b[36mstep\u001b[0m=\u001b[35m190000\u001b[0m\n",
      "\u001b[2m2024-03-15 17:23.51\u001b[0m [\u001b[32m\u001b[1minfo     \u001b[0m] \u001b[1mModel parameters are saved to d3rlpy_logs/DiscreteCQL_20240315164650/model_190000.d3\u001b[0m\n"
     ]
    },
    {
     "data": {
      "application/vnd.jupyter.widget-view+json": {
       "model_id": "723a637fc68741ebba4761d48be5966c",
       "version_major": 2,
       "version_minor": 0
      },
      "text/plain": [
       "Epoch 20/100:   0%|          | 0/10000 [00:00<?, ?it/s]"
      ]
     },
     "metadata": {},
     "output_type": "display_data"
    },
    {
     "name": "stdout",
     "output_type": "stream",
     "text": [
      "\u001b[2m2024-03-15 17:25.51\u001b[0m [\u001b[32m\u001b[1minfo     \u001b[0m] \u001b[1mDiscreteCQL_20240315164650: epoch=20 step=200000\u001b[0m \u001b[36mepoch\u001b[0m=\u001b[35m20\u001b[0m \u001b[36mmetrics\u001b[0m=\u001b[35m{'time_sample_batch': 0.008288058876991272, 'time_algorithm_update': 0.0034517093658447268, 'loss': 0.7686315308660269, 'td_loss': 0.7381774029821158, 'conservative_loss': 0.030454127939103636, 'time_step': 0.011892471623420716}\u001b[0m \u001b[36mstep\u001b[0m=\u001b[35m200000\u001b[0m\n",
      "\u001b[2m2024-03-15 17:25.51\u001b[0m [\u001b[32m\u001b[1minfo     \u001b[0m] \u001b[1mModel parameters are saved to d3rlpy_logs/DiscreteCQL_20240315164650/model_200000.d3\u001b[0m\n"
     ]
    },
    {
     "data": {
      "application/vnd.jupyter.widget-view+json": {
       "model_id": "c435decd3e9f41be8954e5cd1e521c19",
       "version_major": 2,
       "version_minor": 0
      },
      "text/plain": [
       "Epoch 21/100:   0%|          | 0/10000 [00:00<?, ?it/s]"
      ]
     },
     "metadata": {},
     "output_type": "display_data"
    },
    {
     "name": "stdout",
     "output_type": "stream",
     "text": [
      "\u001b[2m2024-03-15 17:27.47\u001b[0m [\u001b[32m\u001b[1minfo     \u001b[0m] \u001b[1mDiscreteCQL_20240315164650: epoch=21 step=210000\u001b[0m \u001b[36mepoch\u001b[0m=\u001b[35m21\u001b[0m \u001b[36mmetrics\u001b[0m=\u001b[35m{'time_sample_batch': 0.008168713307380676, 'time_algorithm_update': 0.003294341278076172, 'loss': 0.7643123069509864, 'td_loss': 0.7346695698693395, 'conservative_loss': 0.029642737705615582, 'time_step': 0.011613065695762634}\u001b[0m \u001b[36mstep\u001b[0m=\u001b[35m210000\u001b[0m\n",
      "\u001b[2m2024-03-15 17:27.48\u001b[0m [\u001b[32m\u001b[1minfo     \u001b[0m] \u001b[1mModel parameters are saved to d3rlpy_logs/DiscreteCQL_20240315164650/model_210000.d3\u001b[0m\n"
     ]
    },
    {
     "data": {
      "application/vnd.jupyter.widget-view+json": {
       "model_id": "488c64056ab34714a9a3d5d6f9a403d6",
       "version_major": 2,
       "version_minor": 0
      },
      "text/plain": [
       "Epoch 22/100:   0%|          | 0/10000 [00:00<?, ?it/s]"
      ]
     },
     "metadata": {},
     "output_type": "display_data"
    },
    {
     "name": "stdout",
     "output_type": "stream",
     "text": [
      "\u001b[2m2024-03-15 17:29.43\u001b[0m [\u001b[32m\u001b[1minfo     \u001b[0m] \u001b[1mDiscreteCQL_20240315164650: epoch=22 step=220000\u001b[0m \u001b[36mepoch\u001b[0m=\u001b[35m22\u001b[0m \u001b[36mmetrics\u001b[0m=\u001b[35m{'time_sample_batch': 0.008139243054389953, 'time_algorithm_update': 0.003239306664466858, 'loss': 0.7753698328003288, 'td_loss': 0.7468757521301508, 'conservative_loss': 0.0284940808072919, 'time_step': 0.011525958967208863}\u001b[0m \u001b[36mstep\u001b[0m=\u001b[35m220000\u001b[0m\n",
      "\u001b[2m2024-03-15 17:29.43\u001b[0m [\u001b[32m\u001b[1minfo     \u001b[0m] \u001b[1mModel parameters are saved to d3rlpy_logs/DiscreteCQL_20240315164650/model_220000.d3\u001b[0m\n"
     ]
    },
    {
     "data": {
      "application/vnd.jupyter.widget-view+json": {
       "model_id": "d7c8e818c549488dba222da40dd44a09",
       "version_major": 2,
       "version_minor": 0
      },
      "text/plain": [
       "Epoch 23/100:   0%|          | 0/10000 [00:00<?, ?it/s]"
      ]
     },
     "metadata": {},
     "output_type": "display_data"
    },
    {
     "name": "stdout",
     "output_type": "stream",
     "text": [
      "\u001b[2m2024-03-15 17:31.40\u001b[0m [\u001b[32m\u001b[1minfo     \u001b[0m] \u001b[1mDiscreteCQL_20240315164650: epoch=23 step=230000\u001b[0m \u001b[36mepoch\u001b[0m=\u001b[35m23\u001b[0m \u001b[36mmetrics\u001b[0m=\u001b[35m{'time_sample_batch': 0.008129269099235534, 'time_algorithm_update': 0.003250545811653137, 'loss': 0.8661842879623175, 'td_loss': 0.8322195119351149, 'conservative_loss': 0.03396477629235596, 'time_step': 0.01152853946685791}\u001b[0m \u001b[36mstep\u001b[0m=\u001b[35m230000\u001b[0m\n",
      "\u001b[2m2024-03-15 17:31.40\u001b[0m [\u001b[32m\u001b[1minfo     \u001b[0m] \u001b[1mModel parameters are saved to d3rlpy_logs/DiscreteCQL_20240315164650/model_230000.d3\u001b[0m\n"
     ]
    },
    {
     "data": {
      "application/vnd.jupyter.widget-view+json": {
       "model_id": "678a568f03fa4ceba41cb0d2d34005bf",
       "version_major": 2,
       "version_minor": 0
      },
      "text/plain": [
       "Epoch 24/100:   0%|          | 0/10000 [00:00<?, ?it/s]"
      ]
     },
     "metadata": {},
     "output_type": "display_data"
    },
    {
     "name": "stdout",
     "output_type": "stream",
     "text": [
      "\u001b[2m2024-03-15 17:33.36\u001b[0m [\u001b[32m\u001b[1minfo     \u001b[0m] \u001b[1mDiscreteCQL_20240315164650: epoch=24 step=240000\u001b[0m \u001b[36mepoch\u001b[0m=\u001b[35m24\u001b[0m \u001b[36mmetrics\u001b[0m=\u001b[35m{'time_sample_batch': 0.008126406097412109, 'time_algorithm_update': 0.0032795346975326538, 'loss': 0.8454524123966694, 'td_loss': 0.8168396168708801, 'conservative_loss': 0.028612795554008336, 'time_step': 0.011552014279365539}\u001b[0m \u001b[36mstep\u001b[0m=\u001b[35m240000\u001b[0m\n",
      "\u001b[2m2024-03-15 17:33.36\u001b[0m [\u001b[32m\u001b[1minfo     \u001b[0m] \u001b[1mModel parameters are saved to d3rlpy_logs/DiscreteCQL_20240315164650/model_240000.d3\u001b[0m\n"
     ]
    },
    {
     "data": {
      "application/vnd.jupyter.widget-view+json": {
       "model_id": "4c4f37b72d8a4c6392618d528897d300",
       "version_major": 2,
       "version_minor": 0
      },
      "text/plain": [
       "Epoch 25/100:   0%|          | 0/10000 [00:00<?, ?it/s]"
      ]
     },
     "metadata": {},
     "output_type": "display_data"
    },
    {
     "name": "stdout",
     "output_type": "stream",
     "text": [
      "\u001b[2m2024-03-15 17:35.32\u001b[0m [\u001b[32m\u001b[1minfo     \u001b[0m] \u001b[1mDiscreteCQL_20240315164650: epoch=25 step=250000\u001b[0m \u001b[36mepoch\u001b[0m=\u001b[35m25\u001b[0m \u001b[36mmetrics\u001b[0m=\u001b[35m{'time_sample_batch': 0.00814266800880432, 'time_algorithm_update': 0.0032970829725265504, 'loss': 0.9156070751398802, 'td_loss': 0.8849381079524755, 'conservative_loss': 0.030668967510585208, 'time_step': 0.01159038438796997}\u001b[0m \u001b[36mstep\u001b[0m=\u001b[35m250000\u001b[0m\n",
      "\u001b[2m2024-03-15 17:35.32\u001b[0m [\u001b[32m\u001b[1minfo     \u001b[0m] \u001b[1mModel parameters are saved to d3rlpy_logs/DiscreteCQL_20240315164650/model_250000.d3\u001b[0m\n"
     ]
    },
    {
     "data": {
      "application/vnd.jupyter.widget-view+json": {
       "model_id": "357d46c5dad1418fa50692821226acaa",
       "version_major": 2,
       "version_minor": 0
      },
      "text/plain": [
       "Epoch 26/100:   0%|          | 0/10000 [00:00<?, ?it/s]"
      ]
     },
     "metadata": {},
     "output_type": "display_data"
    },
    {
     "name": "stdout",
     "output_type": "stream",
     "text": [
      "\u001b[2m2024-03-15 17:37.29\u001b[0m [\u001b[32m\u001b[1minfo     \u001b[0m] \u001b[1mDiscreteCQL_20240315164650: epoch=26 step=260000\u001b[0m \u001b[36mepoch\u001b[0m=\u001b[35m26\u001b[0m \u001b[36mmetrics\u001b[0m=\u001b[35m{'time_sample_batch': 0.008195042133331299, 'time_algorithm_update': 0.0032727555990219115, 'loss': 0.9910073502063751, 'td_loss': 0.9613756177335978, 'conservative_loss': 0.02963173245720682, 'time_step': 0.011615308237075806}\u001b[0m \u001b[36mstep\u001b[0m=\u001b[35m260000\u001b[0m\n",
      "\u001b[2m2024-03-15 17:37.29\u001b[0m [\u001b[32m\u001b[1minfo     \u001b[0m] \u001b[1mModel parameters are saved to d3rlpy_logs/DiscreteCQL_20240315164650/model_260000.d3\u001b[0m\n"
     ]
    },
    {
     "data": {
      "application/vnd.jupyter.widget-view+json": {
       "model_id": "92def4f217e5482ea1bfa59f1324001e",
       "version_major": 2,
       "version_minor": 0
      },
      "text/plain": [
       "Epoch 27/100:   0%|          | 0/10000 [00:00<?, ?it/s]"
      ]
     },
     "metadata": {},
     "output_type": "display_data"
    },
    {
     "name": "stdout",
     "output_type": "stream",
     "text": [
      "\u001b[2m2024-03-15 17:39.27\u001b[0m [\u001b[32m\u001b[1minfo     \u001b[0m] \u001b[1mDiscreteCQL_20240315164650: epoch=27 step=270000\u001b[0m \u001b[36mepoch\u001b[0m=\u001b[35m27\u001b[0m \u001b[36mmetrics\u001b[0m=\u001b[35m{'time_sample_batch': 0.008206822299957275, 'time_algorithm_update': 0.0032966437101364134, 'loss': 1.012653230908513, 'td_loss': 0.979870604851842, 'conservative_loss': 0.03278262655528961, 'time_step': 0.011650451302528382}\u001b[0m \u001b[36mstep\u001b[0m=\u001b[35m270000\u001b[0m\n",
      "\u001b[2m2024-03-15 17:39.27\u001b[0m [\u001b[32m\u001b[1minfo     \u001b[0m] \u001b[1mModel parameters are saved to d3rlpy_logs/DiscreteCQL_20240315164650/model_270000.d3\u001b[0m\n"
     ]
    },
    {
     "data": {
      "application/vnd.jupyter.widget-view+json": {
       "model_id": "920d2ed4dd0d472aafec3b9f2bbc3548",
       "version_major": 2,
       "version_minor": 0
      },
      "text/plain": [
       "Epoch 28/100:   0%|          | 0/10000 [00:00<?, ?it/s]"
      ]
     },
     "metadata": {},
     "output_type": "display_data"
    },
    {
     "name": "stdout",
     "output_type": "stream",
     "text": [
      "\u001b[2m2024-03-15 17:41.23\u001b[0m [\u001b[32m\u001b[1minfo     \u001b[0m] \u001b[1mDiscreteCQL_20240315164650: epoch=28 step=280000\u001b[0m \u001b[36mepoch\u001b[0m=\u001b[35m28\u001b[0m \u001b[36mmetrics\u001b[0m=\u001b[35m{'time_sample_batch': 0.008159540390968324, 'time_algorithm_update': 0.003283531379699707, 'loss': 1.0353220237404108, 'td_loss': 1.0030472150713206, 'conservative_loss': 0.032274808533489706, 'time_step': 0.011591277861595153}\u001b[0m \u001b[36mstep\u001b[0m=\u001b[35m280000\u001b[0m\n",
      "\u001b[2m2024-03-15 17:41.23\u001b[0m [\u001b[32m\u001b[1minfo     \u001b[0m] \u001b[1mModel parameters are saved to d3rlpy_logs/DiscreteCQL_20240315164650/model_280000.d3\u001b[0m\n"
     ]
    },
    {
     "data": {
      "application/vnd.jupyter.widget-view+json": {
       "model_id": "18efc50f21524322926bd25ef0bed917",
       "version_major": 2,
       "version_minor": 0
      },
      "text/plain": [
       "Epoch 29/100:   0%|          | 0/10000 [00:00<?, ?it/s]"
      ]
     },
     "metadata": {},
     "output_type": "display_data"
    },
    {
     "name": "stdout",
     "output_type": "stream",
     "text": [
      "\u001b[2m2024-03-15 17:43.20\u001b[0m [\u001b[32m\u001b[1minfo     \u001b[0m] \u001b[1mDiscreteCQL_20240315164650: epoch=29 step=290000\u001b[0m \u001b[36mepoch\u001b[0m=\u001b[35m29\u001b[0m \u001b[36mmetrics\u001b[0m=\u001b[35m{'time_sample_batch': 0.008152198576927184, 'time_algorithm_update': 0.0032905596494674683, 'loss': 1.118250107240677, 'td_loss': 1.0849169485628605, 'conservative_loss': 0.033333158897038084, 'time_step': 0.011588219213485717}\u001b[0m \u001b[36mstep\u001b[0m=\u001b[35m290000\u001b[0m\n",
      "\u001b[2m2024-03-15 17:43.20\u001b[0m [\u001b[32m\u001b[1minfo     \u001b[0m] \u001b[1mModel parameters are saved to d3rlpy_logs/DiscreteCQL_20240315164650/model_290000.d3\u001b[0m\n"
     ]
    },
    {
     "data": {
      "application/vnd.jupyter.widget-view+json": {
       "model_id": "5647bf6040f6457b9001f01e46d26a43",
       "version_major": 2,
       "version_minor": 0
      },
      "text/plain": [
       "Epoch 30/100:   0%|          | 0/10000 [00:00<?, ?it/s]"
      ]
     },
     "metadata": {},
     "output_type": "display_data"
    },
    {
     "name": "stdout",
     "output_type": "stream",
     "text": [
      "\u001b[2m2024-03-15 17:45.17\u001b[0m [\u001b[32m\u001b[1minfo     \u001b[0m] \u001b[1mDiscreteCQL_20240315164650: epoch=30 step=300000\u001b[0m \u001b[36mepoch\u001b[0m=\u001b[35m30\u001b[0m \u001b[36mmetrics\u001b[0m=\u001b[35m{'time_sample_batch': 0.008179333424568176, 'time_algorithm_update': 0.0033163058280944826, 'loss': 1.0778252611011268, 'td_loss': 1.0460067602574825, 'conservative_loss': 0.03181850131138926, 'time_step': 0.01164296805858612}\u001b[0m \u001b[36mstep\u001b[0m=\u001b[35m300000\u001b[0m\n",
      "\u001b[2m2024-03-15 17:45.17\u001b[0m [\u001b[32m\u001b[1minfo     \u001b[0m] \u001b[1mModel parameters are saved to d3rlpy_logs/DiscreteCQL_20240315164650/model_300000.d3\u001b[0m\n"
     ]
    },
    {
     "data": {
      "application/vnd.jupyter.widget-view+json": {
       "model_id": "e821449ee0da4d31bae45cb2d5c58ff7",
       "version_major": 2,
       "version_minor": 0
      },
      "text/plain": [
       "Epoch 31/100:   0%|          | 0/10000 [00:00<?, ?it/s]"
      ]
     },
     "metadata": {},
     "output_type": "display_data"
    },
    {
     "name": "stdout",
     "output_type": "stream",
     "text": [
      "\u001b[2m2024-03-15 17:47.13\u001b[0m [\u001b[32m\u001b[1minfo     \u001b[0m] \u001b[1mDiscreteCQL_20240315164650: epoch=31 step=310000\u001b[0m \u001b[36mepoch\u001b[0m=\u001b[35m31\u001b[0m \u001b[36mmetrics\u001b[0m=\u001b[35m{'time_sample_batch': 0.008122187113761902, 'time_algorithm_update': 0.0032716427564620973, 'loss': 1.0657349695801734, 'td_loss': 1.0343686607897282, 'conservative_loss': 0.03136630890016677, 'time_step': 0.011536809396743774}\u001b[0m \u001b[36mstep\u001b[0m=\u001b[35m310000\u001b[0m\n",
      "\u001b[2m2024-03-15 17:47.13\u001b[0m [\u001b[32m\u001b[1minfo     \u001b[0m] \u001b[1mModel parameters are saved to d3rlpy_logs/DiscreteCQL_20240315164650/model_310000.d3\u001b[0m\n"
     ]
    },
    {
     "data": {
      "application/vnd.jupyter.widget-view+json": {
       "model_id": "8b67b5944c4844c2b283d7b639cb0622",
       "version_major": 2,
       "version_minor": 0
      },
      "text/plain": [
       "Epoch 32/100:   0%|          | 0/10000 [00:00<?, ?it/s]"
      ]
     },
     "metadata": {},
     "output_type": "display_data"
    },
    {
     "name": "stdout",
     "output_type": "stream",
     "text": [
      "\u001b[2m2024-03-15 17:49.10\u001b[0m [\u001b[32m\u001b[1minfo     \u001b[0m] \u001b[1mDiscreteCQL_20240315164650: epoch=32 step=320000\u001b[0m \u001b[36mepoch\u001b[0m=\u001b[35m32\u001b[0m \u001b[36mmetrics\u001b[0m=\u001b[35m{'time_sample_batch': 0.00819950041770935, 'time_algorithm_update': 0.003280379390716553, 'loss': 1.259541405081749, 'td_loss': 1.2252464643716812, 'conservative_loss': 0.034294940308271904, 'time_step': 0.011625421714782714}\u001b[0m \u001b[36mstep\u001b[0m=\u001b[35m320000\u001b[0m\n",
      "\u001b[2m2024-03-15 17:49.10\u001b[0m [\u001b[32m\u001b[1minfo     \u001b[0m] \u001b[1mModel parameters are saved to d3rlpy_logs/DiscreteCQL_20240315164650/model_320000.d3\u001b[0m\n"
     ]
    },
    {
     "data": {
      "application/vnd.jupyter.widget-view+json": {
       "model_id": "83ffbdf3807a497997a00e8d206919de",
       "version_major": 2,
       "version_minor": 0
      },
      "text/plain": [
       "Epoch 33/100:   0%|          | 0/10000 [00:00<?, ?it/s]"
      ]
     },
     "metadata": {},
     "output_type": "display_data"
    },
    {
     "name": "stdout",
     "output_type": "stream",
     "text": [
      "\u001b[2m2024-03-15 17:51.08\u001b[0m [\u001b[32m\u001b[1minfo     \u001b[0m] \u001b[1mDiscreteCQL_20240315164650: epoch=33 step=330000\u001b[0m \u001b[36mepoch\u001b[0m=\u001b[35m33\u001b[0m \u001b[36mmetrics\u001b[0m=\u001b[35m{'time_sample_batch': 0.008196891927719116, 'time_algorithm_update': 0.0033797003984451296, 'loss': 1.2569076264351606, 'td_loss': 1.2226112049132585, 'conservative_loss': 0.03429642187514109, 'time_step': 0.01172280490398407}\u001b[0m \u001b[36mstep\u001b[0m=\u001b[35m330000\u001b[0m\n",
      "\u001b[2m2024-03-15 17:51.08\u001b[0m [\u001b[32m\u001b[1minfo     \u001b[0m] \u001b[1mModel parameters are saved to d3rlpy_logs/DiscreteCQL_20240315164650/model_330000.d3\u001b[0m\n"
     ]
    },
    {
     "data": {
      "application/vnd.jupyter.widget-view+json": {
       "model_id": "6322e11965bc4c6cb8fbea7c97e029d9",
       "version_major": 2,
       "version_minor": 0
      },
      "text/plain": [
       "Epoch 34/100:   0%|          | 0/10000 [00:00<?, ?it/s]"
      ]
     },
     "metadata": {},
     "output_type": "display_data"
    },
    {
     "name": "stdout",
     "output_type": "stream",
     "text": [
      "\u001b[2m2024-03-15 17:53.06\u001b[0m [\u001b[32m\u001b[1minfo     \u001b[0m] \u001b[1mDiscreteCQL_20240315164650: epoch=34 step=340000\u001b[0m \u001b[36mepoch\u001b[0m=\u001b[35m34\u001b[0m \u001b[36mmetrics\u001b[0m=\u001b[35m{'time_sample_batch': 0.0081916588306427, 'time_algorithm_update': 0.003375930571556091, 'loss': 1.2019565475970506, 'td_loss': 1.1670294960469008, 'conservative_loss': 0.03492705154623836, 'time_step': 0.011712258625030518}\u001b[0m \u001b[36mstep\u001b[0m=\u001b[35m340000\u001b[0m\n",
      "\u001b[2m2024-03-15 17:53.06\u001b[0m [\u001b[32m\u001b[1minfo     \u001b[0m] \u001b[1mModel parameters are saved to d3rlpy_logs/DiscreteCQL_20240315164650/model_340000.d3\u001b[0m\n"
     ]
    },
    {
     "data": {
      "application/vnd.jupyter.widget-view+json": {
       "model_id": "f3d35d1b4a9c4248ad6f06b859721958",
       "version_major": 2,
       "version_minor": 0
      },
      "text/plain": [
       "Epoch 35/100:   0%|          | 0/10000 [00:00<?, ?it/s]"
      ]
     },
     "metadata": {},
     "output_type": "display_data"
    },
    {
     "name": "stdout",
     "output_type": "stream",
     "text": [
      "\u001b[2m2024-03-15 17:55.02\u001b[0m [\u001b[32m\u001b[1minfo     \u001b[0m] \u001b[1mDiscreteCQL_20240315164650: epoch=35 step=350000\u001b[0m \u001b[36mepoch\u001b[0m=\u001b[35m35\u001b[0m \u001b[36mmetrics\u001b[0m=\u001b[35m{'time_sample_batch': 0.00813660979270935, 'time_algorithm_update': 0.0032865121603012086, 'loss': 1.2646468876749277, 'td_loss': 1.2311391195327044, 'conservative_loss': 0.033507768030115404, 'time_step': 0.011564619946479797}\u001b[0m \u001b[36mstep\u001b[0m=\u001b[35m350000\u001b[0m\n",
      "\u001b[2m2024-03-15 17:55.02\u001b[0m [\u001b[32m\u001b[1minfo     \u001b[0m] \u001b[1mModel parameters are saved to d3rlpy_logs/DiscreteCQL_20240315164650/model_350000.d3\u001b[0m\n"
     ]
    },
    {
     "data": {
      "application/vnd.jupyter.widget-view+json": {
       "model_id": "1f686e9a9b724f9997bf17cc410cf3c5",
       "version_major": 2,
       "version_minor": 0
      },
      "text/plain": [
       "Epoch 36/100:   0%|          | 0/10000 [00:00<?, ?it/s]"
      ]
     },
     "metadata": {},
     "output_type": "display_data"
    },
    {
     "name": "stdout",
     "output_type": "stream",
     "text": [
      "\u001b[2m2024-03-15 17:56.59\u001b[0m [\u001b[32m\u001b[1minfo     \u001b[0m] \u001b[1mDiscreteCQL_20240315164650: epoch=36 step=360000\u001b[0m \u001b[36mepoch\u001b[0m=\u001b[35m36\u001b[0m \u001b[36mmetrics\u001b[0m=\u001b[35m{'time_sample_batch': 0.00812723400592804, 'time_algorithm_update': 0.00334565212726593, 'loss': 1.1784533381640911, 'td_loss': 1.1477948212385178, 'conservative_loss': 0.03065851681402419, 'time_step': 0.011616651964187623}\u001b[0m \u001b[36mstep\u001b[0m=\u001b[35m360000\u001b[0m\n",
      "\u001b[2m2024-03-15 17:56.59\u001b[0m [\u001b[32m\u001b[1minfo     \u001b[0m] \u001b[1mModel parameters are saved to d3rlpy_logs/DiscreteCQL_20240315164650/model_360000.d3\u001b[0m\n"
     ]
    },
    {
     "data": {
      "application/vnd.jupyter.widget-view+json": {
       "model_id": "8047b60f83b84ee09339160ffda1501f",
       "version_major": 2,
       "version_minor": 0
      },
      "text/plain": [
       "Epoch 37/100:   0%|          | 0/10000 [00:00<?, ?it/s]"
      ]
     },
     "metadata": {},
     "output_type": "display_data"
    },
    {
     "name": "stdout",
     "output_type": "stream",
     "text": [
      "\u001b[2m2024-03-15 17:58.57\u001b[0m [\u001b[32m\u001b[1minfo     \u001b[0m] \u001b[1mDiscreteCQL_20240315164650: epoch=37 step=370000\u001b[0m \u001b[36mepoch\u001b[0m=\u001b[35m37\u001b[0m \u001b[36mmetrics\u001b[0m=\u001b[35m{'time_sample_batch': 0.008217245793342591, 'time_algorithm_update': 0.003308008623123169, 'loss': 1.3262252194136381, 'td_loss': 1.2933104673027993, 'conservative_loss': 0.032914752119255715, 'time_step': 0.01166856174468994}\u001b[0m \u001b[36mstep\u001b[0m=\u001b[35m370000\u001b[0m\n",
      "\u001b[2m2024-03-15 17:58.57\u001b[0m [\u001b[32m\u001b[1minfo     \u001b[0m] \u001b[1mModel parameters are saved to d3rlpy_logs/DiscreteCQL_20240315164650/model_370000.d3\u001b[0m\n"
     ]
    },
    {
     "data": {
      "application/vnd.jupyter.widget-view+json": {
       "model_id": "04c79a10e6694a0bb3f786a8ee4cb9d9",
       "version_major": 2,
       "version_minor": 0
      },
      "text/plain": [
       "Epoch 38/100:   0%|          | 0/10000 [00:00<?, ?it/s]"
      ]
     },
     "metadata": {},
     "output_type": "display_data"
    },
    {
     "name": "stdout",
     "output_type": "stream",
     "text": [
      "\u001b[2m2024-03-15 18:00.53\u001b[0m [\u001b[32m\u001b[1minfo     \u001b[0m] \u001b[1mDiscreteCQL_20240315164650: epoch=38 step=380000\u001b[0m \u001b[36mepoch\u001b[0m=\u001b[35m38\u001b[0m \u001b[36mmetrics\u001b[0m=\u001b[35m{'time_sample_batch': 0.008124959683418274, 'time_algorithm_update': 0.0032843413591384886, 'loss': 1.446524192005396, 'td_loss': 1.4124748354077339, 'conservative_loss': 0.03404935638877796, 'time_step': 0.01155291223526001}\u001b[0m \u001b[36mstep\u001b[0m=\u001b[35m380000\u001b[0m\n",
      "\u001b[2m2024-03-15 18:00.53\u001b[0m [\u001b[32m\u001b[1minfo     \u001b[0m] \u001b[1mModel parameters are saved to d3rlpy_logs/DiscreteCQL_20240315164650/model_380000.d3\u001b[0m\n"
     ]
    },
    {
     "data": {
      "application/vnd.jupyter.widget-view+json": {
       "model_id": "de92c04098da4107b82efb597c6b8291",
       "version_major": 2,
       "version_minor": 0
      },
      "text/plain": [
       "Epoch 39/100:   0%|          | 0/10000 [00:00<?, ?it/s]"
      ]
     },
     "metadata": {},
     "output_type": "display_data"
    },
    {
     "name": "stdout",
     "output_type": "stream",
     "text": [
      "\u001b[2m2024-03-15 18:02.51\u001b[0m [\u001b[32m\u001b[1minfo     \u001b[0m] \u001b[1mDiscreteCQL_20240315164650: epoch=39 step=390000\u001b[0m \u001b[36mepoch\u001b[0m=\u001b[35m39\u001b[0m \u001b[36mmetrics\u001b[0m=\u001b[35m{'time_sample_batch': 0.008162738156318664, 'time_algorithm_update': 0.0033629792213439942, 'loss': 1.2624508881181478, 'td_loss': 1.230813526546955, 'conservative_loss': 0.03163736204532906, 'time_step': 0.011672215127944946}\u001b[0m \u001b[36mstep\u001b[0m=\u001b[35m390000\u001b[0m\n",
      "\u001b[2m2024-03-15 18:02.51\u001b[0m [\u001b[32m\u001b[1minfo     \u001b[0m] \u001b[1mModel parameters are saved to d3rlpy_logs/DiscreteCQL_20240315164650/model_390000.d3\u001b[0m\n"
     ]
    },
    {
     "data": {
      "application/vnd.jupyter.widget-view+json": {
       "model_id": "118f5643ba064992a9807de0653ed9f0",
       "version_major": 2,
       "version_minor": 0
      },
      "text/plain": [
       "Epoch 40/100:   0%|          | 0/10000 [00:00<?, ?it/s]"
      ]
     },
     "metadata": {},
     "output_type": "display_data"
    },
    {
     "name": "stdout",
     "output_type": "stream",
     "text": [
      "\u001b[2m2024-03-15 18:04.51\u001b[0m [\u001b[32m\u001b[1minfo     \u001b[0m] \u001b[1mDiscreteCQL_20240315164650: epoch=40 step=400000\u001b[0m \u001b[36mepoch\u001b[0m=\u001b[35m40\u001b[0m \u001b[36mmetrics\u001b[0m=\u001b[35m{'time_sample_batch': 0.008285426211357116, 'time_algorithm_update': 0.0035151856422424316, 'loss': 1.204054808536172, 'td_loss': 1.173426714247465, 'conservative_loss': 0.03062809478818672, 'time_step': 0.011947868871688843}\u001b[0m \u001b[36mstep\u001b[0m=\u001b[35m400000\u001b[0m\n",
      "\u001b[2m2024-03-15 18:04.51\u001b[0m [\u001b[32m\u001b[1minfo     \u001b[0m] \u001b[1mModel parameters are saved to d3rlpy_logs/DiscreteCQL_20240315164650/model_400000.d3\u001b[0m\n"
     ]
    },
    {
     "data": {
      "application/vnd.jupyter.widget-view+json": {
       "model_id": "a3104652f1ba4ad9883347fa5e148ad5",
       "version_major": 2,
       "version_minor": 0
      },
      "text/plain": [
       "Epoch 41/100:   0%|          | 0/10000 [00:00<?, ?it/s]"
      ]
     },
     "metadata": {},
     "output_type": "display_data"
    },
    {
     "name": "stdout",
     "output_type": "stream",
     "text": [
      "\u001b[2m2024-03-15 18:06.47\u001b[0m [\u001b[32m\u001b[1minfo     \u001b[0m] \u001b[1mDiscreteCQL_20240315164650: epoch=41 step=410000\u001b[0m \u001b[36mepoch\u001b[0m=\u001b[35m41\u001b[0m \u001b[36mmetrics\u001b[0m=\u001b[35m{'time_sample_batch': 0.008144295978546143, 'time_algorithm_update': 0.003304637026786804, 'loss': 1.382943254956603, 'td_loss': 1.3481005434781312, 'conservative_loss': 0.03484271191703155, 'time_step': 0.011592684245109558}\u001b[0m \u001b[36mstep\u001b[0m=\u001b[35m410000\u001b[0m\n",
      "\u001b[2m2024-03-15 18:06.47\u001b[0m [\u001b[32m\u001b[1minfo     \u001b[0m] \u001b[1mModel parameters are saved to d3rlpy_logs/DiscreteCQL_20240315164650/model_410000.d3\u001b[0m\n"
     ]
    },
    {
     "data": {
      "application/vnd.jupyter.widget-view+json": {
       "model_id": "417ec0fff31e467ab7f9f7482dc0dabb",
       "version_major": 2,
       "version_minor": 0
      },
      "text/plain": [
       "Epoch 42/100:   0%|          | 0/10000 [00:00<?, ?it/s]"
      ]
     },
     "metadata": {},
     "output_type": "display_data"
    },
    {
     "name": "stdout",
     "output_type": "stream",
     "text": [
      "\u001b[2m2024-03-15 18:08.44\u001b[0m [\u001b[32m\u001b[1minfo     \u001b[0m] \u001b[1mDiscreteCQL_20240315164650: epoch=42 step=420000\u001b[0m \u001b[36mepoch\u001b[0m=\u001b[35m42\u001b[0m \u001b[36mmetrics\u001b[0m=\u001b[35m{'time_sample_batch': 0.008177779364585877, 'time_algorithm_update': 0.003267188596725464, 'loss': 1.3009451407968997, 'td_loss': 1.2698388404101133, 'conservative_loss': 0.031106300884776283, 'time_step': 0.011590846562385558}\u001b[0m \u001b[36mstep\u001b[0m=\u001b[35m420000\u001b[0m\n",
      "\u001b[2m2024-03-15 18:08.44\u001b[0m [\u001b[32m\u001b[1minfo     \u001b[0m] \u001b[1mModel parameters are saved to d3rlpy_logs/DiscreteCQL_20240315164650/model_420000.d3\u001b[0m\n"
     ]
    },
    {
     "data": {
      "application/vnd.jupyter.widget-view+json": {
       "model_id": "15ce24978f03448191e80f82a5b4e45c",
       "version_major": 2,
       "version_minor": 0
      },
      "text/plain": [
       "Epoch 43/100:   0%|          | 0/10000 [00:00<?, ?it/s]"
      ]
     },
     "metadata": {},
     "output_type": "display_data"
    },
    {
     "name": "stdout",
     "output_type": "stream",
     "text": [
      "\u001b[2m2024-03-15 18:10.42\u001b[0m [\u001b[32m\u001b[1minfo     \u001b[0m] \u001b[1mDiscreteCQL_20240315164650: epoch=43 step=430000\u001b[0m \u001b[36mepoch\u001b[0m=\u001b[35m43\u001b[0m \u001b[36mmetrics\u001b[0m=\u001b[35m{'time_sample_batch': 0.00821112778186798, 'time_algorithm_update': 0.0033133139848709105, 'loss': 1.4176939021617174, 'td_loss': 1.3842816746860742, 'conservative_loss': 0.03341222723608371, 'time_step': 0.011671153044700622}\u001b[0m \u001b[36mstep\u001b[0m=\u001b[35m430000\u001b[0m\n",
      "\u001b[2m2024-03-15 18:10.42\u001b[0m [\u001b[32m\u001b[1minfo     \u001b[0m] \u001b[1mModel parameters are saved to d3rlpy_logs/DiscreteCQL_20240315164650/model_430000.d3\u001b[0m\n"
     ]
    },
    {
     "data": {
      "application/vnd.jupyter.widget-view+json": {
       "model_id": "cc473819a2fd43789a0b8032764fcf4e",
       "version_major": 2,
       "version_minor": 0
      },
      "text/plain": [
       "Epoch 44/100:   0%|          | 0/10000 [00:00<?, ?it/s]"
      ]
     },
     "metadata": {},
     "output_type": "display_data"
    },
    {
     "name": "stdout",
     "output_type": "stream",
     "text": [
      "\u001b[2m2024-03-15 18:12.39\u001b[0m [\u001b[32m\u001b[1minfo     \u001b[0m] \u001b[1mDiscreteCQL_20240315164650: epoch=44 step=440000\u001b[0m \u001b[36mepoch\u001b[0m=\u001b[35m44\u001b[0m \u001b[36mmetrics\u001b[0m=\u001b[35m{'time_sample_batch': 0.008238111448287963, 'time_algorithm_update': 0.003308495259284973, 'loss': 1.3719179891735316, 'td_loss': 1.3408953327775002, 'conservative_loss': 0.031022656749375165, 'time_step': 0.011689712858200073}\u001b[0m \u001b[36mstep\u001b[0m=\u001b[35m440000\u001b[0m\n",
      "\u001b[2m2024-03-15 18:12.39\u001b[0m [\u001b[32m\u001b[1minfo     \u001b[0m] \u001b[1mModel parameters are saved to d3rlpy_logs/DiscreteCQL_20240315164650/model_440000.d3\u001b[0m\n"
     ]
    },
    {
     "data": {
      "application/vnd.jupyter.widget-view+json": {
       "model_id": "158397d397a440d8b49330da52fcec20",
       "version_major": 2,
       "version_minor": 0
      },
      "text/plain": [
       "Epoch 45/100:   0%|          | 0/10000 [00:00<?, ?it/s]"
      ]
     },
     "metadata": {},
     "output_type": "display_data"
    },
    {
     "name": "stdout",
     "output_type": "stream",
     "text": [
      "\u001b[2m2024-03-15 18:14.35\u001b[0m [\u001b[32m\u001b[1minfo     \u001b[0m] \u001b[1mDiscreteCQL_20240315164650: epoch=45 step=450000\u001b[0m \u001b[36mepoch\u001b[0m=\u001b[35m45\u001b[0m \u001b[36mmetrics\u001b[0m=\u001b[35m{'time_sample_batch': 0.008120457291603088, 'time_algorithm_update': 0.0032552087306976316, 'loss': 1.4964629981011153, 'td_loss': 1.4638516371011734, 'conservative_loss': 0.032611360620427875, 'time_step': 0.011520597887039184}\u001b[0m \u001b[36mstep\u001b[0m=\u001b[35m450000\u001b[0m\n",
      "\u001b[2m2024-03-15 18:14.35\u001b[0m [\u001b[32m\u001b[1minfo     \u001b[0m] \u001b[1mModel parameters are saved to d3rlpy_logs/DiscreteCQL_20240315164650/model_450000.d3\u001b[0m\n"
     ]
    },
    {
     "data": {
      "application/vnd.jupyter.widget-view+json": {
       "model_id": "88191bc387a741a1a9ca3122bd620257",
       "version_major": 2,
       "version_minor": 0
      },
      "text/plain": [
       "Epoch 46/100:   0%|          | 0/10000 [00:00<?, ?it/s]"
      ]
     },
     "metadata": {},
     "output_type": "display_data"
    },
    {
     "name": "stdout",
     "output_type": "stream",
     "text": [
      "\u001b[2m2024-03-15 18:16.31\u001b[0m [\u001b[32m\u001b[1minfo     \u001b[0m] \u001b[1mDiscreteCQL_20240315164650: epoch=46 step=460000\u001b[0m \u001b[36mepoch\u001b[0m=\u001b[35m46\u001b[0m \u001b[36mmetrics\u001b[0m=\u001b[35m{'time_sample_batch': 0.008135727834701538, 'time_algorithm_update': 0.0032533260107040405, 'loss': 1.3796936526268722, 'td_loss': 1.347282044646144, 'conservative_loss': 0.03241160780764185, 'time_step': 0.01153248155117035}\u001b[0m \u001b[36mstep\u001b[0m=\u001b[35m460000\u001b[0m\n",
      "\u001b[2m2024-03-15 18:16.31\u001b[0m [\u001b[32m\u001b[1minfo     \u001b[0m] \u001b[1mModel parameters are saved to d3rlpy_logs/DiscreteCQL_20240315164650/model_460000.d3\u001b[0m\n"
     ]
    },
    {
     "data": {
      "application/vnd.jupyter.widget-view+json": {
       "model_id": "388ee5fc88ca4987872e413876248088",
       "version_major": 2,
       "version_minor": 0
      },
      "text/plain": [
       "Epoch 47/100:   0%|          | 0/10000 [00:00<?, ?it/s]"
      ]
     },
     "metadata": {},
     "output_type": "display_data"
    },
    {
     "name": "stdout",
     "output_type": "stream",
     "text": [
      "\u001b[2m2024-03-15 18:18.29\u001b[0m [\u001b[32m\u001b[1minfo     \u001b[0m] \u001b[1mDiscreteCQL_20240315164650: epoch=47 step=470000\u001b[0m \u001b[36mepoch\u001b[0m=\u001b[35m47\u001b[0m \u001b[36mmetrics\u001b[0m=\u001b[35m{'time_sample_batch': 0.008239235973358154, 'time_algorithm_update': 0.003299968934059143, 'loss': 1.577468265977502, 'td_loss': 1.5432854913175107, 'conservative_loss': 0.03418277519999537, 'time_step': 0.011687759590148925}\u001b[0m \u001b[36mstep\u001b[0m=\u001b[35m470000\u001b[0m\n",
      "\u001b[2m2024-03-15 18:18.29\u001b[0m [\u001b[32m\u001b[1minfo     \u001b[0m] \u001b[1mModel parameters are saved to d3rlpy_logs/DiscreteCQL_20240315164650/model_470000.d3\u001b[0m\n"
     ]
    },
    {
     "data": {
      "application/vnd.jupyter.widget-view+json": {
       "model_id": "c8566880776543e185d8121e53da20e1",
       "version_major": 2,
       "version_minor": 0
      },
      "text/plain": [
       "Epoch 48/100:   0%|          | 0/10000 [00:00<?, ?it/s]"
      ]
     },
     "metadata": {},
     "output_type": "display_data"
    },
    {
     "name": "stdout",
     "output_type": "stream",
     "text": [
      "\u001b[2m2024-03-15 18:20.25\u001b[0m [\u001b[32m\u001b[1minfo     \u001b[0m] \u001b[1mDiscreteCQL_20240315164650: epoch=48 step=480000\u001b[0m \u001b[36mepoch\u001b[0m=\u001b[35m48\u001b[0m \u001b[36mmetrics\u001b[0m=\u001b[35m{'time_sample_batch': 0.008128022909164428, 'time_algorithm_update': 0.0032594698190689087, 'loss': 1.4577000101834536, 'td_loss': 1.4237856134533882, 'conservative_loss': 0.033914396631962156, 'time_step': 0.011532479333877563}\u001b[0m \u001b[36mstep\u001b[0m=\u001b[35m480000\u001b[0m\n",
      "\u001b[2m2024-03-15 18:20.25\u001b[0m [\u001b[32m\u001b[1minfo     \u001b[0m] \u001b[1mModel parameters are saved to d3rlpy_logs/DiscreteCQL_20240315164650/model_480000.d3\u001b[0m\n"
     ]
    },
    {
     "data": {
      "application/vnd.jupyter.widget-view+json": {
       "model_id": "9df5756269c74ba4a8cca2fe9779d6d3",
       "version_major": 2,
       "version_minor": 0
      },
      "text/plain": [
       "Epoch 49/100:   0%|          | 0/10000 [00:00<?, ?it/s]"
      ]
     },
     "metadata": {},
     "output_type": "display_data"
    },
    {
     "name": "stdout",
     "output_type": "stream",
     "text": [
      "\u001b[2m2024-03-15 18:22.21\u001b[0m [\u001b[32m\u001b[1minfo     \u001b[0m] \u001b[1mDiscreteCQL_20240315164650: epoch=49 step=490000\u001b[0m \u001b[36mepoch\u001b[0m=\u001b[35m49\u001b[0m \u001b[36mmetrics\u001b[0m=\u001b[35m{'time_sample_batch': 0.00812884578704834, 'time_algorithm_update': 0.003252159285545349, 'loss': 1.4403038459479809, 'td_loss': 1.4045130188286306, 'conservative_loss': 0.03579082772870315, 'time_step': 0.011525270915031433}\u001b[0m \u001b[36mstep\u001b[0m=\u001b[35m490000\u001b[0m\n",
      "\u001b[2m2024-03-15 18:22.21\u001b[0m [\u001b[32m\u001b[1minfo     \u001b[0m] \u001b[1mModel parameters are saved to d3rlpy_logs/DiscreteCQL_20240315164650/model_490000.d3\u001b[0m\n"
     ]
    },
    {
     "data": {
      "application/vnd.jupyter.widget-view+json": {
       "model_id": "a3b637572ba946b6a96a0c912831a23a",
       "version_major": 2,
       "version_minor": 0
      },
      "text/plain": [
       "Epoch 50/100:   0%|          | 0/10000 [00:00<?, ?it/s]"
      ]
     },
     "metadata": {},
     "output_type": "display_data"
    },
    {
     "name": "stdout",
     "output_type": "stream",
     "text": [
      "\u001b[2m2024-03-15 18:24.18\u001b[0m [\u001b[32m\u001b[1minfo     \u001b[0m] \u001b[1mDiscreteCQL_20240315164650: epoch=50 step=500000\u001b[0m \u001b[36mepoch\u001b[0m=\u001b[35m50\u001b[0m \u001b[36mmetrics\u001b[0m=\u001b[35m{'time_sample_batch': 0.008170291113853454, 'time_algorithm_update': 0.0032724915981292724, 'loss': 1.5671554427295924, 'td_loss': 1.533881985089183, 'conservative_loss': 0.033273458300810306, 'time_step': 0.011585252141952515}\u001b[0m \u001b[36mstep\u001b[0m=\u001b[35m500000\u001b[0m\n",
      "\u001b[2m2024-03-15 18:24.18\u001b[0m [\u001b[32m\u001b[1minfo     \u001b[0m] \u001b[1mModel parameters are saved to d3rlpy_logs/DiscreteCQL_20240315164650/model_500000.d3\u001b[0m\n"
     ]
    },
    {
     "data": {
      "application/vnd.jupyter.widget-view+json": {
       "model_id": "924748203e8e419b8014a9c97cd9b00c",
       "version_major": 2,
       "version_minor": 0
      },
      "text/plain": [
       "Epoch 51/100:   0%|          | 0/10000 [00:00<?, ?it/s]"
      ]
     },
     "metadata": {},
     "output_type": "display_data"
    },
    {
     "name": "stdout",
     "output_type": "stream",
     "text": [
      "\u001b[2m2024-03-15 18:26.15\u001b[0m [\u001b[32m\u001b[1minfo     \u001b[0m] \u001b[1mDiscreteCQL_20240315164650: epoch=51 step=510000\u001b[0m \u001b[36mepoch\u001b[0m=\u001b[35m51\u001b[0m \u001b[36mmetrics\u001b[0m=\u001b[35m{'time_sample_batch': 0.008188077449798584, 'time_algorithm_update': 0.0033087243795394895, 'loss': 1.5632998588383198, 'td_loss': 1.5283818801403046, 'conservative_loss': 0.034917979298043064, 'time_step': 0.011642267346382141}\u001b[0m \u001b[36mstep\u001b[0m=\u001b[35m510000\u001b[0m\n",
      "\u001b[2m2024-03-15 18:26.15\u001b[0m [\u001b[32m\u001b[1minfo     \u001b[0m] \u001b[1mModel parameters are saved to d3rlpy_logs/DiscreteCQL_20240315164650/model_510000.d3\u001b[0m\n"
     ]
    },
    {
     "data": {
      "application/vnd.jupyter.widget-view+json": {
       "model_id": "c9bb2ceb59eb47498e6026fe505debd1",
       "version_major": 2,
       "version_minor": 0
      },
      "text/plain": [
       "Epoch 52/100:   0%|          | 0/10000 [00:00<?, ?it/s]"
      ]
     },
     "metadata": {},
     "output_type": "display_data"
    },
    {
     "name": "stdout",
     "output_type": "stream",
     "text": [
      "\u001b[2m2024-03-15 18:28.11\u001b[0m [\u001b[32m\u001b[1minfo     \u001b[0m] \u001b[1mDiscreteCQL_20240315164650: epoch=52 step=520000\u001b[0m \u001b[36mepoch\u001b[0m=\u001b[35m52\u001b[0m \u001b[36mmetrics\u001b[0m=\u001b[35m{'time_sample_batch': 0.008121453070640564, 'time_algorithm_update': 0.0032755685806274415, 'loss': 1.4854287417352199, 'td_loss': 1.454176791933179, 'conservative_loss': 0.031251949450338726, 'time_step': 0.011539647340774535}\u001b[0m \u001b[36mstep\u001b[0m=\u001b[35m520000\u001b[0m\n",
      "\u001b[2m2024-03-15 18:28.11\u001b[0m [\u001b[32m\u001b[1minfo     \u001b[0m] \u001b[1mModel parameters are saved to d3rlpy_logs/DiscreteCQL_20240315164650/model_520000.d3\u001b[0m\n"
     ]
    },
    {
     "data": {
      "application/vnd.jupyter.widget-view+json": {
       "model_id": "f8c7b272bf0e46bb8e06d5c93b419195",
       "version_major": 2,
       "version_minor": 0
      },
      "text/plain": [
       "Epoch 53/100:   0%|          | 0/10000 [00:00<?, ?it/s]"
      ]
     },
     "metadata": {},
     "output_type": "display_data"
    },
    {
     "name": "stdout",
     "output_type": "stream",
     "text": [
      "\u001b[2m2024-03-15 18:30.08\u001b[0m [\u001b[32m\u001b[1minfo     \u001b[0m] \u001b[1mDiscreteCQL_20240315164650: epoch=53 step=530000\u001b[0m \u001b[36mepoch\u001b[0m=\u001b[35m53\u001b[0m \u001b[36mmetrics\u001b[0m=\u001b[35m{'time_sample_batch': 0.008197069692611695, 'time_algorithm_update': 0.003277354645729065, 'loss': 1.4914069704085589, 'td_loss': 1.4589765461832285, 'conservative_loss': 0.03243042450703215, 'time_step': 0.011617894792556763}\u001b[0m \u001b[36mstep\u001b[0m=\u001b[35m530000\u001b[0m\n",
      "\u001b[2m2024-03-15 18:30.08\u001b[0m [\u001b[32m\u001b[1minfo     \u001b[0m] \u001b[1mModel parameters are saved to d3rlpy_logs/DiscreteCQL_20240315164650/model_530000.d3\u001b[0m\n"
     ]
    },
    {
     "data": {
      "application/vnd.jupyter.widget-view+json": {
       "model_id": "e4456c22ddba4d6397bb915e6090a5e3",
       "version_major": 2,
       "version_minor": 0
      },
      "text/plain": [
       "Epoch 54/100:   0%|          | 0/10000 [00:00<?, ?it/s]"
      ]
     },
     "metadata": {},
     "output_type": "display_data"
    },
    {
     "name": "stdout",
     "output_type": "stream",
     "text": [
      "\u001b[2m2024-03-15 18:32.03\u001b[0m [\u001b[32m\u001b[1minfo     \u001b[0m] \u001b[1mDiscreteCQL_20240315164650: epoch=54 step=540000\u001b[0m \u001b[36mepoch\u001b[0m=\u001b[35m54\u001b[0m \u001b[36mmetrics\u001b[0m=\u001b[35m{'time_sample_batch': 0.008098913955688477, 'time_algorithm_update': 0.0032434382677078246, 'loss': 1.4676161767691374, 'td_loss': 1.4353484537184238, 'conservative_loss': 0.03226772277118871, 'time_step': 0.01148061797618866}\u001b[0m \u001b[36mstep\u001b[0m=\u001b[35m540000\u001b[0m\n",
      "\u001b[2m2024-03-15 18:32.03\u001b[0m [\u001b[32m\u001b[1minfo     \u001b[0m] \u001b[1mModel parameters are saved to d3rlpy_logs/DiscreteCQL_20240315164650/model_540000.d3\u001b[0m\n"
     ]
    },
    {
     "data": {
      "application/vnd.jupyter.widget-view+json": {
       "model_id": "019b648fa7b44702b8a908dbf7935565",
       "version_major": 2,
       "version_minor": 0
      },
      "text/plain": [
       "Epoch 55/100:   0%|          | 0/10000 [00:00<?, ?it/s]"
      ]
     },
     "metadata": {},
     "output_type": "display_data"
    },
    {
     "name": "stdout",
     "output_type": "stream",
     "text": [
      "\u001b[2m2024-03-15 18:34.00\u001b[0m [\u001b[32m\u001b[1minfo     \u001b[0m] \u001b[1mDiscreteCQL_20240315164650: epoch=55 step=550000\u001b[0m \u001b[36mepoch\u001b[0m=\u001b[35m55\u001b[0m \u001b[36mmetrics\u001b[0m=\u001b[35m{'time_sample_batch': 0.008172882676124572, 'time_algorithm_update': 0.0032645708322525026, 'loss': 1.5363739161789418, 'td_loss': 1.5023726866036653, 'conservative_loss': 0.03400122939234134, 'time_step': 0.011580359029769897}\u001b[0m \u001b[36mstep\u001b[0m=\u001b[35m550000\u001b[0m\n",
      "\u001b[2m2024-03-15 18:34.00\u001b[0m [\u001b[32m\u001b[1minfo     \u001b[0m] \u001b[1mModel parameters are saved to d3rlpy_logs/DiscreteCQL_20240315164650/model_550000.d3\u001b[0m\n"
     ]
    },
    {
     "data": {
      "application/vnd.jupyter.widget-view+json": {
       "model_id": "04cb13fb2bdd42a7b66f06c93532fac4",
       "version_major": 2,
       "version_minor": 0
      },
      "text/plain": [
       "Epoch 56/100:   0%|          | 0/10000 [00:00<?, ?it/s]"
      ]
     },
     "metadata": {},
     "output_type": "display_data"
    },
    {
     "name": "stdout",
     "output_type": "stream",
     "text": [
      "\u001b[2m2024-03-15 18:35.55\u001b[0m [\u001b[32m\u001b[1minfo     \u001b[0m] \u001b[1mDiscreteCQL_20240315164650: epoch=56 step=560000\u001b[0m \u001b[36mepoch\u001b[0m=\u001b[35m56\u001b[0m \u001b[36mmetrics\u001b[0m=\u001b[35m{'time_sample_batch': 0.008085965061187745, 'time_algorithm_update': 0.003222599720954895, 'loss': 1.668864526861906, 'td_loss': 1.6333830410212278, 'conservative_loss': 0.03548148593136575, 'time_step': 0.011449646353721619}\u001b[0m \u001b[36mstep\u001b[0m=\u001b[35m560000\u001b[0m\n",
      "\u001b[2m2024-03-15 18:35.55\u001b[0m [\u001b[32m\u001b[1minfo     \u001b[0m] \u001b[1mModel parameters are saved to d3rlpy_logs/DiscreteCQL_20240315164650/model_560000.d3\u001b[0m\n"
     ]
    },
    {
     "data": {
      "application/vnd.jupyter.widget-view+json": {
       "model_id": "580214db372a43c6a0e1287f3588292a",
       "version_major": 2,
       "version_minor": 0
      },
      "text/plain": [
       "Epoch 57/100:   0%|          | 0/10000 [00:00<?, ?it/s]"
      ]
     },
     "metadata": {},
     "output_type": "display_data"
    },
    {
     "name": "stdout",
     "output_type": "stream",
     "text": [
      "\u001b[2m2024-03-15 18:37.49\u001b[0m [\u001b[32m\u001b[1minfo     \u001b[0m] \u001b[1mDiscreteCQL_20240315164650: epoch=57 step=570000\u001b[0m \u001b[36mepoch\u001b[0m=\u001b[35m57\u001b[0m \u001b[36mmetrics\u001b[0m=\u001b[35m{'time_sample_batch': 0.008021898984909058, 'time_algorithm_update': 0.003151824903488159, 'loss': 1.5125446572244168, 'td_loss': 1.4796583281219005, 'conservative_loss': 0.03288632888071006, 'time_step': 0.011293305087089539}\u001b[0m \u001b[36mstep\u001b[0m=\u001b[35m570000\u001b[0m\n",
      "\u001b[2m2024-03-15 18:37.49\u001b[0m [\u001b[32m\u001b[1minfo     \u001b[0m] \u001b[1mModel parameters are saved to d3rlpy_logs/DiscreteCQL_20240315164650/model_570000.d3\u001b[0m\n"
     ]
    },
    {
     "data": {
      "application/vnd.jupyter.widget-view+json": {
       "model_id": "7618cf1ae61049fb9e9e0fc7465efafa",
       "version_major": 2,
       "version_minor": 0
      },
      "text/plain": [
       "Epoch 58/100:   0%|          | 0/10000 [00:00<?, ?it/s]"
      ]
     },
     "metadata": {},
     "output_type": "display_data"
    },
    {
     "name": "stdout",
     "output_type": "stream",
     "text": [
      "\u001b[2m2024-03-15 18:39.45\u001b[0m [\u001b[32m\u001b[1minfo     \u001b[0m] \u001b[1mDiscreteCQL_20240315164650: epoch=58 step=580000\u001b[0m \u001b[36mepoch\u001b[0m=\u001b[35m58\u001b[0m \u001b[36mmetrics\u001b[0m=\u001b[35m{'time_sample_batch': 0.008125322914123535, 'time_algorithm_update': 0.0032602526903152467, 'loss': 1.5349977115392686, 'td_loss': 1.503661849039793, 'conservative_loss': 0.03133586238438729, 'time_step': 0.011527622818946839}\u001b[0m \u001b[36mstep\u001b[0m=\u001b[35m580000\u001b[0m\n",
      "\u001b[2m2024-03-15 18:39.45\u001b[0m [\u001b[32m\u001b[1minfo     \u001b[0m] \u001b[1mModel parameters are saved to d3rlpy_logs/DiscreteCQL_20240315164650/model_580000.d3\u001b[0m\n"
     ]
    },
    {
     "data": {
      "application/vnd.jupyter.widget-view+json": {
       "model_id": "d45fd2a8be064e9d9f84e18e4814327a",
       "version_major": 2,
       "version_minor": 0
      },
      "text/plain": [
       "Epoch 59/100:   0%|          | 0/10000 [00:00<?, ?it/s]"
      ]
     },
     "metadata": {},
     "output_type": "display_data"
    },
    {
     "name": "stdout",
     "output_type": "stream",
     "text": [
      "\u001b[2m2024-03-15 18:41.41\u001b[0m [\u001b[32m\u001b[1minfo     \u001b[0m] \u001b[1mDiscreteCQL_20240315164650: epoch=59 step=590000\u001b[0m \u001b[36mepoch\u001b[0m=\u001b[35m59\u001b[0m \u001b[36mmetrics\u001b[0m=\u001b[35m{'time_sample_batch': 0.008175148677825927, 'time_algorithm_update': 0.003257334089279175, 'loss': 1.782131945925951, 'td_loss': 1.7457647255271673, 'conservative_loss': 0.03636722120619379, 'time_step': 0.011580647087097167}\u001b[0m \u001b[36mstep\u001b[0m=\u001b[35m590000\u001b[0m\n",
      "\u001b[2m2024-03-15 18:41.41\u001b[0m [\u001b[32m\u001b[1minfo     \u001b[0m] \u001b[1mModel parameters are saved to d3rlpy_logs/DiscreteCQL_20240315164650/model_590000.d3\u001b[0m\n"
     ]
    },
    {
     "data": {
      "application/vnd.jupyter.widget-view+json": {
       "model_id": "52b3979672f84302bbbb835ac4b3595b",
       "version_major": 2,
       "version_minor": 0
      },
      "text/plain": [
       "Epoch 60/100:   0%|          | 0/10000 [00:00<?, ?it/s]"
      ]
     },
     "metadata": {},
     "output_type": "display_data"
    },
    {
     "name": "stdout",
     "output_type": "stream",
     "text": [
      "\u001b[2m2024-03-15 18:43.38\u001b[0m [\u001b[32m\u001b[1minfo     \u001b[0m] \u001b[1mDiscreteCQL_20240315164650: epoch=60 step=600000\u001b[0m \u001b[36mepoch\u001b[0m=\u001b[35m60\u001b[0m \u001b[36mmetrics\u001b[0m=\u001b[35m{'time_sample_batch': 0.008183895874023437, 'time_algorithm_update': 0.003276943039894104, 'loss': 1.8686343760520219, 'td_loss': 1.832934350991249, 'conservative_loss': 0.03570002572793164, 'time_step': 0.011607781958580017}\u001b[0m \u001b[36mstep\u001b[0m=\u001b[35m600000\u001b[0m\n",
      "\u001b[2m2024-03-15 18:43.38\u001b[0m [\u001b[32m\u001b[1minfo     \u001b[0m] \u001b[1mModel parameters are saved to d3rlpy_logs/DiscreteCQL_20240315164650/model_600000.d3\u001b[0m\n"
     ]
    },
    {
     "data": {
      "application/vnd.jupyter.widget-view+json": {
       "model_id": "5821f36f082b485fbb96ec74a2073e5d",
       "version_major": 2,
       "version_minor": 0
      },
      "text/plain": [
       "Epoch 61/100:   0%|          | 0/10000 [00:00<?, ?it/s]"
      ]
     },
     "metadata": {},
     "output_type": "display_data"
    },
    {
     "name": "stdout",
     "output_type": "stream",
     "text": [
      "\u001b[2m2024-03-15 18:45.34\u001b[0m [\u001b[32m\u001b[1minfo     \u001b[0m] \u001b[1mDiscreteCQL_20240315164650: epoch=61 step=610000\u001b[0m \u001b[36mepoch\u001b[0m=\u001b[35m61\u001b[0m \u001b[36mmetrics\u001b[0m=\u001b[35m{'time_sample_batch': 0.008131823563575745, 'time_algorithm_update': 0.0032603641271591187, 'loss': 1.7484721414208413, 'td_loss': 1.7099595962166787, 'conservative_loss': 0.03851254496327601, 'time_step': 0.011535480332374573}\u001b[0m \u001b[36mstep\u001b[0m=\u001b[35m610000\u001b[0m\n",
      "\u001b[2m2024-03-15 18:45.34\u001b[0m [\u001b[32m\u001b[1minfo     \u001b[0m] \u001b[1mModel parameters are saved to d3rlpy_logs/DiscreteCQL_20240315164650/model_610000.d3\u001b[0m\n"
     ]
    },
    {
     "data": {
      "application/vnd.jupyter.widget-view+json": {
       "model_id": "62b8c45c4ee447a0ba29866fdf1a1373",
       "version_major": 2,
       "version_minor": 0
      },
      "text/plain": [
       "Epoch 62/100:   0%|          | 0/10000 [00:00<?, ?it/s]"
      ]
     },
     "metadata": {},
     "output_type": "display_data"
    },
    {
     "name": "stdout",
     "output_type": "stream",
     "text": [
      "\u001b[2m2024-03-15 18:47.31\u001b[0m [\u001b[32m\u001b[1minfo     \u001b[0m] \u001b[1mDiscreteCQL_20240315164650: epoch=62 step=620000\u001b[0m \u001b[36mepoch\u001b[0m=\u001b[35m62\u001b[0m \u001b[36mmetrics\u001b[0m=\u001b[35m{'time_sample_batch': 0.008166467237472535, 'time_algorithm_update': 0.0032659698963165285, 'loss': 1.9697371794104577, 'td_loss': 1.9327420644581317, 'conservative_loss': 0.03699511343872873, 'time_step': 0.011580449032783508}\u001b[0m \u001b[36mstep\u001b[0m=\u001b[35m620000\u001b[0m\n",
      "\u001b[2m2024-03-15 18:47.31\u001b[0m [\u001b[32m\u001b[1minfo     \u001b[0m] \u001b[1mModel parameters are saved to d3rlpy_logs/DiscreteCQL_20240315164650/model_620000.d3\u001b[0m\n"
     ]
    },
    {
     "data": {
      "application/vnd.jupyter.widget-view+json": {
       "model_id": "e4de50622dd54b3c9fee0836095d50e8",
       "version_major": 2,
       "version_minor": 0
      },
      "text/plain": [
       "Epoch 63/100:   0%|          | 0/10000 [00:00<?, ?it/s]"
      ]
     },
     "metadata": {},
     "output_type": "display_data"
    },
    {
     "name": "stdout",
     "output_type": "stream",
     "text": [
      "\u001b[2m2024-03-15 18:49.26\u001b[0m [\u001b[32m\u001b[1minfo     \u001b[0m] \u001b[1mDiscreteCQL_20240315164650: epoch=63 step=630000\u001b[0m \u001b[36mepoch\u001b[0m=\u001b[35m63\u001b[0m \u001b[36mmetrics\u001b[0m=\u001b[35m{'time_sample_batch': 0.008115686583518982, 'time_algorithm_update': 0.003238373374938965, 'loss': 1.708410402649641, 'td_loss': 1.6756737395823003, 'conservative_loss': 0.03273666267094668, 'time_step': 0.011497484397888183}\u001b[0m \u001b[36mstep\u001b[0m=\u001b[35m630000\u001b[0m\n",
      "\u001b[2m2024-03-15 18:49.26\u001b[0m [\u001b[32m\u001b[1minfo     \u001b[0m] \u001b[1mModel parameters are saved to d3rlpy_logs/DiscreteCQL_20240315164650/model_630000.d3\u001b[0m\n"
     ]
    },
    {
     "data": {
      "application/vnd.jupyter.widget-view+json": {
       "model_id": "0082c4a792c847ecbeb05e1113e8966f",
       "version_major": 2,
       "version_minor": 0
      },
      "text/plain": [
       "Epoch 64/100:   0%|          | 0/10000 [00:00<?, ?it/s]"
      ]
     },
     "metadata": {},
     "output_type": "display_data"
    },
    {
     "name": "stdout",
     "output_type": "stream",
     "text": [
      "\u001b[2m2024-03-15 18:51.22\u001b[0m [\u001b[32m\u001b[1minfo     \u001b[0m] \u001b[1mDiscreteCQL_20240315164650: epoch=64 step=640000\u001b[0m \u001b[36mepoch\u001b[0m=\u001b[35m64\u001b[0m \u001b[36mmetrics\u001b[0m=\u001b[35m{'time_sample_batch': 0.00814490556716919, 'time_algorithm_update': 0.0032346177101135252, 'loss': 1.9874759292662143, 'td_loss': 1.9482306251347066, 'conservative_loss': 0.0392453034553444, 'time_step': 0.01152527928352356}\u001b[0m \u001b[36mstep\u001b[0m=\u001b[35m640000\u001b[0m\n",
      "\u001b[2m2024-03-15 18:51.22\u001b[0m [\u001b[32m\u001b[1minfo     \u001b[0m] \u001b[1mModel parameters are saved to d3rlpy_logs/DiscreteCQL_20240315164650/model_640000.d3\u001b[0m\n"
     ]
    },
    {
     "data": {
      "application/vnd.jupyter.widget-view+json": {
       "model_id": "d0c92a65667149db9a09413584ba78ce",
       "version_major": 2,
       "version_minor": 0
      },
      "text/plain": [
       "Epoch 65/100:   0%|          | 0/10000 [00:00<?, ?it/s]"
      ]
     },
     "metadata": {},
     "output_type": "display_data"
    },
    {
     "name": "stdout",
     "output_type": "stream",
     "text": [
      "\u001b[2m2024-03-15 18:53.18\u001b[0m [\u001b[32m\u001b[1minfo     \u001b[0m] \u001b[1mDiscreteCQL_20240315164650: epoch=65 step=650000\u001b[0m \u001b[36mepoch\u001b[0m=\u001b[35m65\u001b[0m \u001b[36mmetrics\u001b[0m=\u001b[35m{'time_sample_batch': 0.00812642719745636, 'time_algorithm_update': 0.0032616164684295653, 'loss': 1.5752430131196975, 'td_loss': 1.5449330434769393, 'conservative_loss': 0.03030996871312964, 'time_step': 0.011528204131126403}\u001b[0m \u001b[36mstep\u001b[0m=\u001b[35m650000\u001b[0m\n",
      "\u001b[2m2024-03-15 18:53.18\u001b[0m [\u001b[32m\u001b[1minfo     \u001b[0m] \u001b[1mModel parameters are saved to d3rlpy_logs/DiscreteCQL_20240315164650/model_650000.d3\u001b[0m\n"
     ]
    },
    {
     "data": {
      "application/vnd.jupyter.widget-view+json": {
       "model_id": "3c565ff0c14f4a5890980c74b6c572c4",
       "version_major": 2,
       "version_minor": 0
      },
      "text/plain": [
       "Epoch 66/100:   0%|          | 0/10000 [00:00<?, ?it/s]"
      ]
     },
     "metadata": {},
     "output_type": "display_data"
    },
    {
     "name": "stdout",
     "output_type": "stream",
     "text": [
      "\u001b[2m2024-03-15 18:55.16\u001b[0m [\u001b[32m\u001b[1minfo     \u001b[0m] \u001b[1mDiscreteCQL_20240315164650: epoch=66 step=660000\u001b[0m \u001b[36mepoch\u001b[0m=\u001b[35m66\u001b[0m \u001b[36mmetrics\u001b[0m=\u001b[35m{'time_sample_batch': 0.008224092650413514, 'time_algorithm_update': 0.0033074814796447754, 'loss': 1.7955609825789929, 'td_loss': 1.7596737768530846, 'conservative_loss': 0.03588720547198318, 'time_step': 0.011680650568008422}\u001b[0m \u001b[36mstep\u001b[0m=\u001b[35m660000\u001b[0m\n",
      "\u001b[2m2024-03-15 18:55.16\u001b[0m [\u001b[32m\u001b[1minfo     \u001b[0m] \u001b[1mModel parameters are saved to d3rlpy_logs/DiscreteCQL_20240315164650/model_660000.d3\u001b[0m\n"
     ]
    },
    {
     "data": {
      "application/vnd.jupyter.widget-view+json": {
       "model_id": "ce84727c1dca499c80a0878ad8fe0008",
       "version_major": 2,
       "version_minor": 0
      },
      "text/plain": [
       "Epoch 67/100:   0%|          | 0/10000 [00:00<?, ?it/s]"
      ]
     },
     "metadata": {},
     "output_type": "display_data"
    },
    {
     "name": "stdout",
     "output_type": "stream",
     "text": [
      "\u001b[2m2024-03-15 18:57.13\u001b[0m [\u001b[32m\u001b[1minfo     \u001b[0m] \u001b[1mDiscreteCQL_20240315164650: epoch=67 step=670000\u001b[0m \u001b[36mepoch\u001b[0m=\u001b[35m67\u001b[0m \u001b[36mmetrics\u001b[0m=\u001b[35m{'time_sample_batch': 0.008177841830253602, 'time_algorithm_update': 0.003253865647315979, 'loss': 1.7366377866983413, 'td_loss': 1.7030525240063668, 'conservative_loss': 0.033585263573925474, 'time_step': 0.011576426100730897}\u001b[0m \u001b[36mstep\u001b[0m=\u001b[35m670000\u001b[0m\n",
      "\u001b[2m2024-03-15 18:57.13\u001b[0m [\u001b[32m\u001b[1minfo     \u001b[0m] \u001b[1mModel parameters are saved to d3rlpy_logs/DiscreteCQL_20240315164650/model_670000.d3\u001b[0m\n"
     ]
    },
    {
     "data": {
      "application/vnd.jupyter.widget-view+json": {
       "model_id": "7a40f6abb15d45858c559f1a8e0cf7d5",
       "version_major": 2,
       "version_minor": 0
      },
      "text/plain": [
       "Epoch 68/100:   0%|          | 0/10000 [00:00<?, ?it/s]"
      ]
     },
     "metadata": {},
     "output_type": "display_data"
    },
    {
     "name": "stdout",
     "output_type": "stream",
     "text": [
      "\u001b[2m2024-03-15 18:59.08\u001b[0m [\u001b[32m\u001b[1minfo     \u001b[0m] \u001b[1mDiscreteCQL_20240315164650: epoch=68 step=680000\u001b[0m \u001b[36mepoch\u001b[0m=\u001b[35m68\u001b[0m \u001b[36mmetrics\u001b[0m=\u001b[35m{'time_sample_batch': 0.008148389220237732, 'time_algorithm_update': 0.0032113216876983645, 'loss': 2.478361507177353, 'td_loss': 2.4364688896119593, 'conservative_loss': 0.041892617887782396, 'time_step': 0.011507992553710938}\u001b[0m \u001b[36mstep\u001b[0m=\u001b[35m680000\u001b[0m\n",
      "\u001b[2m2024-03-15 18:59.08\u001b[0m [\u001b[32m\u001b[1minfo     \u001b[0m] \u001b[1mModel parameters are saved to d3rlpy_logs/DiscreteCQL_20240315164650/model_680000.d3\u001b[0m\n"
     ]
    },
    {
     "data": {
      "application/vnd.jupyter.widget-view+json": {
       "model_id": "82d0a0b7249b4fa2a316a7be3d2b51a2",
       "version_major": 2,
       "version_minor": 0
      },
      "text/plain": [
       "Epoch 69/100:   0%|          | 0/10000 [00:00<?, ?it/s]"
      ]
     },
     "metadata": {},
     "output_type": "display_data"
    },
    {
     "name": "stdout",
     "output_type": "stream",
     "text": [
      "\u001b[2m2024-03-15 19:01.05\u001b[0m [\u001b[32m\u001b[1minfo     \u001b[0m] \u001b[1mDiscreteCQL_20240315164650: epoch=69 step=690000\u001b[0m \u001b[36mepoch\u001b[0m=\u001b[35m69\u001b[0m \u001b[36mmetrics\u001b[0m=\u001b[35m{'time_sample_batch': 0.00816948103904724, 'time_algorithm_update': 0.003286105728149414, 'loss': 2.485605747461319, 'td_loss': 2.4425514844954015, 'conservative_loss': 0.043054262080730404, 'time_step': 0.011607702493667603}\u001b[0m \u001b[36mstep\u001b[0m=\u001b[35m690000\u001b[0m\n",
      "\u001b[2m2024-03-15 19:01.05\u001b[0m [\u001b[32m\u001b[1minfo     \u001b[0m] \u001b[1mModel parameters are saved to d3rlpy_logs/DiscreteCQL_20240315164650/model_690000.d3\u001b[0m\n"
     ]
    },
    {
     "data": {
      "application/vnd.jupyter.widget-view+json": {
       "model_id": "b12eb27853454cf69c4a54a2cee3a6dc",
       "version_major": 2,
       "version_minor": 0
      },
      "text/plain": [
       "Epoch 70/100:   0%|          | 0/10000 [00:00<?, ?it/s]"
      ]
     },
     "metadata": {},
     "output_type": "display_data"
    },
    {
     "name": "stdout",
     "output_type": "stream",
     "text": [
      "\u001b[2m2024-03-15 19:03.02\u001b[0m [\u001b[32m\u001b[1minfo     \u001b[0m] \u001b[1mDiscreteCQL_20240315164650: epoch=70 step=700000\u001b[0m \u001b[36mepoch\u001b[0m=\u001b[35m70\u001b[0m \u001b[36mmetrics\u001b[0m=\u001b[35m{'time_sample_batch': 0.008195624327659606, 'time_algorithm_update': 0.003275171160697937, 'loss': 2.0474108667552473, 'td_loss': 2.011980031621456, 'conservative_loss': 0.03543083439529873, 'time_step': 0.011618309545516967}\u001b[0m \u001b[36mstep\u001b[0m=\u001b[35m700000\u001b[0m\n",
      "\u001b[2m2024-03-15 19:03.02\u001b[0m [\u001b[32m\u001b[1minfo     \u001b[0m] \u001b[1mModel parameters are saved to d3rlpy_logs/DiscreteCQL_20240315164650/model_700000.d3\u001b[0m\n"
     ]
    },
    {
     "data": {
      "application/vnd.jupyter.widget-view+json": {
       "model_id": "35eb05b84740469faba7451fd5f62c68",
       "version_major": 2,
       "version_minor": 0
      },
      "text/plain": [
       "Epoch 71/100:   0%|          | 0/10000 [00:00<?, ?it/s]"
      ]
     },
     "metadata": {},
     "output_type": "display_data"
    },
    {
     "name": "stdout",
     "output_type": "stream",
     "text": [
      "\u001b[2m2024-03-15 19:04.59\u001b[0m [\u001b[32m\u001b[1minfo     \u001b[0m] \u001b[1mDiscreteCQL_20240315164650: epoch=71 step=710000\u001b[0m \u001b[36mepoch\u001b[0m=\u001b[35m71\u001b[0m \u001b[36mmetrics\u001b[0m=\u001b[35m{'time_sample_batch': 0.008171505641937256, 'time_algorithm_update': 0.003285291838645935, 'loss': 1.955776408880949, 'td_loss': 1.920988694560528, 'conservative_loss': 0.034787713523081035, 'time_step': 0.011603880405426025}\u001b[0m \u001b[36mstep\u001b[0m=\u001b[35m710000\u001b[0m\n",
      "\u001b[2m2024-03-15 19:04.59\u001b[0m [\u001b[32m\u001b[1minfo     \u001b[0m] \u001b[1mModel parameters are saved to d3rlpy_logs/DiscreteCQL_20240315164650/model_710000.d3\u001b[0m\n"
     ]
    },
    {
     "data": {
      "application/vnd.jupyter.widget-view+json": {
       "model_id": "fee0a5de5b9a41308a3c7ce3eec263d2",
       "version_major": 2,
       "version_minor": 0
      },
      "text/plain": [
       "Epoch 72/100:   0%|          | 0/10000 [00:00<?, ?it/s]"
      ]
     },
     "metadata": {},
     "output_type": "display_data"
    },
    {
     "name": "stdout",
     "output_type": "stream",
     "text": [
      "\u001b[2m2024-03-15 19:06.55\u001b[0m [\u001b[32m\u001b[1minfo     \u001b[0m] \u001b[1mDiscreteCQL_20240315164650: epoch=72 step=720000\u001b[0m \u001b[36mepoch\u001b[0m=\u001b[35m72\u001b[0m \u001b[36mmetrics\u001b[0m=\u001b[35m{'time_sample_batch': 0.008138041734695435, 'time_algorithm_update': 0.0032576918125152587, 'loss': 1.8994316592991352, 'td_loss': 1.8641177336752415, 'conservative_loss': 0.03531392536209314, 'time_step': 0.01154237904548645}\u001b[0m \u001b[36mstep\u001b[0m=\u001b[35m720000\u001b[0m\n",
      "\u001b[2m2024-03-15 19:06.55\u001b[0m [\u001b[32m\u001b[1minfo     \u001b[0m] \u001b[1mModel parameters are saved to d3rlpy_logs/DiscreteCQL_20240315164650/model_720000.d3\u001b[0m\n"
     ]
    },
    {
     "data": {
      "application/vnd.jupyter.widget-view+json": {
       "model_id": "9e153f4371754f23a1abde1f02782271",
       "version_major": 2,
       "version_minor": 0
      },
      "text/plain": [
       "Epoch 73/100:   0%|          | 0/10000 [00:00<?, ?it/s]"
      ]
     },
     "metadata": {},
     "output_type": "display_data"
    },
    {
     "name": "stdout",
     "output_type": "stream",
     "text": [
      "\u001b[2m2024-03-15 19:08.52\u001b[0m [\u001b[32m\u001b[1minfo     \u001b[0m] \u001b[1mDiscreteCQL_20240315164650: epoch=73 step=730000\u001b[0m \u001b[36mepoch\u001b[0m=\u001b[35m73\u001b[0m \u001b[36mmetrics\u001b[0m=\u001b[35m{'time_sample_batch': 0.008230166745185853, 'time_algorithm_update': 0.0032831825017929075, 'loss': 2.0761857697308064, 'td_loss': 2.038763805115223, 'conservative_loss': 0.03742196451169438, 'time_step': 0.011658967137336732}\u001b[0m \u001b[36mstep\u001b[0m=\u001b[35m730000\u001b[0m\n",
      "\u001b[2m2024-03-15 19:08.52\u001b[0m [\u001b[32m\u001b[1minfo     \u001b[0m] \u001b[1mModel parameters are saved to d3rlpy_logs/DiscreteCQL_20240315164650/model_730000.d3\u001b[0m\n"
     ]
    },
    {
     "data": {
      "application/vnd.jupyter.widget-view+json": {
       "model_id": "8392561c65da4a82a41ca8bc3e53e52b",
       "version_major": 2,
       "version_minor": 0
      },
      "text/plain": [
       "Epoch 74/100:   0%|          | 0/10000 [00:00<?, ?it/s]"
      ]
     },
     "metadata": {},
     "output_type": "display_data"
    },
    {
     "name": "stdout",
     "output_type": "stream",
     "text": [
      "\u001b[2m2024-03-15 19:10.49\u001b[0m [\u001b[32m\u001b[1minfo     \u001b[0m] \u001b[1mDiscreteCQL_20240315164650: epoch=74 step=740000\u001b[0m \u001b[36mepoch\u001b[0m=\u001b[35m74\u001b[0m \u001b[36mmetrics\u001b[0m=\u001b[35m{'time_sample_batch': 0.008156036639213562, 'time_algorithm_update': 0.0032533082246780395, 'loss': 1.7906738594174385, 'td_loss': 1.753907912093401, 'conservative_loss': 0.036765947139711354, 'time_step': 0.01155488727092743}\u001b[0m \u001b[36mstep\u001b[0m=\u001b[35m740000\u001b[0m\n",
      "\u001b[2m2024-03-15 19:10.49\u001b[0m [\u001b[32m\u001b[1minfo     \u001b[0m] \u001b[1mModel parameters are saved to d3rlpy_logs/DiscreteCQL_20240315164650/model_740000.d3\u001b[0m\n"
     ]
    },
    {
     "data": {
      "application/vnd.jupyter.widget-view+json": {
       "model_id": "d34418e3f694428f95a94f7edec5718a",
       "version_major": 2,
       "version_minor": 0
      },
      "text/plain": [
       "Epoch 75/100:   0%|          | 0/10000 [00:00<?, ?it/s]"
      ]
     },
     "metadata": {},
     "output_type": "display_data"
    },
    {
     "name": "stdout",
     "output_type": "stream",
     "text": [
      "\u001b[2m2024-03-15 19:12.46\u001b[0m [\u001b[32m\u001b[1minfo     \u001b[0m] \u001b[1mDiscreteCQL_20240315164650: epoch=75 step=750000\u001b[0m \u001b[36mepoch\u001b[0m=\u001b[35m75\u001b[0m \u001b[36mmetrics\u001b[0m=\u001b[35m{'time_sample_batch': 0.008198498439788818, 'time_algorithm_update': 0.003302592825889587, 'loss': 1.9725811664640904, 'td_loss': 1.9361731740236283, 'conservative_loss': 0.0364079920597258, 'time_step': 0.011650944066047669}\u001b[0m \u001b[36mstep\u001b[0m=\u001b[35m750000\u001b[0m\n",
      "\u001b[2m2024-03-15 19:12.46\u001b[0m [\u001b[32m\u001b[1minfo     \u001b[0m] \u001b[1mModel parameters are saved to d3rlpy_logs/DiscreteCQL_20240315164650/model_750000.d3\u001b[0m\n"
     ]
    },
    {
     "data": {
      "application/vnd.jupyter.widget-view+json": {
       "model_id": "df74a124c084429488750f4abc97bd76",
       "version_major": 2,
       "version_minor": 0
      },
      "text/plain": [
       "Epoch 76/100:   0%|          | 0/10000 [00:00<?, ?it/s]"
      ]
     },
     "metadata": {},
     "output_type": "display_data"
    },
    {
     "name": "stdout",
     "output_type": "stream",
     "text": [
      "\u001b[2m2024-03-15 19:14.43\u001b[0m [\u001b[32m\u001b[1minfo     \u001b[0m] \u001b[1mDiscreteCQL_20240315164650: epoch=76 step=760000\u001b[0m \u001b[36mepoch\u001b[0m=\u001b[35m76\u001b[0m \u001b[36mmetrics\u001b[0m=\u001b[35m{'time_sample_batch': 0.00815554986000061, 'time_algorithm_update': 0.003278550124168396, 'loss': 2.5857945946127177, 'td_loss': 2.545611665838957, 'conservative_loss': 0.04018293016297975, 'time_step': 0.011581337451934815}\u001b[0m \u001b[36mstep\u001b[0m=\u001b[35m760000\u001b[0m\n",
      "\u001b[2m2024-03-15 19:14.43\u001b[0m [\u001b[32m\u001b[1minfo     \u001b[0m] \u001b[1mModel parameters are saved to d3rlpy_logs/DiscreteCQL_20240315164650/model_760000.d3\u001b[0m\n"
     ]
    },
    {
     "data": {
      "application/vnd.jupyter.widget-view+json": {
       "model_id": "1753481505344a5d93c3a9953453abd7",
       "version_major": 2,
       "version_minor": 0
      },
      "text/plain": [
       "Epoch 77/100:   0%|          | 0/10000 [00:00<?, ?it/s]"
      ]
     },
     "metadata": {},
     "output_type": "display_data"
    },
    {
     "name": "stdout",
     "output_type": "stream",
     "text": [
      "\u001b[2m2024-03-15 19:16.39\u001b[0m [\u001b[32m\u001b[1minfo     \u001b[0m] \u001b[1mDiscreteCQL_20240315164650: epoch=77 step=770000\u001b[0m \u001b[36mepoch\u001b[0m=\u001b[35m77\u001b[0m \u001b[36mmetrics\u001b[0m=\u001b[35m{'time_sample_batch': 0.008155872702598571, 'time_algorithm_update': 0.003264810919761658, 'loss': 2.0628614800333978, 'td_loss': 2.0270077501773835, 'conservative_loss': 0.035853729361033766, 'time_step': 0.01156627655029297}\u001b[0m \u001b[36mstep\u001b[0m=\u001b[35m770000\u001b[0m\n",
      "\u001b[2m2024-03-15 19:16.39\u001b[0m [\u001b[32m\u001b[1minfo     \u001b[0m] \u001b[1mModel parameters are saved to d3rlpy_logs/DiscreteCQL_20240315164650/model_770000.d3\u001b[0m\n"
     ]
    },
    {
     "data": {
      "application/vnd.jupyter.widget-view+json": {
       "model_id": "f2d4b12a65ba43199c77db615d7d818e",
       "version_major": 2,
       "version_minor": 0
      },
      "text/plain": [
       "Epoch 78/100:   0%|          | 0/10000 [00:00<?, ?it/s]"
      ]
     },
     "metadata": {},
     "output_type": "display_data"
    },
    {
     "name": "stdout",
     "output_type": "stream",
     "text": [
      "\u001b[2m2024-03-15 19:18.35\u001b[0m [\u001b[32m\u001b[1minfo     \u001b[0m] \u001b[1mDiscreteCQL_20240315164650: epoch=78 step=780000\u001b[0m \u001b[36mepoch\u001b[0m=\u001b[35m78\u001b[0m \u001b[36mmetrics\u001b[0m=\u001b[35m{'time_sample_batch': 0.00814139587879181, 'time_algorithm_update': 0.003258693599700928, 'loss': 2.575333460706472, 'td_loss': 2.5273681743383407, 'conservative_loss': 0.04796528635419672, 'time_step': 0.011551246786117554}\u001b[0m \u001b[36mstep\u001b[0m=\u001b[35m780000\u001b[0m\n",
      "\u001b[2m2024-03-15 19:18.35\u001b[0m [\u001b[32m\u001b[1minfo     \u001b[0m] \u001b[1mModel parameters are saved to d3rlpy_logs/DiscreteCQL_20240315164650/model_780000.d3\u001b[0m\n"
     ]
    },
    {
     "data": {
      "application/vnd.jupyter.widget-view+json": {
       "model_id": "1d933ff4a6614d76b26deda436c20f0f",
       "version_major": 2,
       "version_minor": 0
      },
      "text/plain": [
       "Epoch 79/100:   0%|          | 0/10000 [00:00<?, ?it/s]"
      ]
     },
     "metadata": {},
     "output_type": "display_data"
    },
    {
     "name": "stdout",
     "output_type": "stream",
     "text": [
      "\u001b[2m2024-03-15 19:20.31\u001b[0m [\u001b[32m\u001b[1minfo     \u001b[0m] \u001b[1mDiscreteCQL_20240315164650: epoch=79 step=790000\u001b[0m \u001b[36mepoch\u001b[0m=\u001b[35m79\u001b[0m \u001b[36mmetrics\u001b[0m=\u001b[35m{'time_sample_batch': 0.00815811309814453, 'time_algorithm_update': 0.003250468158721924, 'loss': 1.8564829686284066, 'td_loss': 1.8217730774521828, 'conservative_loss': 0.034709890860051384, 'time_step': 0.011551184129714965}\u001b[0m \u001b[36mstep\u001b[0m=\u001b[35m790000\u001b[0m\n",
      "\u001b[2m2024-03-15 19:20.31\u001b[0m [\u001b[32m\u001b[1minfo     \u001b[0m] \u001b[1mModel parameters are saved to d3rlpy_logs/DiscreteCQL_20240315164650/model_790000.d3\u001b[0m\n"
     ]
    },
    {
     "data": {
      "application/vnd.jupyter.widget-view+json": {
       "model_id": "16a711215a314af0a46919cf473090be",
       "version_major": 2,
       "version_minor": 0
      },
      "text/plain": [
       "Epoch 80/100:   0%|          | 0/10000 [00:00<?, ?it/s]"
      ]
     },
     "metadata": {},
     "output_type": "display_data"
    },
    {
     "name": "stdout",
     "output_type": "stream",
     "text": [
      "\u001b[2m2024-03-15 19:22.27\u001b[0m [\u001b[32m\u001b[1minfo     \u001b[0m] \u001b[1mDiscreteCQL_20240315164650: epoch=80 step=800000\u001b[0m \u001b[36mepoch\u001b[0m=\u001b[35m80\u001b[0m \u001b[36mmetrics\u001b[0m=\u001b[35m{'time_sample_batch': 0.008120050740242005, 'time_algorithm_update': 0.0032614983797073366, 'loss': 1.9303510931700467, 'td_loss': 1.8928311301231384, 'conservative_loss': 0.037519963022251614, 'time_step': 0.011523528218269349}\u001b[0m \u001b[36mstep\u001b[0m=\u001b[35m800000\u001b[0m\n",
      "\u001b[2m2024-03-15 19:22.27\u001b[0m [\u001b[32m\u001b[1minfo     \u001b[0m] \u001b[1mModel parameters are saved to d3rlpy_logs/DiscreteCQL_20240315164650/model_800000.d3\u001b[0m\n"
     ]
    },
    {
     "data": {
      "application/vnd.jupyter.widget-view+json": {
       "model_id": "6fceca9d40d445bda541782e4f91c13c",
       "version_major": 2,
       "version_minor": 0
      },
      "text/plain": [
       "Epoch 81/100:   0%|          | 0/10000 [00:00<?, ?it/s]"
      ]
     },
     "metadata": {},
     "output_type": "display_data"
    },
    {
     "name": "stdout",
     "output_type": "stream",
     "text": [
      "\u001b[2m2024-03-15 19:24.24\u001b[0m [\u001b[32m\u001b[1minfo     \u001b[0m] \u001b[1mDiscreteCQL_20240315164650: epoch=81 step=810000\u001b[0m \u001b[36mepoch\u001b[0m=\u001b[35m81\u001b[0m \u001b[36mmetrics\u001b[0m=\u001b[35m{'time_sample_batch': 0.008202653813362121, 'time_algorithm_update': 0.003267927622795105, 'loss': 2.4836313546955586, 'td_loss': 2.442592423635721, 'conservative_loss': 0.04103893176105339, 'time_step': 0.011616242980957031}\u001b[0m \u001b[36mstep\u001b[0m=\u001b[35m810000\u001b[0m\n",
      "\u001b[2m2024-03-15 19:24.24\u001b[0m [\u001b[32m\u001b[1minfo     \u001b[0m] \u001b[1mModel parameters are saved to d3rlpy_logs/DiscreteCQL_20240315164650/model_810000.d3\u001b[0m\n"
     ]
    },
    {
     "data": {
      "application/vnd.jupyter.widget-view+json": {
       "model_id": "c0e5f1668856450db9577e8dd5911601",
       "version_major": 2,
       "version_minor": 0
      },
      "text/plain": [
       "Epoch 82/100:   0%|          | 0/10000 [00:00<?, ?it/s]"
      ]
     },
     "metadata": {},
     "output_type": "display_data"
    },
    {
     "name": "stdout",
     "output_type": "stream",
     "text": [
      "\u001b[2m2024-03-15 19:26.23\u001b[0m [\u001b[32m\u001b[1minfo     \u001b[0m] \u001b[1mDiscreteCQL_20240315164650: epoch=82 step=820000\u001b[0m \u001b[36mepoch\u001b[0m=\u001b[35m82\u001b[0m \u001b[36mmetrics\u001b[0m=\u001b[35m{'time_sample_batch': 0.008212311482429504, 'time_algorithm_update': 0.0034204505681991577, 'loss': 2.6489318587899207, 'td_loss': 2.6125823539197444, 'conservative_loss': 0.036349503542878664, 'time_step': 0.011785965013504028}\u001b[0m \u001b[36mstep\u001b[0m=\u001b[35m820000\u001b[0m\n",
      "\u001b[2m2024-03-15 19:26.23\u001b[0m [\u001b[32m\u001b[1minfo     \u001b[0m] \u001b[1mModel parameters are saved to d3rlpy_logs/DiscreteCQL_20240315164650/model_820000.d3\u001b[0m\n"
     ]
    },
    {
     "data": {
      "application/vnd.jupyter.widget-view+json": {
       "model_id": "d2ec507229314a8794d433c6f62d86df",
       "version_major": 2,
       "version_minor": 0
      },
      "text/plain": [
       "Epoch 83/100:   0%|          | 0/10000 [00:00<?, ?it/s]"
      ]
     },
     "metadata": {},
     "output_type": "display_data"
    },
    {
     "name": "stdout",
     "output_type": "stream",
     "text": [
      "\u001b[2m2024-03-15 19:28.20\u001b[0m [\u001b[32m\u001b[1minfo     \u001b[0m] \u001b[1mDiscreteCQL_20240315164650: epoch=83 step=830000\u001b[0m \u001b[36mepoch\u001b[0m=\u001b[35m83\u001b[0m \u001b[36mmetrics\u001b[0m=\u001b[35m{'time_sample_batch': 0.008187575578689574, 'time_algorithm_update': 0.0032795613050460816, 'loss': 2.4589305341959, 'td_loss': 2.419342522710562, 'conservative_loss': 0.039588014125882184, 'time_step': 0.01161612355709076}\u001b[0m \u001b[36mstep\u001b[0m=\u001b[35m830000\u001b[0m\n",
      "\u001b[2m2024-03-15 19:28.20\u001b[0m [\u001b[32m\u001b[1minfo     \u001b[0m] \u001b[1mModel parameters are saved to d3rlpy_logs/DiscreteCQL_20240315164650/model_830000.d3\u001b[0m\n"
     ]
    },
    {
     "data": {
      "application/vnd.jupyter.widget-view+json": {
       "model_id": "36d155abb72c4a8cb863a41b37e63446",
       "version_major": 2,
       "version_minor": 0
      },
      "text/plain": [
       "Epoch 84/100:   0%|          | 0/10000 [00:00<?, ?it/s]"
      ]
     },
     "metadata": {},
     "output_type": "display_data"
    },
    {
     "name": "stdout",
     "output_type": "stream",
     "text": [
      "\u001b[2m2024-03-15 19:30.16\u001b[0m [\u001b[32m\u001b[1minfo     \u001b[0m] \u001b[1mDiscreteCQL_20240315164650: epoch=84 step=840000\u001b[0m \u001b[36mepoch\u001b[0m=\u001b[35m84\u001b[0m \u001b[36mmetrics\u001b[0m=\u001b[35m{'time_sample_batch': 0.008138841366767883, 'time_algorithm_update': 0.0032989042282104493, 'loss': 1.9816359657347202, 'td_loss': 1.945723889040947, 'conservative_loss': 0.035912075633637144, 'time_step': 0.011583034229278564}\u001b[0m \u001b[36mstep\u001b[0m=\u001b[35m840000\u001b[0m\n",
      "\u001b[2m2024-03-15 19:30.16\u001b[0m [\u001b[32m\u001b[1minfo     \u001b[0m] \u001b[1mModel parameters are saved to d3rlpy_logs/DiscreteCQL_20240315164650/model_840000.d3\u001b[0m\n"
     ]
    },
    {
     "data": {
      "application/vnd.jupyter.widget-view+json": {
       "model_id": "99248f27fa17461b845bf1f7d9b2c8c7",
       "version_major": 2,
       "version_minor": 0
      },
      "text/plain": [
       "Epoch 85/100:   0%|          | 0/10000 [00:00<?, ?it/s]"
      ]
     },
     "metadata": {},
     "output_type": "display_data"
    },
    {
     "name": "stdout",
     "output_type": "stream",
     "text": [
      "\u001b[2m2024-03-15 19:32.13\u001b[0m [\u001b[32m\u001b[1minfo     \u001b[0m] \u001b[1mDiscreteCQL_20240315164650: epoch=85 step=850000\u001b[0m \u001b[36mepoch\u001b[0m=\u001b[35m85\u001b[0m \u001b[36mmetrics\u001b[0m=\u001b[35m{'time_sample_batch': 0.00812513542175293, 'time_algorithm_update': 0.0032716606855392456, 'loss': 2.832907930147648, 'td_loss': 2.792318883532286, 'conservative_loss': 0.04058904669681797, 'time_step': 0.011545726704597473}\u001b[0m \u001b[36mstep\u001b[0m=\u001b[35m850000\u001b[0m\n",
      "\u001b[2m2024-03-15 19:32.13\u001b[0m [\u001b[32m\u001b[1minfo     \u001b[0m] \u001b[1mModel parameters are saved to d3rlpy_logs/DiscreteCQL_20240315164650/model_850000.d3\u001b[0m\n"
     ]
    },
    {
     "data": {
      "application/vnd.jupyter.widget-view+json": {
       "model_id": "ff3c8c41eeb04ff6858198aa24b55169",
       "version_major": 2,
       "version_minor": 0
      },
      "text/plain": [
       "Epoch 86/100:   0%|          | 0/10000 [00:00<?, ?it/s]"
      ]
     },
     "metadata": {},
     "output_type": "display_data"
    },
    {
     "name": "stdout",
     "output_type": "stream",
     "text": [
      "\u001b[2m2024-03-15 19:34.10\u001b[0m [\u001b[32m\u001b[1minfo     \u001b[0m] \u001b[1mDiscreteCQL_20240315164650: epoch=86 step=860000\u001b[0m \u001b[36mepoch\u001b[0m=\u001b[35m86\u001b[0m \u001b[36mmetrics\u001b[0m=\u001b[35m{'time_sample_batch': 0.00822779140472412, 'time_algorithm_update': 0.0032912651777267455, 'loss': 2.580876559442282, 'td_loss': 2.5402372739195824, 'conservative_loss': 0.040639285518391986, 'time_step': 0.01166778302192688}\u001b[0m \u001b[36mstep\u001b[0m=\u001b[35m860000\u001b[0m\n",
      "\u001b[2m2024-03-15 19:34.10\u001b[0m [\u001b[32m\u001b[1minfo     \u001b[0m] \u001b[1mModel parameters are saved to d3rlpy_logs/DiscreteCQL_20240315164650/model_860000.d3\u001b[0m\n"
     ]
    },
    {
     "data": {
      "application/vnd.jupyter.widget-view+json": {
       "model_id": "0da02f01fde4487bb83155585c4c0d93",
       "version_major": 2,
       "version_minor": 0
      },
      "text/plain": [
       "Epoch 87/100:   0%|          | 0/10000 [00:00<?, ?it/s]"
      ]
     },
     "metadata": {},
     "output_type": "display_data"
    },
    {
     "name": "stdout",
     "output_type": "stream",
     "text": [
      "\u001b[2m2024-03-15 19:36.08\u001b[0m [\u001b[32m\u001b[1minfo     \u001b[0m] \u001b[1mDiscreteCQL_20240315164650: epoch=87 step=870000\u001b[0m \u001b[36mepoch\u001b[0m=\u001b[35m87\u001b[0m \u001b[36mmetrics\u001b[0m=\u001b[35m{'time_sample_batch': 0.008157714009284974, 'time_algorithm_update': 0.0033608535051345826, 'loss': 2.495877758306265, 'td_loss': 2.4532909667670726, 'conservative_loss': 0.04258679210286355, 'time_step': 0.011669801044464112}\u001b[0m \u001b[36mstep\u001b[0m=\u001b[35m870000\u001b[0m\n",
      "\u001b[2m2024-03-15 19:36.08\u001b[0m [\u001b[32m\u001b[1minfo     \u001b[0m] \u001b[1mModel parameters are saved to d3rlpy_logs/DiscreteCQL_20240315164650/model_870000.d3\u001b[0m\n"
     ]
    },
    {
     "data": {
      "application/vnd.jupyter.widget-view+json": {
       "model_id": "a2d85e7f40c24ff19ebc85c78e771639",
       "version_major": 2,
       "version_minor": 0
      },
      "text/plain": [
       "Epoch 88/100:   0%|          | 0/10000 [00:00<?, ?it/s]"
      ]
     },
     "metadata": {},
     "output_type": "display_data"
    },
    {
     "name": "stdout",
     "output_type": "stream",
     "text": [
      "\u001b[2m2024-03-15 19:38.05\u001b[0m [\u001b[32m\u001b[1minfo     \u001b[0m] \u001b[1mDiscreteCQL_20240315164650: epoch=88 step=880000\u001b[0m \u001b[36mepoch\u001b[0m=\u001b[35m88\u001b[0m \u001b[36mmetrics\u001b[0m=\u001b[35m{'time_sample_batch': 0.008197143697738647, 'time_algorithm_update': 0.0033158371210098266, 'loss': 2.672175893265009, 'td_loss': 2.6246841648578645, 'conservative_loss': 0.047491727439616806, 'time_step': 0.011665750098228454}\u001b[0m \u001b[36mstep\u001b[0m=\u001b[35m880000\u001b[0m\n",
      "\u001b[2m2024-03-15 19:38.05\u001b[0m [\u001b[32m\u001b[1minfo     \u001b[0m] \u001b[1mModel parameters are saved to d3rlpy_logs/DiscreteCQL_20240315164650/model_880000.d3\u001b[0m\n"
     ]
    },
    {
     "data": {
      "application/vnd.jupyter.widget-view+json": {
       "model_id": "369269c314cc40ed97cf31721a0799c8",
       "version_major": 2,
       "version_minor": 0
      },
      "text/plain": [
       "Epoch 89/100:   0%|          | 0/10000 [00:00<?, ?it/s]"
      ]
     },
     "metadata": {},
     "output_type": "display_data"
    },
    {
     "name": "stdout",
     "output_type": "stream",
     "text": [
      "\u001b[2m2024-03-15 19:40.04\u001b[0m [\u001b[32m\u001b[1minfo     \u001b[0m] \u001b[1mDiscreteCQL_20240315164650: epoch=89 step=890000\u001b[0m \u001b[36mepoch\u001b[0m=\u001b[35m89\u001b[0m \u001b[36mmetrics\u001b[0m=\u001b[35m{'time_sample_batch': 0.008247505903244018, 'time_algorithm_update': 0.003437164831161499, 'loss': 2.3483585846185684, 'td_loss': 2.309319618499279, 'conservative_loss': 0.03903896641945467, 'time_step': 0.01183627827167511}\u001b[0m \u001b[36mstep\u001b[0m=\u001b[35m890000\u001b[0m\n",
      "\u001b[2m2024-03-15 19:40.04\u001b[0m [\u001b[32m\u001b[1minfo     \u001b[0m] \u001b[1mModel parameters are saved to d3rlpy_logs/DiscreteCQL_20240315164650/model_890000.d3\u001b[0m\n"
     ]
    },
    {
     "data": {
      "application/vnd.jupyter.widget-view+json": {
       "model_id": "0842ea58c9bd46e19fc52a845d26cfaf",
       "version_major": 2,
       "version_minor": 0
      },
      "text/plain": [
       "Epoch 90/100:   0%|          | 0/10000 [00:00<?, ?it/s]"
      ]
     },
     "metadata": {},
     "output_type": "display_data"
    },
    {
     "name": "stdout",
     "output_type": "stream",
     "text": [
      "\u001b[2m2024-03-15 19:42.01\u001b[0m [\u001b[32m\u001b[1minfo     \u001b[0m] \u001b[1mDiscreteCQL_20240315164650: epoch=90 step=900000\u001b[0m \u001b[36mepoch\u001b[0m=\u001b[35m90\u001b[0m \u001b[36mmetrics\u001b[0m=\u001b[35m{'time_sample_batch': 0.00815736436843872, 'time_algorithm_update': 0.0032749069452285766, 'loss': 3.1243328647732733, 'td_loss': 3.0788117596566678, 'conservative_loss': 0.045521104608068706, 'time_step': 0.011585872220993042}\u001b[0m \u001b[36mstep\u001b[0m=\u001b[35m900000\u001b[0m\n",
      "\u001b[2m2024-03-15 19:42.01\u001b[0m [\u001b[32m\u001b[1minfo     \u001b[0m] \u001b[1mModel parameters are saved to d3rlpy_logs/DiscreteCQL_20240315164650/model_900000.d3\u001b[0m\n"
     ]
    },
    {
     "data": {
      "application/vnd.jupyter.widget-view+json": {
       "model_id": "e4b544a6d9b44fb290bf6e9dffb821e4",
       "version_major": 2,
       "version_minor": 0
      },
      "text/plain": [
       "Epoch 91/100:   0%|          | 0/10000 [00:00<?, ?it/s]"
      ]
     },
     "metadata": {},
     "output_type": "display_data"
    },
    {
     "name": "stdout",
     "output_type": "stream",
     "text": [
      "\u001b[2m2024-03-15 19:43.57\u001b[0m [\u001b[32m\u001b[1minfo     \u001b[0m] \u001b[1mDiscreteCQL_20240315164650: epoch=91 step=910000\u001b[0m \u001b[36mepoch\u001b[0m=\u001b[35m91\u001b[0m \u001b[36mmetrics\u001b[0m=\u001b[35m{'time_sample_batch': 0.008137538814544678, 'time_algorithm_update': 0.0032702988386154176, 'loss': 2.557194492995739, 'td_loss': 2.517399148505926, 'conservative_loss': 0.03979534547716612, 'time_step': 0.01155509660243988}\u001b[0m \u001b[36mstep\u001b[0m=\u001b[35m910000\u001b[0m\n",
      "\u001b[2m2024-03-15 19:43.57\u001b[0m [\u001b[32m\u001b[1minfo     \u001b[0m] \u001b[1mModel parameters are saved to d3rlpy_logs/DiscreteCQL_20240315164650/model_910000.d3\u001b[0m\n"
     ]
    },
    {
     "data": {
      "application/vnd.jupyter.widget-view+json": {
       "model_id": "ed9871d864d94eda946a1616a8089ed1",
       "version_major": 2,
       "version_minor": 0
      },
      "text/plain": [
       "Epoch 92/100:   0%|          | 0/10000 [00:00<?, ?it/s]"
      ]
     },
     "metadata": {},
     "output_type": "display_data"
    },
    {
     "name": "stdout",
     "output_type": "stream",
     "text": [
      "\u001b[2m2024-03-15 19:45.54\u001b[0m [\u001b[32m\u001b[1minfo     \u001b[0m] \u001b[1mDiscreteCQL_20240315164650: epoch=92 step=920000\u001b[0m \u001b[36mepoch\u001b[0m=\u001b[35m92\u001b[0m \u001b[36mmetrics\u001b[0m=\u001b[35m{'time_sample_batch': 0.008186989974975587, 'time_algorithm_update': 0.003290082621574402, 'loss': 2.2013814943253993, 'td_loss': 2.160192000961304, 'conservative_loss': 0.04118949252780294, 'time_step': 0.01162627272605896}\u001b[0m \u001b[36mstep\u001b[0m=\u001b[35m920000\u001b[0m\n",
      "\u001b[2m2024-03-15 19:45.54\u001b[0m [\u001b[32m\u001b[1minfo     \u001b[0m] \u001b[1mModel parameters are saved to d3rlpy_logs/DiscreteCQL_20240315164650/model_920000.d3\u001b[0m\n"
     ]
    },
    {
     "data": {
      "application/vnd.jupyter.widget-view+json": {
       "model_id": "13519abd969c4643bc4801eb5ec2f092",
       "version_major": 2,
       "version_minor": 0
      },
      "text/plain": [
       "Epoch 93/100:   0%|          | 0/10000 [00:00<?, ?it/s]"
      ]
     },
     "metadata": {},
     "output_type": "display_data"
    },
    {
     "name": "stdout",
     "output_type": "stream",
     "text": [
      "\u001b[2m2024-03-15 19:47.52\u001b[0m [\u001b[32m\u001b[1minfo     \u001b[0m] \u001b[1mDiscreteCQL_20240315164650: epoch=93 step=930000\u001b[0m \u001b[36mepoch\u001b[0m=\u001b[35m93\u001b[0m \u001b[36mmetrics\u001b[0m=\u001b[35m{'time_sample_batch': 0.008257745504379273, 'time_algorithm_update': 0.003317179322242737, 'loss': 3.4319808950304984, 'td_loss': 3.38854536550045, 'conservative_loss': 0.04343552855338203, 'time_step': 0.01172796320915222}\u001b[0m \u001b[36mstep\u001b[0m=\u001b[35m930000\u001b[0m\n",
      "\u001b[2m2024-03-15 19:47.52\u001b[0m [\u001b[32m\u001b[1minfo     \u001b[0m] \u001b[1mModel parameters are saved to d3rlpy_logs/DiscreteCQL_20240315164650/model_930000.d3\u001b[0m\n"
     ]
    },
    {
     "data": {
      "application/vnd.jupyter.widget-view+json": {
       "model_id": "18dc6b16a1534d6f95f253e9cd9d219c",
       "version_major": 2,
       "version_minor": 0
      },
      "text/plain": [
       "Epoch 94/100:   0%|          | 0/10000 [00:00<?, ?it/s]"
      ]
     },
     "metadata": {},
     "output_type": "display_data"
    },
    {
     "name": "stdout",
     "output_type": "stream",
     "text": [
      "\u001b[2m2024-03-15 19:49.49\u001b[0m [\u001b[32m\u001b[1minfo     \u001b[0m] \u001b[1mDiscreteCQL_20240315164650: epoch=94 step=940000\u001b[0m \u001b[36mepoch\u001b[0m=\u001b[35m94\u001b[0m \u001b[36mmetrics\u001b[0m=\u001b[35m{'time_sample_batch': 0.008211124682426452, 'time_algorithm_update': 0.0032686264753341676, 'loss': 3.436326255881786, 'td_loss': 3.383771738028526, 'conservative_loss': 0.05255451829130761, 'time_step': 0.011628651380538941}\u001b[0m \u001b[36mstep\u001b[0m=\u001b[35m940000\u001b[0m\n",
      "\u001b[2m2024-03-15 19:49.49\u001b[0m [\u001b[32m\u001b[1minfo     \u001b[0m] \u001b[1mModel parameters are saved to d3rlpy_logs/DiscreteCQL_20240315164650/model_940000.d3\u001b[0m\n"
     ]
    },
    {
     "data": {
      "application/vnd.jupyter.widget-view+json": {
       "model_id": "916e67ae894e4073a12ff23298e2ced7",
       "version_major": 2,
       "version_minor": 0
      },
      "text/plain": [
       "Epoch 95/100:   0%|          | 0/10000 [00:00<?, ?it/s]"
      ]
     },
     "metadata": {},
     "output_type": "display_data"
    },
    {
     "name": "stdout",
     "output_type": "stream",
     "text": [
      "\u001b[2m2024-03-15 19:51.45\u001b[0m [\u001b[32m\u001b[1minfo     \u001b[0m] \u001b[1mDiscreteCQL_20240315164650: epoch=95 step=950000\u001b[0m \u001b[36mepoch\u001b[0m=\u001b[35m95\u001b[0m \u001b[36mmetrics\u001b[0m=\u001b[35m{'time_sample_batch': 0.008132152676582337, 'time_algorithm_update': 0.003249437665939331, 'loss': 2.7320260592341423, 'td_loss': 2.686070320403576, 'conservative_loss': 0.04595573919843882, 'time_step': 0.011528497290611266}\u001b[0m \u001b[36mstep\u001b[0m=\u001b[35m950000\u001b[0m\n",
      "\u001b[2m2024-03-15 19:51.45\u001b[0m [\u001b[32m\u001b[1minfo     \u001b[0m] \u001b[1mModel parameters are saved to d3rlpy_logs/DiscreteCQL_20240315164650/model_950000.d3\u001b[0m\n"
     ]
    },
    {
     "data": {
      "application/vnd.jupyter.widget-view+json": {
       "model_id": "a8ff51529b704a44b45a83ddabe9265d",
       "version_major": 2,
       "version_minor": 0
      },
      "text/plain": [
       "Epoch 96/100:   0%|          | 0/10000 [00:00<?, ?it/s]"
      ]
     },
     "metadata": {},
     "output_type": "display_data"
    },
    {
     "name": "stdout",
     "output_type": "stream",
     "text": [
      "\u001b[2m2024-03-15 19:53.41\u001b[0m [\u001b[32m\u001b[1minfo     \u001b[0m] \u001b[1mDiscreteCQL_20240315164650: epoch=96 step=960000\u001b[0m \u001b[36mepoch\u001b[0m=\u001b[35m96\u001b[0m \u001b[36mmetrics\u001b[0m=\u001b[35m{'time_sample_batch': 0.008136879897117614, 'time_algorithm_update': 0.003258639097213745, 'loss': 2.942004340094328, 'td_loss': 2.8897768446922303, 'conservative_loss': 0.05222749557544012, 'time_step': 0.011545264863967895}\u001b[0m \u001b[36mstep\u001b[0m=\u001b[35m960000\u001b[0m\n",
      "\u001b[2m2024-03-15 19:53.41\u001b[0m [\u001b[32m\u001b[1minfo     \u001b[0m] \u001b[1mModel parameters are saved to d3rlpy_logs/DiscreteCQL_20240315164650/model_960000.d3\u001b[0m\n"
     ]
    },
    {
     "data": {
      "application/vnd.jupyter.widget-view+json": {
       "model_id": "3209ae6cec204fc59ef1e69a0b5f9305",
       "version_major": 2,
       "version_minor": 0
      },
      "text/plain": [
       "Epoch 97/100:   0%|          | 0/10000 [00:00<?, ?it/s]"
      ]
     },
     "metadata": {},
     "output_type": "display_data"
    },
    {
     "name": "stdout",
     "output_type": "stream",
     "text": [
      "\u001b[2m2024-03-15 19:55.38\u001b[0m [\u001b[32m\u001b[1minfo     \u001b[0m] \u001b[1mDiscreteCQL_20240315164650: epoch=97 step=970000\u001b[0m \u001b[36mepoch\u001b[0m=\u001b[35m97\u001b[0m \u001b[36mmetrics\u001b[0m=\u001b[35m{'time_sample_batch': 0.008159671592712402, 'time_algorithm_update': 0.00325196738243103, 'loss': 3.255711327600479, 'td_loss': 3.2118859844863414, 'conservative_loss': 0.043825341885327364, 'time_step': 0.011563458704948425}\u001b[0m \u001b[36mstep\u001b[0m=\u001b[35m970000\u001b[0m\n",
      "\u001b[2m2024-03-15 19:55.38\u001b[0m [\u001b[32m\u001b[1minfo     \u001b[0m] \u001b[1mModel parameters are saved to d3rlpy_logs/DiscreteCQL_20240315164650/model_970000.d3\u001b[0m\n"
     ]
    },
    {
     "data": {
      "application/vnd.jupyter.widget-view+json": {
       "model_id": "001c5fdacebe426786a5d2bd095bf971",
       "version_major": 2,
       "version_minor": 0
      },
      "text/plain": [
       "Epoch 98/100:   0%|          | 0/10000 [00:00<?, ?it/s]"
      ]
     },
     "metadata": {},
     "output_type": "display_data"
    },
    {
     "name": "stdout",
     "output_type": "stream",
     "text": [
      "\u001b[2m2024-03-15 19:57.35\u001b[0m [\u001b[32m\u001b[1minfo     \u001b[0m] \u001b[1mDiscreteCQL_20240315164650: epoch=98 step=980000\u001b[0m \u001b[36mepoch\u001b[0m=\u001b[35m98\u001b[0m \u001b[36mmetrics\u001b[0m=\u001b[35m{'time_sample_batch': 0.008157874703407288, 'time_algorithm_update': 0.003310744023323059, 'loss': 2.59184673460722, 'td_loss': 2.551290471601486, 'conservative_loss': 0.040556263237528034, 'time_step': 0.011617664575576782}\u001b[0m \u001b[36mstep\u001b[0m=\u001b[35m980000\u001b[0m\n",
      "\u001b[2m2024-03-15 19:57.35\u001b[0m [\u001b[32m\u001b[1minfo     \u001b[0m] \u001b[1mModel parameters are saved to d3rlpy_logs/DiscreteCQL_20240315164650/model_980000.d3\u001b[0m\n"
     ]
    },
    {
     "data": {
      "application/vnd.jupyter.widget-view+json": {
       "model_id": "a18901105d774b178eedb6b63ebd35f8",
       "version_major": 2,
       "version_minor": 0
      },
      "text/plain": [
       "Epoch 99/100:   0%|          | 0/10000 [00:00<?, ?it/s]"
      ]
     },
     "metadata": {},
     "output_type": "display_data"
    },
    {
     "name": "stdout",
     "output_type": "stream",
     "text": [
      "\u001b[2m2024-03-15 19:59.31\u001b[0m [\u001b[32m\u001b[1minfo     \u001b[0m] \u001b[1mDiscreteCQL_20240315164650: epoch=99 step=990000\u001b[0m \u001b[36mepoch\u001b[0m=\u001b[35m99\u001b[0m \u001b[36mmetrics\u001b[0m=\u001b[35m{'time_sample_batch': 0.00815896542072296, 'time_algorithm_update': 0.0032990857362747194, 'loss': 2.3872065797924997, 'td_loss': 2.348448218536377, 'conservative_loss': 0.038758361059171145, 'time_step': 0.01160456829071045}\u001b[0m \u001b[36mstep\u001b[0m=\u001b[35m990000\u001b[0m\n",
      "\u001b[2m2024-03-15 19:59.31\u001b[0m [\u001b[32m\u001b[1minfo     \u001b[0m] \u001b[1mModel parameters are saved to d3rlpy_logs/DiscreteCQL_20240315164650/model_990000.d3\u001b[0m\n"
     ]
    },
    {
     "data": {
      "application/vnd.jupyter.widget-view+json": {
       "model_id": "c8a5efdb60d44a909b68a0f2301d2195",
       "version_major": 2,
       "version_minor": 0
      },
      "text/plain": [
       "Epoch 100/100:   0%|          | 0/10000 [00:00<?, ?it/s]"
      ]
     },
     "metadata": {},
     "output_type": "display_data"
    },
    {
     "name": "stdout",
     "output_type": "stream",
     "text": [
      "\u001b[2m2024-03-15 20:01.28\u001b[0m [\u001b[32m\u001b[1minfo     \u001b[0m] \u001b[1mDiscreteCQL_20240315164650: epoch=100 step=1000000\u001b[0m \u001b[36mepoch\u001b[0m=\u001b[35m100\u001b[0m \u001b[36mmetrics\u001b[0m=\u001b[35m{'time_sample_batch': 0.008130430793762206, 'time_algorithm_update': 0.003267143702507019, 'loss': 2.329684443795681, 'td_loss': 2.2864943331003187, 'conservative_loss': 0.04319011038157623, 'time_step': 0.011545278215408326}\u001b[0m \u001b[36mstep\u001b[0m=\u001b[35m1000000\u001b[0m\n",
      "\u001b[2m2024-03-15 20:01.28\u001b[0m [\u001b[32m\u001b[1minfo     \u001b[0m] \u001b[1mModel parameters are saved to d3rlpy_logs/DiscreteCQL_20240315164650/model_1000000.d3\u001b[0m\n"
     ]
    },
    {
     "data": {
      "text/plain": [
       "[(1,\n",
       "  {'time_sample_batch': 0.00819552025794983,\n",
       "   'time_algorithm_update': 0.00333391375541687,\n",
       "   'loss': 0.25359017201662065,\n",
       "   'td_loss': 0.17753243999704718,\n",
       "   'conservative_loss': 0.07605773192290216,\n",
       "   'time_step': 0.011673932313919068}),\n",
       " (2,\n",
       "  {'time_sample_batch': 0.00813341646194458,\n",
       "   'time_algorithm_update': 0.0032441372632980347,\n",
       "   'loss': 0.22415277972370387,\n",
       "   'td_loss': 0.1835301423445344,\n",
       "   'conservative_loss': 0.04062263729204424,\n",
       "   'time_step': 0.011513468003273011}),\n",
       " (3,\n",
       "  {'time_sample_batch': 0.0081768474817276,\n",
       "   'time_algorithm_update': 0.0032687942028045655,\n",
       "   'loss': 0.24007573556229472,\n",
       "   'td_loss': 0.2039944586969912,\n",
       "   'conservative_loss': 0.036081276720180175,\n",
       "   'time_step': 0.011578572678565978}),\n",
       " (4,\n",
       "  {'time_sample_batch': 0.008130639028549195,\n",
       "   'time_algorithm_update': 0.003293492007255554,\n",
       "   'loss': 0.2725813732616603,\n",
       "   'td_loss': 0.2387413564696908,\n",
       "   'conservative_loss': 0.03384001669685822,\n",
       "   'time_step': 0.0115618816614151}),\n",
       " (5,\n",
       "  {'time_sample_batch': 0.008142118287086487,\n",
       "   'time_algorithm_update': 0.003258976411819458,\n",
       "   'loss': 0.3025664433926344,\n",
       "   'td_loss': 0.27136652673706413,\n",
       "   'conservative_loss': 0.031199916593520904,\n",
       "   'time_step': 0.01154284052848816}),\n",
       " (6,\n",
       "  {'time_sample_batch': 0.008161418890953063,\n",
       "   'time_algorithm_update': 0.003233884286880493,\n",
       "   'loss': 0.328705078291893,\n",
       "   'td_loss': 0.29831900042369963,\n",
       "   'conservative_loss': 0.030386077860242222,\n",
       "   'time_step': 0.01153598473072052}),\n",
       " (7,\n",
       "  {'time_sample_batch': 0.00815853841304779,\n",
       "   'time_algorithm_update': 0.00327741436958313,\n",
       "   'loss': 0.3616520970121026,\n",
       "   'td_loss': 0.3304872847110033,\n",
       "   'conservative_loss': 0.03116481225792086,\n",
       "   'time_step': 0.011577504420280457}),\n",
       " (8,\n",
       "  {'time_sample_batch': 0.008145242285728455,\n",
       "   'time_algorithm_update': 0.0032785340785980227,\n",
       "   'loss': 0.4132106303393841,\n",
       "   'td_loss': 0.38304448116347195,\n",
       "   'conservative_loss': 0.030166149350843625,\n",
       "   'time_step': 0.011564603996276856}),\n",
       " (9,\n",
       "  {'time_sample_batch': 0.008121551442146302,\n",
       "   'time_algorithm_update': 0.003252536416053772,\n",
       "   'loss': 0.4136744040220976,\n",
       "   'td_loss': 0.3861389660790563,\n",
       "   'conservative_loss': 0.027535438124794746,\n",
       "   'time_step': 0.011516321182250976}),\n",
       " (10,\n",
       "  {'time_sample_batch': 0.008115266752243042,\n",
       "   'time_algorithm_update': 0.0032527188777923583,\n",
       "   'loss': 0.4470456225171685,\n",
       "   'td_loss': 0.4188290607497096,\n",
       "   'conservative_loss': 0.0282165616159793,\n",
       "   'time_step': 0.011510017657279967}),\n",
       " (11,\n",
       "  {'time_sample_batch': 0.008174879574775695,\n",
       "   'time_algorithm_update': 0.003278793406486511,\n",
       "   'loss': 0.5134358385398984,\n",
       "   'td_loss': 0.4825937783434987,\n",
       "   'conservative_loss': 0.030842060006340034,\n",
       "   'time_step': 0.011597314453125}),\n",
       " (12,\n",
       "  {'time_sample_batch': 0.008221427702903747,\n",
       "   'time_algorithm_update': 0.0032809688091278077,\n",
       "   'loss': 0.5150827652424574,\n",
       "   'td_loss': 0.48585924105644224,\n",
       "   'conservative_loss': 0.02922352419317467,\n",
       "   'time_step': 0.011646175813674926}),\n",
       " (13,\n",
       "  {'time_sample_batch': 0.008185179352760315,\n",
       "   'time_algorithm_update': 0.0032810471296310425,\n",
       "   'loss': 0.6242897887527943,\n",
       "   'td_loss': 0.5942404548540712,\n",
       "   'conservative_loss': 0.0300493336131447,\n",
       "   'time_step': 0.011613782739639282}),\n",
       " (14,\n",
       "  {'time_sample_batch': 0.008296157097816467,\n",
       "   'time_algorithm_update': 0.0033825363636016846,\n",
       "   'loss': 0.5975928419351578,\n",
       "   'td_loss': 0.5675861924737692,\n",
       "   'conservative_loss': 0.030006649661174743,\n",
       "   'time_step': 0.011830072832107543}),\n",
       " (15,\n",
       "  {'time_sample_batch': 0.008262348580360413,\n",
       "   'time_algorithm_update': 0.0033676629543304445,\n",
       "   'loss': 0.6217312345221638,\n",
       "   'td_loss': 0.5913063908711076,\n",
       "   'conservative_loss': 0.03042484359596856,\n",
       "   'time_step': 0.011779337072372437}),\n",
       " (16,\n",
       "  {'time_sample_batch': 0.008129084849357605,\n",
       "   'time_algorithm_update': 0.003275985312461853,\n",
       "   'loss': 0.6420581787109375,\n",
       "   'td_loss': 0.6135631545513869,\n",
       "   'conservative_loss': 0.02849502424102975,\n",
       "   'time_step': 0.011551486015319825}),\n",
       " (17,\n",
       "  {'time_sample_batch': 0.008149010252952575,\n",
       "   'time_algorithm_update': 0.0032908222436904906,\n",
       "   'loss': 0.6700448630496859,\n",
       "   'td_loss': 0.6418740304574371,\n",
       "   'conservative_loss': 0.028170832673885163,\n",
       "   'time_step': 0.011587211465835572}),\n",
       " (18,\n",
       "  {'time_sample_batch': 0.008162240934371949,\n",
       "   'time_algorithm_update': 0.00327340407371521,\n",
       "   'loss': 0.7535421837851405,\n",
       "   'td_loss': 0.7221682004213333,\n",
       "   'conservative_loss': 0.031373983544507066,\n",
       "   'time_step': 0.011583900237083436}),\n",
       " (19,\n",
       "  {'time_sample_batch': 0.008232295131683349,\n",
       "   'time_algorithm_update': 0.0034827454805374147,\n",
       "   'loss': 0.7203185400933028,\n",
       "   'td_loss': 0.6890269053831697,\n",
       "   'conservative_loss': 0.03129163485117606,\n",
       "   'time_step': 0.011865792870521545}),\n",
       " (20,\n",
       "  {'time_sample_batch': 0.008288058876991272,\n",
       "   'time_algorithm_update': 0.0034517093658447268,\n",
       "   'loss': 0.7686315308660269,\n",
       "   'td_loss': 0.7381774029821158,\n",
       "   'conservative_loss': 0.030454127939103636,\n",
       "   'time_step': 0.011892471623420716}),\n",
       " (21,\n",
       "  {'time_sample_batch': 0.008168713307380676,\n",
       "   'time_algorithm_update': 0.003294341278076172,\n",
       "   'loss': 0.7643123069509864,\n",
       "   'td_loss': 0.7346695698693395,\n",
       "   'conservative_loss': 0.029642737705615582,\n",
       "   'time_step': 0.011613065695762634}),\n",
       " (22,\n",
       "  {'time_sample_batch': 0.008139243054389953,\n",
       "   'time_algorithm_update': 0.003239306664466858,\n",
       "   'loss': 0.7753698328003288,\n",
       "   'td_loss': 0.7468757521301508,\n",
       "   'conservative_loss': 0.0284940808072919,\n",
       "   'time_step': 0.011525958967208863}),\n",
       " (23,\n",
       "  {'time_sample_batch': 0.008129269099235534,\n",
       "   'time_algorithm_update': 0.003250545811653137,\n",
       "   'loss': 0.8661842879623175,\n",
       "   'td_loss': 0.8322195119351149,\n",
       "   'conservative_loss': 0.03396477629235596,\n",
       "   'time_step': 0.01152853946685791}),\n",
       " (24,\n",
       "  {'time_sample_batch': 0.008126406097412109,\n",
       "   'time_algorithm_update': 0.0032795346975326538,\n",
       "   'loss': 0.8454524123966694,\n",
       "   'td_loss': 0.8168396168708801,\n",
       "   'conservative_loss': 0.028612795554008336,\n",
       "   'time_step': 0.011552014279365539}),\n",
       " (25,\n",
       "  {'time_sample_batch': 0.00814266800880432,\n",
       "   'time_algorithm_update': 0.0032970829725265504,\n",
       "   'loss': 0.9156070751398802,\n",
       "   'td_loss': 0.8849381079524755,\n",
       "   'conservative_loss': 0.030668967510585208,\n",
       "   'time_step': 0.01159038438796997}),\n",
       " (26,\n",
       "  {'time_sample_batch': 0.008195042133331299,\n",
       "   'time_algorithm_update': 0.0032727555990219115,\n",
       "   'loss': 0.9910073502063751,\n",
       "   'td_loss': 0.9613756177335978,\n",
       "   'conservative_loss': 0.02963173245720682,\n",
       "   'time_step': 0.011615308237075806}),\n",
       " (27,\n",
       "  {'time_sample_batch': 0.008206822299957275,\n",
       "   'time_algorithm_update': 0.0032966437101364134,\n",
       "   'loss': 1.012653230908513,\n",
       "   'td_loss': 0.979870604851842,\n",
       "   'conservative_loss': 0.03278262655528961,\n",
       "   'time_step': 0.011650451302528382}),\n",
       " (28,\n",
       "  {'time_sample_batch': 0.008159540390968324,\n",
       "   'time_algorithm_update': 0.003283531379699707,\n",
       "   'loss': 1.0353220237404108,\n",
       "   'td_loss': 1.0030472150713206,\n",
       "   'conservative_loss': 0.032274808533489706,\n",
       "   'time_step': 0.011591277861595153}),\n",
       " (29,\n",
       "  {'time_sample_batch': 0.008152198576927184,\n",
       "   'time_algorithm_update': 0.0032905596494674683,\n",
       "   'loss': 1.118250107240677,\n",
       "   'td_loss': 1.0849169485628605,\n",
       "   'conservative_loss': 0.033333158897038084,\n",
       "   'time_step': 0.011588219213485717}),\n",
       " (30,\n",
       "  {'time_sample_batch': 0.008179333424568176,\n",
       "   'time_algorithm_update': 0.0033163058280944826,\n",
       "   'loss': 1.0778252611011268,\n",
       "   'td_loss': 1.0460067602574825,\n",
       "   'conservative_loss': 0.03181850131138926,\n",
       "   'time_step': 0.01164296805858612}),\n",
       " (31,\n",
       "  {'time_sample_batch': 0.008122187113761902,\n",
       "   'time_algorithm_update': 0.0032716427564620973,\n",
       "   'loss': 1.0657349695801734,\n",
       "   'td_loss': 1.0343686607897282,\n",
       "   'conservative_loss': 0.03136630890016677,\n",
       "   'time_step': 0.011536809396743774}),\n",
       " (32,\n",
       "  {'time_sample_batch': 0.00819950041770935,\n",
       "   'time_algorithm_update': 0.003280379390716553,\n",
       "   'loss': 1.259541405081749,\n",
       "   'td_loss': 1.2252464643716812,\n",
       "   'conservative_loss': 0.034294940308271904,\n",
       "   'time_step': 0.011625421714782714}),\n",
       " (33,\n",
       "  {'time_sample_batch': 0.008196891927719116,\n",
       "   'time_algorithm_update': 0.0033797003984451296,\n",
       "   'loss': 1.2569076264351606,\n",
       "   'td_loss': 1.2226112049132585,\n",
       "   'conservative_loss': 0.03429642187514109,\n",
       "   'time_step': 0.01172280490398407}),\n",
       " (34,\n",
       "  {'time_sample_batch': 0.0081916588306427,\n",
       "   'time_algorithm_update': 0.003375930571556091,\n",
       "   'loss': 1.2019565475970506,\n",
       "   'td_loss': 1.1670294960469008,\n",
       "   'conservative_loss': 0.03492705154623836,\n",
       "   'time_step': 0.011712258625030518}),\n",
       " (35,\n",
       "  {'time_sample_batch': 0.00813660979270935,\n",
       "   'time_algorithm_update': 0.0032865121603012086,\n",
       "   'loss': 1.2646468876749277,\n",
       "   'td_loss': 1.2311391195327044,\n",
       "   'conservative_loss': 0.033507768030115404,\n",
       "   'time_step': 0.011564619946479797}),\n",
       " (36,\n",
       "  {'time_sample_batch': 0.00812723400592804,\n",
       "   'time_algorithm_update': 0.00334565212726593,\n",
       "   'loss': 1.1784533381640911,\n",
       "   'td_loss': 1.1477948212385178,\n",
       "   'conservative_loss': 0.03065851681402419,\n",
       "   'time_step': 0.011616651964187623}),\n",
       " (37,\n",
       "  {'time_sample_batch': 0.008217245793342591,\n",
       "   'time_algorithm_update': 0.003308008623123169,\n",
       "   'loss': 1.3262252194136381,\n",
       "   'td_loss': 1.2933104673027993,\n",
       "   'conservative_loss': 0.032914752119255715,\n",
       "   'time_step': 0.01166856174468994}),\n",
       " (38,\n",
       "  {'time_sample_batch': 0.008124959683418274,\n",
       "   'time_algorithm_update': 0.0032843413591384886,\n",
       "   'loss': 1.446524192005396,\n",
       "   'td_loss': 1.4124748354077339,\n",
       "   'conservative_loss': 0.03404935638877796,\n",
       "   'time_step': 0.01155291223526001}),\n",
       " (39,\n",
       "  {'time_sample_batch': 0.008162738156318664,\n",
       "   'time_algorithm_update': 0.0033629792213439942,\n",
       "   'loss': 1.2624508881181478,\n",
       "   'td_loss': 1.230813526546955,\n",
       "   'conservative_loss': 0.03163736204532906,\n",
       "   'time_step': 0.011672215127944946}),\n",
       " (40,\n",
       "  {'time_sample_batch': 0.008285426211357116,\n",
       "   'time_algorithm_update': 0.0035151856422424316,\n",
       "   'loss': 1.204054808536172,\n",
       "   'td_loss': 1.173426714247465,\n",
       "   'conservative_loss': 0.03062809478818672,\n",
       "   'time_step': 0.011947868871688843}),\n",
       " (41,\n",
       "  {'time_sample_batch': 0.008144295978546143,\n",
       "   'time_algorithm_update': 0.003304637026786804,\n",
       "   'loss': 1.382943254956603,\n",
       "   'td_loss': 1.3481005434781312,\n",
       "   'conservative_loss': 0.03484271191703155,\n",
       "   'time_step': 0.011592684245109558}),\n",
       " (42,\n",
       "  {'time_sample_batch': 0.008177779364585877,\n",
       "   'time_algorithm_update': 0.003267188596725464,\n",
       "   'loss': 1.3009451407968997,\n",
       "   'td_loss': 1.2698388404101133,\n",
       "   'conservative_loss': 0.031106300884776283,\n",
       "   'time_step': 0.011590846562385558}),\n",
       " (43,\n",
       "  {'time_sample_batch': 0.00821112778186798,\n",
       "   'time_algorithm_update': 0.0033133139848709105,\n",
       "   'loss': 1.4176939021617174,\n",
       "   'td_loss': 1.3842816746860742,\n",
       "   'conservative_loss': 0.03341222723608371,\n",
       "   'time_step': 0.011671153044700622}),\n",
       " (44,\n",
       "  {'time_sample_batch': 0.008238111448287963,\n",
       "   'time_algorithm_update': 0.003308495259284973,\n",
       "   'loss': 1.3719179891735316,\n",
       "   'td_loss': 1.3408953327775002,\n",
       "   'conservative_loss': 0.031022656749375165,\n",
       "   'time_step': 0.011689712858200073}),\n",
       " (45,\n",
       "  {'time_sample_batch': 0.008120457291603088,\n",
       "   'time_algorithm_update': 0.0032552087306976316,\n",
       "   'loss': 1.4964629981011153,\n",
       "   'td_loss': 1.4638516371011734,\n",
       "   'conservative_loss': 0.032611360620427875,\n",
       "   'time_step': 0.011520597887039184}),\n",
       " (46,\n",
       "  {'time_sample_batch': 0.008135727834701538,\n",
       "   'time_algorithm_update': 0.0032533260107040405,\n",
       "   'loss': 1.3796936526268722,\n",
       "   'td_loss': 1.347282044646144,\n",
       "   'conservative_loss': 0.03241160780764185,\n",
       "   'time_step': 0.01153248155117035}),\n",
       " (47,\n",
       "  {'time_sample_batch': 0.008239235973358154,\n",
       "   'time_algorithm_update': 0.003299968934059143,\n",
       "   'loss': 1.577468265977502,\n",
       "   'td_loss': 1.5432854913175107,\n",
       "   'conservative_loss': 0.03418277519999537,\n",
       "   'time_step': 0.011687759590148925}),\n",
       " (48,\n",
       "  {'time_sample_batch': 0.008128022909164428,\n",
       "   'time_algorithm_update': 0.0032594698190689087,\n",
       "   'loss': 1.4577000101834536,\n",
       "   'td_loss': 1.4237856134533882,\n",
       "   'conservative_loss': 0.033914396631962156,\n",
       "   'time_step': 0.011532479333877563}),\n",
       " (49,\n",
       "  {'time_sample_batch': 0.00812884578704834,\n",
       "   'time_algorithm_update': 0.003252159285545349,\n",
       "   'loss': 1.4403038459479809,\n",
       "   'td_loss': 1.4045130188286306,\n",
       "   'conservative_loss': 0.03579082772870315,\n",
       "   'time_step': 0.011525270915031433}),\n",
       " (50,\n",
       "  {'time_sample_batch': 0.008170291113853454,\n",
       "   'time_algorithm_update': 0.0032724915981292724,\n",
       "   'loss': 1.5671554427295924,\n",
       "   'td_loss': 1.533881985089183,\n",
       "   'conservative_loss': 0.033273458300810306,\n",
       "   'time_step': 0.011585252141952515}),\n",
       " (51,\n",
       "  {'time_sample_batch': 0.008188077449798584,\n",
       "   'time_algorithm_update': 0.0033087243795394895,\n",
       "   'loss': 1.5632998588383198,\n",
       "   'td_loss': 1.5283818801403046,\n",
       "   'conservative_loss': 0.034917979298043064,\n",
       "   'time_step': 0.011642267346382141}),\n",
       " (52,\n",
       "  {'time_sample_batch': 0.008121453070640564,\n",
       "   'time_algorithm_update': 0.0032755685806274415,\n",
       "   'loss': 1.4854287417352199,\n",
       "   'td_loss': 1.454176791933179,\n",
       "   'conservative_loss': 0.031251949450338726,\n",
       "   'time_step': 0.011539647340774535}),\n",
       " (53,\n",
       "  {'time_sample_batch': 0.008197069692611695,\n",
       "   'time_algorithm_update': 0.003277354645729065,\n",
       "   'loss': 1.4914069704085589,\n",
       "   'td_loss': 1.4589765461832285,\n",
       "   'conservative_loss': 0.03243042450703215,\n",
       "   'time_step': 0.011617894792556763}),\n",
       " (54,\n",
       "  {'time_sample_batch': 0.008098913955688477,\n",
       "   'time_algorithm_update': 0.0032434382677078246,\n",
       "   'loss': 1.4676161767691374,\n",
       "   'td_loss': 1.4353484537184238,\n",
       "   'conservative_loss': 0.03226772277118871,\n",
       "   'time_step': 0.01148061797618866}),\n",
       " (55,\n",
       "  {'time_sample_batch': 0.008172882676124572,\n",
       "   'time_algorithm_update': 0.0032645708322525026,\n",
       "   'loss': 1.5363739161789418,\n",
       "   'td_loss': 1.5023726866036653,\n",
       "   'conservative_loss': 0.03400122939234134,\n",
       "   'time_step': 0.011580359029769897}),\n",
       " (56,\n",
       "  {'time_sample_batch': 0.008085965061187745,\n",
       "   'time_algorithm_update': 0.003222599720954895,\n",
       "   'loss': 1.668864526861906,\n",
       "   'td_loss': 1.6333830410212278,\n",
       "   'conservative_loss': 0.03548148593136575,\n",
       "   'time_step': 0.011449646353721619}),\n",
       " (57,\n",
       "  {'time_sample_batch': 0.008021898984909058,\n",
       "   'time_algorithm_update': 0.003151824903488159,\n",
       "   'loss': 1.5125446572244168,\n",
       "   'td_loss': 1.4796583281219005,\n",
       "   'conservative_loss': 0.03288632888071006,\n",
       "   'time_step': 0.011293305087089539}),\n",
       " (58,\n",
       "  {'time_sample_batch': 0.008125322914123535,\n",
       "   'time_algorithm_update': 0.0032602526903152467,\n",
       "   'loss': 1.5349977115392686,\n",
       "   'td_loss': 1.503661849039793,\n",
       "   'conservative_loss': 0.03133586238438729,\n",
       "   'time_step': 0.011527622818946839}),\n",
       " (59,\n",
       "  {'time_sample_batch': 0.008175148677825927,\n",
       "   'time_algorithm_update': 0.003257334089279175,\n",
       "   'loss': 1.782131945925951,\n",
       "   'td_loss': 1.7457647255271673,\n",
       "   'conservative_loss': 0.03636722120619379,\n",
       "   'time_step': 0.011580647087097167}),\n",
       " (60,\n",
       "  {'time_sample_batch': 0.008183895874023437,\n",
       "   'time_algorithm_update': 0.003276943039894104,\n",
       "   'loss': 1.8686343760520219,\n",
       "   'td_loss': 1.832934350991249,\n",
       "   'conservative_loss': 0.03570002572793164,\n",
       "   'time_step': 0.011607781958580017}),\n",
       " (61,\n",
       "  {'time_sample_batch': 0.008131823563575745,\n",
       "   'time_algorithm_update': 0.0032603641271591187,\n",
       "   'loss': 1.7484721414208413,\n",
       "   'td_loss': 1.7099595962166787,\n",
       "   'conservative_loss': 0.03851254496327601,\n",
       "   'time_step': 0.011535480332374573}),\n",
       " (62,\n",
       "  {'time_sample_batch': 0.008166467237472535,\n",
       "   'time_algorithm_update': 0.0032659698963165285,\n",
       "   'loss': 1.9697371794104577,\n",
       "   'td_loss': 1.9327420644581317,\n",
       "   'conservative_loss': 0.03699511343872873,\n",
       "   'time_step': 0.011580449032783508}),\n",
       " (63,\n",
       "  {'time_sample_batch': 0.008115686583518982,\n",
       "   'time_algorithm_update': 0.003238373374938965,\n",
       "   'loss': 1.708410402649641,\n",
       "   'td_loss': 1.6756737395823003,\n",
       "   'conservative_loss': 0.03273666267094668,\n",
       "   'time_step': 0.011497484397888183}),\n",
       " (64,\n",
       "  {'time_sample_batch': 0.00814490556716919,\n",
       "   'time_algorithm_update': 0.0032346177101135252,\n",
       "   'loss': 1.9874759292662143,\n",
       "   'td_loss': 1.9482306251347066,\n",
       "   'conservative_loss': 0.0392453034553444,\n",
       "   'time_step': 0.01152527928352356}),\n",
       " (65,\n",
       "  {'time_sample_batch': 0.00812642719745636,\n",
       "   'time_algorithm_update': 0.0032616164684295653,\n",
       "   'loss': 1.5752430131196975,\n",
       "   'td_loss': 1.5449330434769393,\n",
       "   'conservative_loss': 0.03030996871312964,\n",
       "   'time_step': 0.011528204131126403}),\n",
       " (66,\n",
       "  {'time_sample_batch': 0.008224092650413514,\n",
       "   'time_algorithm_update': 0.0033074814796447754,\n",
       "   'loss': 1.7955609825789929,\n",
       "   'td_loss': 1.7596737768530846,\n",
       "   'conservative_loss': 0.03588720547198318,\n",
       "   'time_step': 0.011680650568008422}),\n",
       " (67,\n",
       "  {'time_sample_batch': 0.008177841830253602,\n",
       "   'time_algorithm_update': 0.003253865647315979,\n",
       "   'loss': 1.7366377866983413,\n",
       "   'td_loss': 1.7030525240063668,\n",
       "   'conservative_loss': 0.033585263573925474,\n",
       "   'time_step': 0.011576426100730897}),\n",
       " (68,\n",
       "  {'time_sample_batch': 0.008148389220237732,\n",
       "   'time_algorithm_update': 0.0032113216876983645,\n",
       "   'loss': 2.478361507177353,\n",
       "   'td_loss': 2.4364688896119593,\n",
       "   'conservative_loss': 0.041892617887782396,\n",
       "   'time_step': 0.011507992553710938}),\n",
       " (69,\n",
       "  {'time_sample_batch': 0.00816948103904724,\n",
       "   'time_algorithm_update': 0.003286105728149414,\n",
       "   'loss': 2.485605747461319,\n",
       "   'td_loss': 2.4425514844954015,\n",
       "   'conservative_loss': 0.043054262080730404,\n",
       "   'time_step': 0.011607702493667603}),\n",
       " (70,\n",
       "  {'time_sample_batch': 0.008195624327659606,\n",
       "   'time_algorithm_update': 0.003275171160697937,\n",
       "   'loss': 2.0474108667552473,\n",
       "   'td_loss': 2.011980031621456,\n",
       "   'conservative_loss': 0.03543083439529873,\n",
       "   'time_step': 0.011618309545516967}),\n",
       " (71,\n",
       "  {'time_sample_batch': 0.008171505641937256,\n",
       "   'time_algorithm_update': 0.003285291838645935,\n",
       "   'loss': 1.955776408880949,\n",
       "   'td_loss': 1.920988694560528,\n",
       "   'conservative_loss': 0.034787713523081035,\n",
       "   'time_step': 0.011603880405426025}),\n",
       " (72,\n",
       "  {'time_sample_batch': 0.008138041734695435,\n",
       "   'time_algorithm_update': 0.0032576918125152587,\n",
       "   'loss': 1.8994316592991352,\n",
       "   'td_loss': 1.8641177336752415,\n",
       "   'conservative_loss': 0.03531392536209314,\n",
       "   'time_step': 0.01154237904548645}),\n",
       " (73,\n",
       "  {'time_sample_batch': 0.008230166745185853,\n",
       "   'time_algorithm_update': 0.0032831825017929075,\n",
       "   'loss': 2.0761857697308064,\n",
       "   'td_loss': 2.038763805115223,\n",
       "   'conservative_loss': 0.03742196451169438,\n",
       "   'time_step': 0.011658967137336732}),\n",
       " (74,\n",
       "  {'time_sample_batch': 0.008156036639213562,\n",
       "   'time_algorithm_update': 0.0032533082246780395,\n",
       "   'loss': 1.7906738594174385,\n",
       "   'td_loss': 1.753907912093401,\n",
       "   'conservative_loss': 0.036765947139711354,\n",
       "   'time_step': 0.01155488727092743}),\n",
       " (75,\n",
       "  {'time_sample_batch': 0.008198498439788818,\n",
       "   'time_algorithm_update': 0.003302592825889587,\n",
       "   'loss': 1.9725811664640904,\n",
       "   'td_loss': 1.9361731740236283,\n",
       "   'conservative_loss': 0.0364079920597258,\n",
       "   'time_step': 0.011650944066047669}),\n",
       " (76,\n",
       "  {'time_sample_batch': 0.00815554986000061,\n",
       "   'time_algorithm_update': 0.003278550124168396,\n",
       "   'loss': 2.5857945946127177,\n",
       "   'td_loss': 2.545611665838957,\n",
       "   'conservative_loss': 0.04018293016297975,\n",
       "   'time_step': 0.011581337451934815}),\n",
       " (77,\n",
       "  {'time_sample_batch': 0.008155872702598571,\n",
       "   'time_algorithm_update': 0.003264810919761658,\n",
       "   'loss': 2.0628614800333978,\n",
       "   'td_loss': 2.0270077501773835,\n",
       "   'conservative_loss': 0.035853729361033766,\n",
       "   'time_step': 0.01156627655029297}),\n",
       " (78,\n",
       "  {'time_sample_batch': 0.00814139587879181,\n",
       "   'time_algorithm_update': 0.003258693599700928,\n",
       "   'loss': 2.575333460706472,\n",
       "   'td_loss': 2.5273681743383407,\n",
       "   'conservative_loss': 0.04796528635419672,\n",
       "   'time_step': 0.011551246786117554}),\n",
       " (79,\n",
       "  {'time_sample_batch': 0.00815811309814453,\n",
       "   'time_algorithm_update': 0.003250468158721924,\n",
       "   'loss': 1.8564829686284066,\n",
       "   'td_loss': 1.8217730774521828,\n",
       "   'conservative_loss': 0.034709890860051384,\n",
       "   'time_step': 0.011551184129714965}),\n",
       " (80,\n",
       "  {'time_sample_batch': 0.008120050740242005,\n",
       "   'time_algorithm_update': 0.0032614983797073366,\n",
       "   'loss': 1.9303510931700467,\n",
       "   'td_loss': 1.8928311301231384,\n",
       "   'conservative_loss': 0.037519963022251614,\n",
       "   'time_step': 0.011523528218269349}),\n",
       " (81,\n",
       "  {'time_sample_batch': 0.008202653813362121,\n",
       "   'time_algorithm_update': 0.003267927622795105,\n",
       "   'loss': 2.4836313546955586,\n",
       "   'td_loss': 2.442592423635721,\n",
       "   'conservative_loss': 0.04103893176105339,\n",
       "   'time_step': 0.011616242980957031}),\n",
       " (82,\n",
       "  {'time_sample_batch': 0.008212311482429504,\n",
       "   'time_algorithm_update': 0.0034204505681991577,\n",
       "   'loss': 2.6489318587899207,\n",
       "   'td_loss': 2.6125823539197444,\n",
       "   'conservative_loss': 0.036349503542878664,\n",
       "   'time_step': 0.011785965013504028}),\n",
       " (83,\n",
       "  {'time_sample_batch': 0.008187575578689574,\n",
       "   'time_algorithm_update': 0.0032795613050460816,\n",
       "   'loss': 2.4589305341959,\n",
       "   'td_loss': 2.419342522710562,\n",
       "   'conservative_loss': 0.039588014125882184,\n",
       "   'time_step': 0.01161612355709076}),\n",
       " (84,\n",
       "  {'time_sample_batch': 0.008138841366767883,\n",
       "   'time_algorithm_update': 0.0032989042282104493,\n",
       "   'loss': 1.9816359657347202,\n",
       "   'td_loss': 1.945723889040947,\n",
       "   'conservative_loss': 0.035912075633637144,\n",
       "   'time_step': 0.011583034229278564}),\n",
       " (85,\n",
       "  {'time_sample_batch': 0.00812513542175293,\n",
       "   'time_algorithm_update': 0.0032716606855392456,\n",
       "   'loss': 2.832907930147648,\n",
       "   'td_loss': 2.792318883532286,\n",
       "   'conservative_loss': 0.04058904669681797,\n",
       "   'time_step': 0.011545726704597473}),\n",
       " (86,\n",
       "  {'time_sample_batch': 0.00822779140472412,\n",
       "   'time_algorithm_update': 0.0032912651777267455,\n",
       "   'loss': 2.580876559442282,\n",
       "   'td_loss': 2.5402372739195824,\n",
       "   'conservative_loss': 0.040639285518391986,\n",
       "   'time_step': 0.01166778302192688}),\n",
       " (87,\n",
       "  {'time_sample_batch': 0.008157714009284974,\n",
       "   'time_algorithm_update': 0.0033608535051345826,\n",
       "   'loss': 2.495877758306265,\n",
       "   'td_loss': 2.4532909667670726,\n",
       "   'conservative_loss': 0.04258679210286355,\n",
       "   'time_step': 0.011669801044464112}),\n",
       " (88,\n",
       "  {'time_sample_batch': 0.008197143697738647,\n",
       "   'time_algorithm_update': 0.0033158371210098266,\n",
       "   'loss': 2.672175893265009,\n",
       "   'td_loss': 2.6246841648578645,\n",
       "   'conservative_loss': 0.047491727439616806,\n",
       "   'time_step': 0.011665750098228454}),\n",
       " (89,\n",
       "  {'time_sample_batch': 0.008247505903244018,\n",
       "   'time_algorithm_update': 0.003437164831161499,\n",
       "   'loss': 2.3483585846185684,\n",
       "   'td_loss': 2.309319618499279,\n",
       "   'conservative_loss': 0.03903896641945467,\n",
       "   'time_step': 0.01183627827167511}),\n",
       " (90,\n",
       "  {'time_sample_batch': 0.00815736436843872,\n",
       "   'time_algorithm_update': 0.0032749069452285766,\n",
       "   'loss': 3.1243328647732733,\n",
       "   'td_loss': 3.0788117596566678,\n",
       "   'conservative_loss': 0.045521104608068706,\n",
       "   'time_step': 0.011585872220993042}),\n",
       " (91,\n",
       "  {'time_sample_batch': 0.008137538814544678,\n",
       "   'time_algorithm_update': 0.0032702988386154176,\n",
       "   'loss': 2.557194492995739,\n",
       "   'td_loss': 2.517399148505926,\n",
       "   'conservative_loss': 0.03979534547716612,\n",
       "   'time_step': 0.01155509660243988}),\n",
       " (92,\n",
       "  {'time_sample_batch': 0.008186989974975587,\n",
       "   'time_algorithm_update': 0.003290082621574402,\n",
       "   'loss': 2.2013814943253993,\n",
       "   'td_loss': 2.160192000961304,\n",
       "   'conservative_loss': 0.04118949252780294,\n",
       "   'time_step': 0.01162627272605896}),\n",
       " (93,\n",
       "  {'time_sample_batch': 0.008257745504379273,\n",
       "   'time_algorithm_update': 0.003317179322242737,\n",
       "   'loss': 3.4319808950304984,\n",
       "   'td_loss': 3.38854536550045,\n",
       "   'conservative_loss': 0.04343552855338203,\n",
       "   'time_step': 0.01172796320915222}),\n",
       " (94,\n",
       "  {'time_sample_batch': 0.008211124682426452,\n",
       "   'time_algorithm_update': 0.0032686264753341676,\n",
       "   'loss': 3.436326255881786,\n",
       "   'td_loss': 3.383771738028526,\n",
       "   'conservative_loss': 0.05255451829130761,\n",
       "   'time_step': 0.011628651380538941}),\n",
       " (95,\n",
       "  {'time_sample_batch': 0.008132152676582337,\n",
       "   'time_algorithm_update': 0.003249437665939331,\n",
       "   'loss': 2.7320260592341423,\n",
       "   'td_loss': 2.686070320403576,\n",
       "   'conservative_loss': 0.04595573919843882,\n",
       "   'time_step': 0.011528497290611266}),\n",
       " (96,\n",
       "  {'time_sample_batch': 0.008136879897117614,\n",
       "   'time_algorithm_update': 0.003258639097213745,\n",
       "   'loss': 2.942004340094328,\n",
       "   'td_loss': 2.8897768446922303,\n",
       "   'conservative_loss': 0.05222749557544012,\n",
       "   'time_step': 0.011545264863967895}),\n",
       " (97,\n",
       "  {'time_sample_batch': 0.008159671592712402,\n",
       "   'time_algorithm_update': 0.00325196738243103,\n",
       "   'loss': 3.255711327600479,\n",
       "   'td_loss': 3.2118859844863414,\n",
       "   'conservative_loss': 0.043825341885327364,\n",
       "   'time_step': 0.011563458704948425}),\n",
       " (98,\n",
       "  {'time_sample_batch': 0.008157874703407288,\n",
       "   'time_algorithm_update': 0.003310744023323059,\n",
       "   'loss': 2.59184673460722,\n",
       "   'td_loss': 2.551290471601486,\n",
       "   'conservative_loss': 0.040556263237528034,\n",
       "   'time_step': 0.011617664575576782}),\n",
       " (99,\n",
       "  {'time_sample_batch': 0.00815896542072296,\n",
       "   'time_algorithm_update': 0.0032990857362747194,\n",
       "   'loss': 2.3872065797924997,\n",
       "   'td_loss': 2.348448218536377,\n",
       "   'conservative_loss': 0.038758361059171145,\n",
       "   'time_step': 0.01160456829071045}),\n",
       " (100,\n",
       "  {'time_sample_batch': 0.008130430793762206,\n",
       "   'time_algorithm_update': 0.003267143702507019,\n",
       "   'loss': 2.329684443795681,\n",
       "   'td_loss': 2.2864943331003187,\n",
       "   'conservative_loss': 0.04319011038157623,\n",
       "   'time_step': 0.011545278215408326})]"
      ]
     },
     "execution_count": 13,
     "metadata": {},
     "output_type": "execute_result"
    }
   ],
   "source": [
    "# Initialize CQL algorithm\n",
    "cql = DiscreteCQLConfig(\n",
    "    batch_size=256, observation_scaler=StandardObservationScaler(), learning_rate = 0.01 \n",
    ").create(device='cuda:0')\n",
    "\n",
    "cql.fit(dataset, n_steps=1000000) "
   ]
  },
  {
   "cell_type": "code",
   "execution_count": 14,
   "metadata": {},
   "outputs": [
    {
     "name": "stdout",
     "output_type": "stream",
     "text": [
      "\u001b[2m2024-03-15 20:01.28\u001b[0m [\u001b[32m\u001b[1minfo     \u001b[0m] \u001b[1mdataset info                  \u001b[0m \u001b[36mdataset_info\u001b[0m=\u001b[35mDatasetInfo(observation_signature=Signature(dtype=[dtype('float32')], shape=[(9,)]), action_signature=Signature(dtype=[dtype('int32')], shape=[(1,)]), reward_signature=Signature(dtype=[dtype('float32')], shape=[(1,)]), action_space=<ActionSpace.DISCRETE: 2>, action_size=60)\u001b[0m\n",
      "\u001b[2m2024-03-15 20:01.28\u001b[0m [\u001b[32m\u001b[1minfo     \u001b[0m] \u001b[1mDirectory is created at d3rlpy_logs/DiscreteFQE_20240315200128\u001b[0m\n",
      "\u001b[2m2024-03-15 20:01.28\u001b[0m [\u001b[32m\u001b[1mdebug    \u001b[0m] \u001b[1mBuilding models...            \u001b[0m\n",
      "\u001b[2m2024-03-15 20:01.28\u001b[0m [\u001b[32m\u001b[1mdebug    \u001b[0m] \u001b[1mModels have been built.       \u001b[0m\n",
      "\u001b[2m2024-03-15 20:01.28\u001b[0m [\u001b[32m\u001b[1minfo     \u001b[0m] \u001b[1mParameters                    \u001b[0m \u001b[36mparams\u001b[0m=\u001b[35m{'observation_shape': [9], 'action_size': 60, 'config': {'type': 'fqe', 'params': {'batch_size': 100, 'gamma': 0.99, 'observation_scaler': {'type': 'none', 'params': {}}, 'action_scaler': {'type': 'none', 'params': {}}, 'reward_scaler': {'type': 'none', 'params': {}}, 'learning_rate': 0.0001, 'optim_factory': {'type': 'adam', 'params': {'betas': [0.9, 0.999], 'eps': 1e-08, 'weight_decay': 0, 'amsgrad': False}}, 'encoder_factory': {'type': 'default', 'params': {'activation': 'relu', 'use_batch_norm': False, 'dropout_rate': None}}, 'q_func_factory': {'type': 'mean', 'params': {'share_encoder': False}}, 'n_critics': 1, 'target_update_interval': 100}}}\u001b[0m\n"
     ]
    },
    {
     "data": {
      "application/vnd.jupyter.widget-view+json": {
       "model_id": "cdc0b861efd546e5bd6b9217a6554a87",
       "version_major": 2,
       "version_minor": 0
      },
      "text/plain": [
       "Epoch 1/100:   0%|          | 0/10000 [00:00<?, ?it/s]"
      ]
     },
     "metadata": {},
     "output_type": "display_data"
    },
    {
     "name": "stdout",
     "output_type": "stream",
     "text": [
      "\u001b[2m2024-03-15 20:42.48\u001b[0m [\u001b[32m\u001b[1minfo     \u001b[0m] \u001b[1mDiscreteFQE_20240315200128: epoch=1 step=10000\u001b[0m \u001b[36mepoch\u001b[0m=\u001b[35m1\u001b[0m \u001b[36mmetrics\u001b[0m=\u001b[35m{'time_sample_batch': 0.003343016719818115, 'time_algorithm_update': 0.0024650984525680544, 'loss': 2.136796063515544, 'time_step': 0.0058895977973937984, 'init_value': -137.58148193359375, 'soft_opc': -1.2399834404804722}\u001b[0m \u001b[36mstep\u001b[0m=\u001b[35m10000\u001b[0m\n",
      "\u001b[2m2024-03-15 20:42.48\u001b[0m [\u001b[32m\u001b[1minfo     \u001b[0m] \u001b[1mModel parameters are saved to d3rlpy_logs/DiscreteFQE_20240315200128/model_10000.d3\u001b[0m\n"
     ]
    },
    {
     "data": {
      "application/vnd.jupyter.widget-view+json": {
       "model_id": "47dab3e07c1e473f817f6ccede542415",
       "version_major": 2,
       "version_minor": 0
      },
      "text/plain": [
       "Epoch 2/100:   0%|          | 0/10000 [00:00<?, ?it/s]"
      ]
     },
     "metadata": {},
     "output_type": "display_data"
    },
    {
     "name": "stdout",
     "output_type": "stream",
     "text": [
      "\u001b[2m2024-03-15 21:24.13\u001b[0m [\u001b[32m\u001b[1minfo     \u001b[0m] \u001b[1mDiscreteFQE_20240315200128: epoch=2 step=20000\u001b[0m \u001b[36mepoch\u001b[0m=\u001b[35m2\u001b[0m \u001b[36mmetrics\u001b[0m=\u001b[35m{'time_sample_batch': 0.0033982152462005617, 'time_algorithm_update': 0.0024594472169876098, 'loss': 3.687422688961029, 'time_step': 0.005935037636756897, 'init_value': -197.82666015625, 'soft_opc': -3.171720897148191}\u001b[0m \u001b[36mstep\u001b[0m=\u001b[35m20000\u001b[0m\n",
      "\u001b[2m2024-03-15 21:24.13\u001b[0m [\u001b[32m\u001b[1minfo     \u001b[0m] \u001b[1mModel parameters are saved to d3rlpy_logs/DiscreteFQE_20240315200128/model_20000.d3\u001b[0m\n"
     ]
    },
    {
     "data": {
      "application/vnd.jupyter.widget-view+json": {
       "model_id": "341647b7b4b44159af1c7bf72d79839e",
       "version_major": 2,
       "version_minor": 0
      },
      "text/plain": [
       "Epoch 3/100:   0%|          | 0/10000 [00:00<?, ?it/s]"
      ]
     },
     "metadata": {},
     "output_type": "display_data"
    },
    {
     "name": "stdout",
     "output_type": "stream",
     "text": [
      "\u001b[2m2024-03-15 22:05.25\u001b[0m [\u001b[32m\u001b[1minfo     \u001b[0m] \u001b[1mDiscreteFQE_20240315200128: epoch=3 step=30000\u001b[0m \u001b[36mepoch\u001b[0m=\u001b[35m3\u001b[0m \u001b[36mmetrics\u001b[0m=\u001b[35m{'time_sample_batch': 0.0033828121662139894, 'time_algorithm_update': 0.002435862946510315, 'loss': 4.068479389953613, 'time_step': 0.0059019942283630375, 'init_value': -239.9102325439453, 'soft_opc': -6.14143427452035}\u001b[0m \u001b[36mstep\u001b[0m=\u001b[35m30000\u001b[0m\n",
      "\u001b[2m2024-03-15 22:05.25\u001b[0m [\u001b[32m\u001b[1minfo     \u001b[0m] \u001b[1mModel parameters are saved to d3rlpy_logs/DiscreteFQE_20240315200128/model_30000.d3\u001b[0m\n"
     ]
    },
    {
     "data": {
      "application/vnd.jupyter.widget-view+json": {
       "model_id": "78eb5efa6184445cb547d5b6b5a8b2bc",
       "version_major": 2,
       "version_minor": 0
      },
      "text/plain": [
       "Epoch 4/100:   0%|          | 0/10000 [00:00<?, ?it/s]"
      ]
     },
     "metadata": {},
     "output_type": "display_data"
    },
    {
     "name": "stdout",
     "output_type": "stream",
     "text": [
      "\u001b[2m2024-03-15 22:46.48\u001b[0m [\u001b[32m\u001b[1minfo     \u001b[0m] \u001b[1mDiscreteFQE_20240315200128: epoch=4 step=40000\u001b[0m \u001b[36mepoch\u001b[0m=\u001b[35m4\u001b[0m \u001b[36mmetrics\u001b[0m=\u001b[35m{'time_sample_batch': 0.0033770553827285766, 'time_algorithm_update': 0.0024013113260269166, 'loss': 4.166707247650623, 'time_step': 0.0058593831300735475, 'init_value': -224.0025177001953, 'soft_opc': -5.4937885918121765}\u001b[0m \u001b[36mstep\u001b[0m=\u001b[35m40000\u001b[0m\n",
      "\u001b[2m2024-03-15 22:46.48\u001b[0m [\u001b[32m\u001b[1minfo     \u001b[0m] \u001b[1mModel parameters are saved to d3rlpy_logs/DiscreteFQE_20240315200128/model_40000.d3\u001b[0m\n"
     ]
    },
    {
     "data": {
      "application/vnd.jupyter.widget-view+json": {
       "model_id": "ec60b2bbc9044582889e4f58aad9a301",
       "version_major": 2,
       "version_minor": 0
      },
      "text/plain": [
       "Epoch 5/100:   0%|          | 0/10000 [00:00<?, ?it/s]"
      ]
     },
     "metadata": {},
     "output_type": "display_data"
    },
    {
     "name": "stdout",
     "output_type": "stream",
     "text": [
      "\u001b[2m2024-03-15 23:28.26\u001b[0m [\u001b[32m\u001b[1minfo     \u001b[0m] \u001b[1mDiscreteFQE_20240315200128: epoch=5 step=50000\u001b[0m \u001b[36mepoch\u001b[0m=\u001b[35m5\u001b[0m \u001b[36mmetrics\u001b[0m=\u001b[35m{'time_sample_batch': 0.0033670586347579958, 'time_algorithm_update': 0.002422814679145813, 'loss': 4.0481837263822555, 'time_step': 0.005868826293945312, 'init_value': -221.2327117919922, 'soft_opc': -6.7043410678078885}\u001b[0m \u001b[36mstep\u001b[0m=\u001b[35m50000\u001b[0m\n",
      "\u001b[2m2024-03-15 23:28.26\u001b[0m [\u001b[32m\u001b[1minfo     \u001b[0m] \u001b[1mModel parameters are saved to d3rlpy_logs/DiscreteFQE_20240315200128/model_50000.d3\u001b[0m\n"
     ]
    },
    {
     "data": {
      "application/vnd.jupyter.widget-view+json": {
       "model_id": "9e7f8a89c6d9433cb42247943632800c",
       "version_major": 2,
       "version_minor": 0
      },
      "text/plain": [
       "Epoch 6/100:   0%|          | 0/10000 [00:00<?, ?it/s]"
      ]
     },
     "metadata": {},
     "output_type": "display_data"
    },
    {
     "name": "stdout",
     "output_type": "stream",
     "text": [
      "\u001b[2m2024-03-16 00:09.48\u001b[0m [\u001b[32m\u001b[1minfo     \u001b[0m] \u001b[1mDiscreteFQE_20240315200128: epoch=6 step=60000\u001b[0m \u001b[36mepoch\u001b[0m=\u001b[35m6\u001b[0m \u001b[36mmetrics\u001b[0m=\u001b[35m{'time_sample_batch': 0.0033642632961273194, 'time_algorithm_update': 0.0024112351179122926, 'loss': 3.407394967532158, 'time_step': 0.0058512994527816775, 'init_value': -202.1650848388672, 'soft_opc': -4.33536809578365}\u001b[0m \u001b[36mstep\u001b[0m=\u001b[35m60000\u001b[0m\n",
      "\u001b[2m2024-03-16 00:09.48\u001b[0m [\u001b[32m\u001b[1minfo     \u001b[0m] \u001b[1mModel parameters are saved to d3rlpy_logs/DiscreteFQE_20240315200128/model_60000.d3\u001b[0m\n"
     ]
    },
    {
     "data": {
      "application/vnd.jupyter.widget-view+json": {
       "model_id": "286416c858bd4d68a4b55d82ff23fb21",
       "version_major": 2,
       "version_minor": 0
      },
      "text/plain": [
       "Epoch 7/100:   0%|          | 0/10000 [00:00<?, ?it/s]"
      ]
     },
     "metadata": {},
     "output_type": "display_data"
    },
    {
     "name": "stdout",
     "output_type": "stream",
     "text": [
      "\u001b[2m2024-03-16 00:51.15\u001b[0m [\u001b[32m\u001b[1minfo     \u001b[0m] \u001b[1mDiscreteFQE_20240315200128: epoch=7 step=70000\u001b[0m \u001b[36mepoch\u001b[0m=\u001b[35m7\u001b[0m \u001b[36mmetrics\u001b[0m=\u001b[35m{'time_sample_batch': 0.0033644648313522338, 'time_algorithm_update': 0.002407938456535339, 'loss': 3.2623490434288978, 'time_step': 0.0058532541513442995, 'init_value': -202.68246459960938, 'soft_opc': -0.7602369608971458}\u001b[0m \u001b[36mstep\u001b[0m=\u001b[35m70000\u001b[0m\n",
      "\u001b[2m2024-03-16 00:51.15\u001b[0m [\u001b[32m\u001b[1minfo     \u001b[0m] \u001b[1mModel parameters are saved to d3rlpy_logs/DiscreteFQE_20240315200128/model_70000.d3\u001b[0m\n"
     ]
    },
    {
     "data": {
      "application/vnd.jupyter.widget-view+json": {
       "model_id": "7ee223095eb54e71919970e8c29e4b96",
       "version_major": 2,
       "version_minor": 0
      },
      "text/plain": [
       "Epoch 8/100:   0%|          | 0/10000 [00:00<?, ?it/s]"
      ]
     },
     "metadata": {},
     "output_type": "display_data"
    },
    {
     "name": "stdout",
     "output_type": "stream",
     "text": [
      "\u001b[2m2024-03-16 01:32.30\u001b[0m [\u001b[32m\u001b[1minfo     \u001b[0m] \u001b[1mDiscreteFQE_20240315200128: epoch=8 step=80000\u001b[0m \u001b[36mepoch\u001b[0m=\u001b[35m8\u001b[0m \u001b[36mmetrics\u001b[0m=\u001b[35m{'time_sample_batch': 0.0033600100994110108, 'time_algorithm_update': 0.0023861958265304567, 'loss': 3.1487017340540886, 'time_step': 0.0058208411693573, 'init_value': -193.21656799316406, 'soft_opc': -1.516675168936274}\u001b[0m \u001b[36mstep\u001b[0m=\u001b[35m80000\u001b[0m\n",
      "\u001b[2m2024-03-16 01:32.30\u001b[0m [\u001b[32m\u001b[1minfo     \u001b[0m] \u001b[1mModel parameters are saved to d3rlpy_logs/DiscreteFQE_20240315200128/model_80000.d3\u001b[0m\n"
     ]
    },
    {
     "data": {
      "application/vnd.jupyter.widget-view+json": {
       "model_id": "10cc1bf1ae5b497386b13acacee42ece",
       "version_major": 2,
       "version_minor": 0
      },
      "text/plain": [
       "Epoch 9/100:   0%|          | 0/10000 [00:00<?, ?it/s]"
      ]
     },
     "metadata": {},
     "output_type": "display_data"
    },
    {
     "name": "stdout",
     "output_type": "stream",
     "text": [
      "\u001b[2m2024-03-16 02:13.47\u001b[0m [\u001b[32m\u001b[1minfo     \u001b[0m] \u001b[1mDiscreteFQE_20240315200128: epoch=9 step=90000\u001b[0m \u001b[36mepoch\u001b[0m=\u001b[35m9\u001b[0m \u001b[36mmetrics\u001b[0m=\u001b[35m{'time_sample_batch': 0.003391025519371033, 'time_algorithm_update': 0.0024116355180740356, 'loss': 2.946549324011803, 'time_step': 0.005881233596801758, 'init_value': -183.64564514160156, 'soft_opc': -4.237298839271375}\u001b[0m \u001b[36mstep\u001b[0m=\u001b[35m90000\u001b[0m\n",
      "\u001b[2m2024-03-16 02:13.47\u001b[0m [\u001b[32m\u001b[1minfo     \u001b[0m] \u001b[1mModel parameters are saved to d3rlpy_logs/DiscreteFQE_20240315200128/model_90000.d3\u001b[0m\n"
     ]
    },
    {
     "data": {
      "application/vnd.jupyter.widget-view+json": {
       "model_id": "b7c703dc4d60485fabb4034c70b84d6e",
       "version_major": 2,
       "version_minor": 0
      },
      "text/plain": [
       "Epoch 10/100:   0%|          | 0/10000 [00:00<?, ?it/s]"
      ]
     },
     "metadata": {},
     "output_type": "display_data"
    },
    {
     "name": "stdout",
     "output_type": "stream",
     "text": [
      "\u001b[2m2024-03-16 02:55.09\u001b[0m [\u001b[32m\u001b[1minfo     \u001b[0m] \u001b[1mDiscreteFQE_20240315200128: epoch=10 step=100000\u001b[0m \u001b[36mepoch\u001b[0m=\u001b[35m10\u001b[0m \u001b[36mmetrics\u001b[0m=\u001b[35m{'time_sample_batch': 0.003359968614578247, 'time_algorithm_update': 0.002406792163848877, 'loss': 3.1890268607735632, 'time_step': 0.005846803259849548, 'init_value': -177.01336669921875, 'soft_opc': -4.874240258542898}\u001b[0m \u001b[36mstep\u001b[0m=\u001b[35m100000\u001b[0m\n",
      "\u001b[2m2024-03-16 02:55.09\u001b[0m [\u001b[32m\u001b[1minfo     \u001b[0m] \u001b[1mModel parameters are saved to d3rlpy_logs/DiscreteFQE_20240315200128/model_100000.d3\u001b[0m\n"
     ]
    },
    {
     "data": {
      "application/vnd.jupyter.widget-view+json": {
       "model_id": "48f009abb0ed4235825a40297f5fc435",
       "version_major": 2,
       "version_minor": 0
      },
      "text/plain": [
       "Epoch 11/100:   0%|          | 0/10000 [00:00<?, ?it/s]"
      ]
     },
     "metadata": {},
     "output_type": "display_data"
    },
    {
     "name": "stdout",
     "output_type": "stream",
     "text": [
      "\u001b[2m2024-03-16 03:36.21\u001b[0m [\u001b[32m\u001b[1minfo     \u001b[0m] \u001b[1mDiscreteFQE_20240315200128: epoch=11 step=110000\u001b[0m \u001b[36mepoch\u001b[0m=\u001b[35m11\u001b[0m \u001b[36mmetrics\u001b[0m=\u001b[35m{'time_sample_batch': 0.0033446449756622315, 'time_algorithm_update': 0.002402285027503967, 'loss': 3.1640611941576005, 'time_step': 0.005820873117446899, 'init_value': -177.58224487304688, 'soft_opc': -4.847545332455724}\u001b[0m \u001b[36mstep\u001b[0m=\u001b[35m110000\u001b[0m\n",
      "\u001b[2m2024-03-16 03:36.21\u001b[0m [\u001b[32m\u001b[1minfo     \u001b[0m] \u001b[1mModel parameters are saved to d3rlpy_logs/DiscreteFQE_20240315200128/model_110000.d3\u001b[0m\n"
     ]
    },
    {
     "data": {
      "application/vnd.jupyter.widget-view+json": {
       "model_id": "1b30ede379e24c96974e6b42a55c3723",
       "version_major": 2,
       "version_minor": 0
      },
      "text/plain": [
       "Epoch 12/100:   0%|          | 0/10000 [00:00<?, ?it/s]"
      ]
     },
     "metadata": {},
     "output_type": "display_data"
    },
    {
     "name": "stdout",
     "output_type": "stream",
     "text": [
      "\u001b[2m2024-03-16 04:17.44\u001b[0m [\u001b[32m\u001b[1minfo     \u001b[0m] \u001b[1mDiscreteFQE_20240315200128: epoch=12 step=120000\u001b[0m \u001b[36mepoch\u001b[0m=\u001b[35m12\u001b[0m \u001b[36mmetrics\u001b[0m=\u001b[35m{'time_sample_batch': 0.0033351442337036133, 'time_algorithm_update': 0.0023869914531707763, 'loss': 3.6026187687635423, 'time_step': 0.005796966481208801, 'init_value': -167.4001007080078, 'soft_opc': -8.571585031124556}\u001b[0m \u001b[36mstep\u001b[0m=\u001b[35m120000\u001b[0m\n",
      "\u001b[2m2024-03-16 04:17.44\u001b[0m [\u001b[32m\u001b[1minfo     \u001b[0m] \u001b[1mModel parameters are saved to d3rlpy_logs/DiscreteFQE_20240315200128/model_120000.d3\u001b[0m\n"
     ]
    },
    {
     "data": {
      "application/vnd.jupyter.widget-view+json": {
       "model_id": "4139cf695e36421a9755cccc4b3af281",
       "version_major": 2,
       "version_minor": 0
      },
      "text/plain": [
       "Epoch 13/100:   0%|          | 0/10000 [00:00<?, ?it/s]"
      ]
     },
     "metadata": {},
     "output_type": "display_data"
    },
    {
     "name": "stdout",
     "output_type": "stream",
     "text": [
      "\u001b[2m2024-03-16 04:58.54\u001b[0m [\u001b[32m\u001b[1minfo     \u001b[0m] \u001b[1mDiscreteFQE_20240315200128: epoch=13 step=130000\u001b[0m \u001b[36mepoch\u001b[0m=\u001b[35m13\u001b[0m \u001b[36mmetrics\u001b[0m=\u001b[35m{'time_sample_batch': 0.0033630145311355593, 'time_algorithm_update': 0.0024028305530548097, 'loss': 3.901102812409401, 'time_step': 0.005842313003540039, 'init_value': -172.12252807617188, 'soft_opc': -10.965812593630773}\u001b[0m \u001b[36mstep\u001b[0m=\u001b[35m130000\u001b[0m\n",
      "\u001b[2m2024-03-16 04:58.54\u001b[0m [\u001b[32m\u001b[1minfo     \u001b[0m] \u001b[1mModel parameters are saved to d3rlpy_logs/DiscreteFQE_20240315200128/model_130000.d3\u001b[0m\n"
     ]
    },
    {
     "data": {
      "application/vnd.jupyter.widget-view+json": {
       "model_id": "4782e9ad5ff044889ed5823482f51835",
       "version_major": 2,
       "version_minor": 0
      },
      "text/plain": [
       "Epoch 14/100:   0%|          | 0/10000 [00:00<?, ?it/s]"
      ]
     },
     "metadata": {},
     "output_type": "display_data"
    },
    {
     "name": "stdout",
     "output_type": "stream",
     "text": [
      "\u001b[2m2024-03-16 05:40.19\u001b[0m [\u001b[32m\u001b[1minfo     \u001b[0m] \u001b[1mDiscreteFQE_20240315200128: epoch=14 step=140000\u001b[0m \u001b[36mepoch\u001b[0m=\u001b[35m14\u001b[0m \u001b[36mmetrics\u001b[0m=\u001b[35m{'time_sample_batch': 0.003371101713180542, 'time_algorithm_update': 0.002433880710601807, 'loss': 3.555262591767311, 'time_step': 0.0058816205501556395, 'init_value': -161.01719665527344, 'soft_opc': -6.634290164382719}\u001b[0m \u001b[36mstep\u001b[0m=\u001b[35m140000\u001b[0m\n",
      "\u001b[2m2024-03-16 05:40.19\u001b[0m [\u001b[32m\u001b[1minfo     \u001b[0m] \u001b[1mModel parameters are saved to d3rlpy_logs/DiscreteFQE_20240315200128/model_140000.d3\u001b[0m\n"
     ]
    },
    {
     "data": {
      "application/vnd.jupyter.widget-view+json": {
       "model_id": "f6fc7a02e35f47f9964179155be36365",
       "version_major": 2,
       "version_minor": 0
      },
      "text/plain": [
       "Epoch 15/100:   0%|          | 0/10000 [00:00<?, ?it/s]"
      ]
     },
     "metadata": {},
     "output_type": "display_data"
    },
    {
     "name": "stdout",
     "output_type": "stream",
     "text": [
      "\u001b[2m2024-03-16 06:21.48\u001b[0m [\u001b[32m\u001b[1minfo     \u001b[0m] \u001b[1mDiscreteFQE_20240315200128: epoch=15 step=150000\u001b[0m \u001b[36mepoch\u001b[0m=\u001b[35m15\u001b[0m \u001b[36mmetrics\u001b[0m=\u001b[35m{'time_sample_batch': 0.0033919978618621826, 'time_algorithm_update': 0.0024237175941467285, 'loss': 3.122921844291687, 'time_step': 0.005895650219917298, 'init_value': -171.8895263671875, 'soft_opc': -4.9602153057499265}\u001b[0m \u001b[36mstep\u001b[0m=\u001b[35m150000\u001b[0m\n",
      "\u001b[2m2024-03-16 06:21.48\u001b[0m [\u001b[32m\u001b[1minfo     \u001b[0m] \u001b[1mModel parameters are saved to d3rlpy_logs/DiscreteFQE_20240315200128/model_150000.d3\u001b[0m\n"
     ]
    },
    {
     "data": {
      "application/vnd.jupyter.widget-view+json": {
       "model_id": "2af1f68c1bb14df6b4a064de1e8e3287",
       "version_major": 2,
       "version_minor": 0
      },
      "text/plain": [
       "Epoch 16/100:   0%|          | 0/10000 [00:00<?, ?it/s]"
      ]
     },
     "metadata": {},
     "output_type": "display_data"
    },
    {
     "name": "stdout",
     "output_type": "stream",
     "text": [
      "\u001b[2m2024-03-16 07:03.32\u001b[0m [\u001b[32m\u001b[1minfo     \u001b[0m] \u001b[1mDiscreteFQE_20240315200128: epoch=16 step=160000\u001b[0m \u001b[36mepoch\u001b[0m=\u001b[35m16\u001b[0m \u001b[36mmetrics\u001b[0m=\u001b[35m{'time_sample_batch': 0.0034296478509902952, 'time_algorithm_update': 0.0024285930633544924, 'loss': 3.6733770536065102, 'time_step': 0.005937761902809143, 'init_value': -171.4960479736328, 'soft_opc': -3.1077083928243496}\u001b[0m \u001b[36mstep\u001b[0m=\u001b[35m160000\u001b[0m\n",
      "\u001b[2m2024-03-16 07:03.32\u001b[0m [\u001b[32m\u001b[1minfo     \u001b[0m] \u001b[1mModel parameters are saved to d3rlpy_logs/DiscreteFQE_20240315200128/model_160000.d3\u001b[0m\n"
     ]
    },
    {
     "data": {
      "application/vnd.jupyter.widget-view+json": {
       "model_id": "1ad34be83d4e491ebc0ccc4eabc3024e",
       "version_major": 2,
       "version_minor": 0
      },
      "text/plain": [
       "Epoch 17/100:   0%|          | 0/10000 [00:00<?, ?it/s]"
      ]
     },
     "metadata": {},
     "output_type": "display_data"
    },
    {
     "name": "stdout",
     "output_type": "stream",
     "text": [
      "\u001b[2m2024-03-16 07:45.02\u001b[0m [\u001b[32m\u001b[1minfo     \u001b[0m] \u001b[1mDiscreteFQE_20240315200128: epoch=17 step=170000\u001b[0m \u001b[36mepoch\u001b[0m=\u001b[35m17\u001b[0m \u001b[36mmetrics\u001b[0m=\u001b[35m{'time_sample_batch': 0.0034075581073760987, 'time_algorithm_update': 0.0024103154182434083, 'loss': 3.650383594942093, 'time_step': 0.005898910307884217, 'init_value': -180.86480712890625, 'soft_opc': -2.586405610563844}\u001b[0m \u001b[36mstep\u001b[0m=\u001b[35m170000\u001b[0m\n",
      "\u001b[2m2024-03-16 07:45.02\u001b[0m [\u001b[32m\u001b[1minfo     \u001b[0m] \u001b[1mModel parameters are saved to d3rlpy_logs/DiscreteFQE_20240315200128/model_170000.d3\u001b[0m\n"
     ]
    },
    {
     "data": {
      "application/vnd.jupyter.widget-view+json": {
       "model_id": "9220cd4015604afd916220ba482aeccc",
       "version_major": 2,
       "version_minor": 0
      },
      "text/plain": [
       "Epoch 18/100:   0%|          | 0/10000 [00:00<?, ?it/s]"
      ]
     },
     "metadata": {},
     "output_type": "display_data"
    },
    {
     "name": "stdout",
     "output_type": "stream",
     "text": [
      "\u001b[2m2024-03-16 08:26.25\u001b[0m [\u001b[32m\u001b[1minfo     \u001b[0m] \u001b[1mDiscreteFQE_20240315200128: epoch=18 step=180000\u001b[0m \u001b[36mepoch\u001b[0m=\u001b[35m18\u001b[0m \u001b[36mmetrics\u001b[0m=\u001b[35m{'time_sample_batch': 0.003352840447425842, 'time_algorithm_update': 0.002430231738090515, 'loss': 3.4444748631715774, 'time_step': 0.005861674237251282, 'init_value': -167.64285278320312, 'soft_opc': -6.8569308365522375}\u001b[0m \u001b[36mstep\u001b[0m=\u001b[35m180000\u001b[0m\n",
      "\u001b[2m2024-03-16 08:26.25\u001b[0m [\u001b[32m\u001b[1minfo     \u001b[0m] \u001b[1mModel parameters are saved to d3rlpy_logs/DiscreteFQE_20240315200128/model_180000.d3\u001b[0m\n"
     ]
    },
    {
     "data": {
      "application/vnd.jupyter.widget-view+json": {
       "model_id": "b1b4d0d792c1416ebc34c6c61f335897",
       "version_major": 2,
       "version_minor": 0
      },
      "text/plain": [
       "Epoch 19/100:   0%|          | 0/10000 [00:00<?, ?it/s]"
      ]
     },
     "metadata": {},
     "output_type": "display_data"
    },
    {
     "name": "stdout",
     "output_type": "stream",
     "text": [
      "\u001b[2m2024-03-16 09:07.59\u001b[0m [\u001b[32m\u001b[1minfo     \u001b[0m] \u001b[1mDiscreteFQE_20240315200128: epoch=19 step=190000\u001b[0m \u001b[36mepoch\u001b[0m=\u001b[35m19\u001b[0m \u001b[36mmetrics\u001b[0m=\u001b[35m{'time_sample_batch': 0.003355111002922058, 'time_algorithm_update': 0.002411153173446655, 'loss': 4.1573592467546465, 'time_step': 0.005836893796920776, 'init_value': -174.1526641845703, 'soft_opc': -3.4311973707609127}\u001b[0m \u001b[36mstep\u001b[0m=\u001b[35m190000\u001b[0m\n",
      "\u001b[2m2024-03-16 09:07.59\u001b[0m [\u001b[32m\u001b[1minfo     \u001b[0m] \u001b[1mModel parameters are saved to d3rlpy_logs/DiscreteFQE_20240315200128/model_190000.d3\u001b[0m\n"
     ]
    },
    {
     "data": {
      "application/vnd.jupyter.widget-view+json": {
       "model_id": "cfc58c4a6cc34a4d9773a8d66e35ee7d",
       "version_major": 2,
       "version_minor": 0
      },
      "text/plain": [
       "Epoch 20/100:   0%|          | 0/10000 [00:00<?, ?it/s]"
      ]
     },
     "metadata": {},
     "output_type": "display_data"
    },
    {
     "name": "stdout",
     "output_type": "stream",
     "text": [
      "\u001b[2m2024-03-16 09:49.27\u001b[0m [\u001b[32m\u001b[1minfo     \u001b[0m] \u001b[1mDiscreteFQE_20240315200128: epoch=20 step=200000\u001b[0m \u001b[36mepoch\u001b[0m=\u001b[35m20\u001b[0m \u001b[36mmetrics\u001b[0m=\u001b[35m{'time_sample_batch': 0.003399127674102783, 'time_algorithm_update': 0.0024382800579071046, 'loss': 3.8104889587879183, 'time_step': 0.005915183854103089, 'init_value': -181.36611938476562, 'soft_opc': -5.827216265883976}\u001b[0m \u001b[36mstep\u001b[0m=\u001b[35m200000\u001b[0m\n",
      "\u001b[2m2024-03-16 09:49.27\u001b[0m [\u001b[32m\u001b[1minfo     \u001b[0m] \u001b[1mModel parameters are saved to d3rlpy_logs/DiscreteFQE_20240315200128/model_200000.d3\u001b[0m\n"
     ]
    },
    {
     "data": {
      "application/vnd.jupyter.widget-view+json": {
       "model_id": "5ce3e347b6104e35aac5fcaa94fe611a",
       "version_major": 2,
       "version_minor": 0
      },
      "text/plain": [
       "Epoch 21/100:   0%|          | 0/10000 [00:00<?, ?it/s]"
      ]
     },
     "metadata": {},
     "output_type": "display_data"
    },
    {
     "name": "stdout",
     "output_type": "stream",
     "text": [
      "\u001b[2m2024-03-16 10:30.44\u001b[0m [\u001b[32m\u001b[1minfo     \u001b[0m] \u001b[1mDiscreteFQE_20240315200128: epoch=21 step=210000\u001b[0m \u001b[36mepoch\u001b[0m=\u001b[35m21\u001b[0m \u001b[36mmetrics\u001b[0m=\u001b[35m{'time_sample_batch': 0.0033651081323623658, 'time_algorithm_update': 0.002439074921607971, 'loss': 3.868296106648445, 'time_step': 0.005876690912246704, 'init_value': -171.9549102783203, 'soft_opc': -7.682191501114858}\u001b[0m \u001b[36mstep\u001b[0m=\u001b[35m210000\u001b[0m\n",
      "\u001b[2m2024-03-16 10:30.44\u001b[0m [\u001b[32m\u001b[1minfo     \u001b[0m] \u001b[1mModel parameters are saved to d3rlpy_logs/DiscreteFQE_20240315200128/model_210000.d3\u001b[0m\n"
     ]
    },
    {
     "data": {
      "application/vnd.jupyter.widget-view+json": {
       "model_id": "8fcf17c41bdf403eb00b9709dbf29cab",
       "version_major": 2,
       "version_minor": 0
      },
      "text/plain": [
       "Epoch 22/100:   0%|          | 0/10000 [00:00<?, ?it/s]"
      ]
     },
     "metadata": {},
     "output_type": "display_data"
    },
    {
     "name": "stdout",
     "output_type": "stream",
     "text": [
      "\u001b[2m2024-03-16 11:12.18\u001b[0m [\u001b[32m\u001b[1minfo     \u001b[0m] \u001b[1mDiscreteFQE_20240315200128: epoch=22 step=220000\u001b[0m \u001b[36mepoch\u001b[0m=\u001b[35m22\u001b[0m \u001b[36mmetrics\u001b[0m=\u001b[35m{'time_sample_batch': 0.003388276648521423, 'time_algorithm_update': 0.0024353376388549803, 'loss': 3.7210435129523276, 'time_step': 0.005898835015296936, 'init_value': -163.7584686279297, 'soft_opc': -2.4733867300113275}\u001b[0m \u001b[36mstep\u001b[0m=\u001b[35m220000\u001b[0m\n",
      "\u001b[2m2024-03-16 11:12.18\u001b[0m [\u001b[32m\u001b[1minfo     \u001b[0m] \u001b[1mModel parameters are saved to d3rlpy_logs/DiscreteFQE_20240315200128/model_220000.d3\u001b[0m\n"
     ]
    },
    {
     "data": {
      "application/vnd.jupyter.widget-view+json": {
       "model_id": "a5d25ab2f5104b159ea6b3ea974929ac",
       "version_major": 2,
       "version_minor": 0
      },
      "text/plain": [
       "Epoch 23/100:   0%|          | 0/10000 [00:00<?, ?it/s]"
      ]
     },
     "metadata": {},
     "output_type": "display_data"
    },
    {
     "name": "stdout",
     "output_type": "stream",
     "text": [
      "\u001b[2m2024-03-16 11:53.52\u001b[0m [\u001b[32m\u001b[1minfo     \u001b[0m] \u001b[1mDiscreteFQE_20240315200128: epoch=23 step=230000\u001b[0m \u001b[36mepoch\u001b[0m=\u001b[35m23\u001b[0m \u001b[36mmetrics\u001b[0m=\u001b[35m{'time_sample_batch': 0.0033960261583328246, 'time_algorithm_update': 0.002431689810752869, 'loss': 3.748126514029503, 'time_step': 0.005903390669822693, 'init_value': -149.06826782226562, 'soft_opc': -3.664656024386744}\u001b[0m \u001b[36mstep\u001b[0m=\u001b[35m230000\u001b[0m\n",
      "\u001b[2m2024-03-16 11:53.52\u001b[0m [\u001b[32m\u001b[1minfo     \u001b[0m] \u001b[1mModel parameters are saved to d3rlpy_logs/DiscreteFQE_20240315200128/model_230000.d3\u001b[0m\n"
     ]
    },
    {
     "data": {
      "application/vnd.jupyter.widget-view+json": {
       "model_id": "0bb9b97eed1a4a1eb8739ef3565544ed",
       "version_major": 2,
       "version_minor": 0
      },
      "text/plain": [
       "Epoch 24/100:   0%|          | 0/10000 [00:00<?, ?it/s]"
      ]
     },
     "metadata": {},
     "output_type": "display_data"
    },
    {
     "name": "stdout",
     "output_type": "stream",
     "text": [
      "\u001b[2m2024-03-16 12:35.13\u001b[0m [\u001b[32m\u001b[1minfo     \u001b[0m] \u001b[1mDiscreteFQE_20240315200128: epoch=24 step=240000\u001b[0m \u001b[36mepoch\u001b[0m=\u001b[35m24\u001b[0m \u001b[36mmetrics\u001b[0m=\u001b[35m{'time_sample_batch': 0.0034161755323410033, 'time_algorithm_update': 0.0024306928634643555, 'loss': 3.622862768137455, 'time_step': 0.00592698564529419, 'init_value': -166.1852569580078, 'soft_opc': -3.5174582540626034}\u001b[0m \u001b[36mstep\u001b[0m=\u001b[35m240000\u001b[0m\n",
      "\u001b[2m2024-03-16 12:35.13\u001b[0m [\u001b[32m\u001b[1minfo     \u001b[0m] \u001b[1mModel parameters are saved to d3rlpy_logs/DiscreteFQE_20240315200128/model_240000.d3\u001b[0m\n"
     ]
    },
    {
     "data": {
      "application/vnd.jupyter.widget-view+json": {
       "model_id": "bd5aca8c56fc4a199389f0ad1b315362",
       "version_major": 2,
       "version_minor": 0
      },
      "text/plain": [
       "Epoch 25/100:   0%|          | 0/10000 [00:00<?, ?it/s]"
      ]
     },
     "metadata": {},
     "output_type": "display_data"
    },
    {
     "name": "stdout",
     "output_type": "stream",
     "text": [
      "\u001b[2m2024-03-16 13:17.08\u001b[0m [\u001b[32m\u001b[1minfo     \u001b[0m] \u001b[1mDiscreteFQE_20240315200128: epoch=25 step=250000\u001b[0m \u001b[36mepoch\u001b[0m=\u001b[35m25\u001b[0m \u001b[36mmetrics\u001b[0m=\u001b[35m{'time_sample_batch': 0.0033731165170669554, 'time_algorithm_update': 0.002433225893974304, 'loss': 3.552839244389534, 'time_step': 0.005881288123130798, 'init_value': -161.56654357910156, 'soft_opc': -2.6429720044422425}\u001b[0m \u001b[36mstep\u001b[0m=\u001b[35m250000\u001b[0m\n",
      "\u001b[2m2024-03-16 13:17.08\u001b[0m [\u001b[32m\u001b[1minfo     \u001b[0m] \u001b[1mModel parameters are saved to d3rlpy_logs/DiscreteFQE_20240315200128/model_250000.d3\u001b[0m\n"
     ]
    },
    {
     "data": {
      "application/vnd.jupyter.widget-view+json": {
       "model_id": "c7341794c4e945aa8bb771628c473f34",
       "version_major": 2,
       "version_minor": 0
      },
      "text/plain": [
       "Epoch 26/100:   0%|          | 0/10000 [00:00<?, ?it/s]"
      ]
     },
     "metadata": {},
     "output_type": "display_data"
    },
    {
     "name": "stdout",
     "output_type": "stream",
     "text": [
      "\u001b[2m2024-03-16 13:58.43\u001b[0m [\u001b[32m\u001b[1minfo     \u001b[0m] \u001b[1mDiscreteFQE_20240315200128: epoch=26 step=260000\u001b[0m \u001b[36mepoch\u001b[0m=\u001b[35m26\u001b[0m \u001b[36mmetrics\u001b[0m=\u001b[35m{'time_sample_batch': 0.003403569054603577, 'time_algorithm_update': 0.002422178101539612, 'loss': 3.519459642779827, 'time_step': 0.0059041644096374515, 'init_value': -160.5821075439453, 'soft_opc': -0.14139465140522134}\u001b[0m \u001b[36mstep\u001b[0m=\u001b[35m260000\u001b[0m\n",
      "\u001b[2m2024-03-16 13:58.43\u001b[0m [\u001b[32m\u001b[1minfo     \u001b[0m] \u001b[1mModel parameters are saved to d3rlpy_logs/DiscreteFQE_20240315200128/model_260000.d3\u001b[0m\n"
     ]
    },
    {
     "data": {
      "application/vnd.jupyter.widget-view+json": {
       "model_id": "ab8ba6dcc3df40bf81beab1b468e8f4c",
       "version_major": 2,
       "version_minor": 0
      },
      "text/plain": [
       "Epoch 27/100:   0%|          | 0/10000 [00:00<?, ?it/s]"
      ]
     },
     "metadata": {},
     "output_type": "display_data"
    },
    {
     "name": "stdout",
     "output_type": "stream",
     "text": [
      "\u001b[2m2024-03-16 14:39.59\u001b[0m [\u001b[32m\u001b[1minfo     \u001b[0m] \u001b[1mDiscreteFQE_20240315200128: epoch=27 step=270000\u001b[0m \u001b[36mepoch\u001b[0m=\u001b[35m27\u001b[0m \u001b[36mmetrics\u001b[0m=\u001b[35m{'time_sample_batch': 0.0033290382623672485, 'time_algorithm_update': 0.0024113196611404417, 'loss': 3.431867814218998, 'time_step': 0.005816735625267029, 'init_value': -140.2006378173828, 'soft_opc': 1.8029750031093101}\u001b[0m \u001b[36mstep\u001b[0m=\u001b[35m270000\u001b[0m\n",
      "\u001b[2m2024-03-16 14:39.59\u001b[0m [\u001b[32m\u001b[1minfo     \u001b[0m] \u001b[1mModel parameters are saved to d3rlpy_logs/DiscreteFQE_20240315200128/model_270000.d3\u001b[0m\n"
     ]
    },
    {
     "data": {
      "application/vnd.jupyter.widget-view+json": {
       "model_id": "699c840101904158b0d69efdbb8b8479",
       "version_major": 2,
       "version_minor": 0
      },
      "text/plain": [
       "Epoch 28/100:   0%|          | 0/10000 [00:00<?, ?it/s]"
      ]
     },
     "metadata": {},
     "output_type": "display_data"
    },
    {
     "name": "stdout",
     "output_type": "stream",
     "text": [
      "\u001b[2m2024-03-16 15:21.18\u001b[0m [\u001b[32m\u001b[1minfo     \u001b[0m] \u001b[1mDiscreteFQE_20240315200128: epoch=28 step=280000\u001b[0m \u001b[36mepoch\u001b[0m=\u001b[35m28\u001b[0m \u001b[36mmetrics\u001b[0m=\u001b[35m{'time_sample_batch': 0.0033758447647094726, 'time_algorithm_update': 0.0023975015640258788, 'loss': 3.148430556833744, 'time_step': 0.005852264738082886, 'init_value': -154.4901123046875, 'soft_opc': 0.5604220829200415}\u001b[0m \u001b[36mstep\u001b[0m=\u001b[35m280000\u001b[0m\n",
      "\u001b[2m2024-03-16 15:21.18\u001b[0m [\u001b[32m\u001b[1minfo     \u001b[0m] \u001b[1mModel parameters are saved to d3rlpy_logs/DiscreteFQE_20240315200128/model_280000.d3\u001b[0m\n"
     ]
    },
    {
     "data": {
      "application/vnd.jupyter.widget-view+json": {
       "model_id": "369ba2f8211740b2b30ac341461dd289",
       "version_major": 2,
       "version_minor": 0
      },
      "text/plain": [
       "Epoch 29/100:   0%|          | 0/10000 [00:00<?, ?it/s]"
      ]
     },
     "metadata": {},
     "output_type": "display_data"
    },
    {
     "name": "stdout",
     "output_type": "stream",
     "text": [
      "\u001b[2m2024-03-16 16:02.44\u001b[0m [\u001b[32m\u001b[1minfo     \u001b[0m] \u001b[1mDiscreteFQE_20240315200128: epoch=29 step=290000\u001b[0m \u001b[36mepoch\u001b[0m=\u001b[35m29\u001b[0m \u001b[36mmetrics\u001b[0m=\u001b[35m{'time_sample_batch': 0.0033702621936798098, 'time_algorithm_update': 0.002418398571014404, 'loss': 3.5050713148891925, 'time_step': 0.005868235421180725, 'init_value': -156.75205993652344, 'soft_opc': -1.8159250820241652}\u001b[0m \u001b[36mstep\u001b[0m=\u001b[35m290000\u001b[0m\n",
      "\u001b[2m2024-03-16 16:02.44\u001b[0m [\u001b[32m\u001b[1minfo     \u001b[0m] \u001b[1mModel parameters are saved to d3rlpy_logs/DiscreteFQE_20240315200128/model_290000.d3\u001b[0m\n"
     ]
    },
    {
     "data": {
      "application/vnd.jupyter.widget-view+json": {
       "model_id": "10e59607295e4fd1b2b9ac63eaa25bd7",
       "version_major": 2,
       "version_minor": 0
      },
      "text/plain": [
       "Epoch 30/100:   0%|          | 0/10000 [00:00<?, ?it/s]"
      ]
     },
     "metadata": {},
     "output_type": "display_data"
    },
    {
     "name": "stdout",
     "output_type": "stream",
     "text": [
      "\u001b[2m2024-03-16 16:44.09\u001b[0m [\u001b[32m\u001b[1minfo     \u001b[0m] \u001b[1mDiscreteFQE_20240315200128: epoch=30 step=300000\u001b[0m \u001b[36mepoch\u001b[0m=\u001b[35m30\u001b[0m \u001b[36mmetrics\u001b[0m=\u001b[35m{'time_sample_batch': 0.0034070274353027344, 'time_algorithm_update': 0.002430341124534607, 'loss': 3.7037748856425283, 'time_step': 0.005917590117454529, 'init_value': -180.1149139404297, 'soft_opc': -2.877301003373532}\u001b[0m \u001b[36mstep\u001b[0m=\u001b[35m300000\u001b[0m\n",
      "\u001b[2m2024-03-16 16:44.09\u001b[0m [\u001b[32m\u001b[1minfo     \u001b[0m] \u001b[1mModel parameters are saved to d3rlpy_logs/DiscreteFQE_20240315200128/model_300000.d3\u001b[0m\n"
     ]
    },
    {
     "data": {
      "application/vnd.jupyter.widget-view+json": {
       "model_id": "24fb7edbfa764d50bccf37ecc36fd19b",
       "version_major": 2,
       "version_minor": 0
      },
      "text/plain": [
       "Epoch 31/100:   0%|          | 0/10000 [00:00<?, ?it/s]"
      ]
     },
     "metadata": {},
     "output_type": "display_data"
    },
    {
     "name": "stdout",
     "output_type": "stream",
     "text": [
      "\u001b[2m2024-03-16 17:25.32\u001b[0m [\u001b[32m\u001b[1minfo     \u001b[0m] \u001b[1mDiscreteFQE_20240315200128: epoch=31 step=310000\u001b[0m \u001b[36mepoch\u001b[0m=\u001b[35m31\u001b[0m \u001b[36mmetrics\u001b[0m=\u001b[35m{'time_sample_batch': 0.0033659528493881225, 'time_algorithm_update': 0.0023909335374832155, 'loss': 3.658696747994423, 'time_step': 0.00583224732875824, 'init_value': -171.1314239501953, 'soft_opc': -1.6665033804665654}\u001b[0m \u001b[36mstep\u001b[0m=\u001b[35m310000\u001b[0m\n",
      "\u001b[2m2024-03-16 17:25.32\u001b[0m [\u001b[32m\u001b[1minfo     \u001b[0m] \u001b[1mModel parameters are saved to d3rlpy_logs/DiscreteFQE_20240315200128/model_310000.d3\u001b[0m\n"
     ]
    },
    {
     "data": {
      "application/vnd.jupyter.widget-view+json": {
       "model_id": "fca989077e9246849b587e40c8183cbe",
       "version_major": 2,
       "version_minor": 0
      },
      "text/plain": [
       "Epoch 32/100:   0%|          | 0/10000 [00:00<?, ?it/s]"
      ]
     },
     "metadata": {},
     "output_type": "display_data"
    },
    {
     "name": "stdout",
     "output_type": "stream",
     "text": [
      "\u001b[2m2024-03-16 18:07.00\u001b[0m [\u001b[32m\u001b[1minfo     \u001b[0m] \u001b[1mDiscreteFQE_20240315200128: epoch=32 step=320000\u001b[0m \u001b[36mepoch\u001b[0m=\u001b[35m32\u001b[0m \u001b[36mmetrics\u001b[0m=\u001b[35m{'time_sample_batch': 0.0033349279165267942, 'time_algorithm_update': 0.0023923810243606566, 'loss': 3.363966982114315, 'time_step': 0.0058048282384872436, 'init_value': -174.6971893310547, 'soft_opc': -0.14988984449027498}\u001b[0m \u001b[36mstep\u001b[0m=\u001b[35m320000\u001b[0m\n",
      "\u001b[2m2024-03-16 18:07.00\u001b[0m [\u001b[32m\u001b[1minfo     \u001b[0m] \u001b[1mModel parameters are saved to d3rlpy_logs/DiscreteFQE_20240315200128/model_320000.d3\u001b[0m\n"
     ]
    },
    {
     "data": {
      "application/vnd.jupyter.widget-view+json": {
       "model_id": "09e816f5faaa4780aad66af202bff52e",
       "version_major": 2,
       "version_minor": 0
      },
      "text/plain": [
       "Epoch 33/100:   0%|          | 0/10000 [00:00<?, ?it/s]"
      ]
     },
     "metadata": {},
     "output_type": "display_data"
    },
    {
     "name": "stdout",
     "output_type": "stream",
     "text": [
      "\u001b[2m2024-03-16 18:48.28\u001b[0m [\u001b[32m\u001b[1minfo     \u001b[0m] \u001b[1mDiscreteFQE_20240315200128: epoch=33 step=330000\u001b[0m \u001b[36mepoch\u001b[0m=\u001b[35m33\u001b[0m \u001b[36mmetrics\u001b[0m=\u001b[35m{'time_sample_batch': 0.003395093822479248, 'time_algorithm_update': 0.0024439860582351684, 'loss': 3.2974128490448, 'time_step': 0.005918482112884521, 'init_value': -171.87936401367188, 'soft_opc': -1.984118790900169}\u001b[0m \u001b[36mstep\u001b[0m=\u001b[35m330000\u001b[0m\n",
      "\u001b[2m2024-03-16 18:48.28\u001b[0m [\u001b[32m\u001b[1minfo     \u001b[0m] \u001b[1mModel parameters are saved to d3rlpy_logs/DiscreteFQE_20240315200128/model_330000.d3\u001b[0m\n"
     ]
    },
    {
     "data": {
      "application/vnd.jupyter.widget-view+json": {
       "model_id": "40748161afa542a4aed6cd759837d58c",
       "version_major": 2,
       "version_minor": 0
      },
      "text/plain": [
       "Epoch 34/100:   0%|          | 0/10000 [00:00<?, ?it/s]"
      ]
     },
     "metadata": {},
     "output_type": "display_data"
    },
    {
     "name": "stdout",
     "output_type": "stream",
     "text": [
      "\u001b[2m2024-03-16 19:30.03\u001b[0m [\u001b[32m\u001b[1minfo     \u001b[0m] \u001b[1mDiscreteFQE_20240315200128: epoch=34 step=340000\u001b[0m \u001b[36mepoch\u001b[0m=\u001b[35m34\u001b[0m \u001b[36mmetrics\u001b[0m=\u001b[35m{'time_sample_batch': 0.003377298378944397, 'time_algorithm_update': 0.0023927945137023924, 'loss': 3.4272664501070977, 'time_step': 0.00584744553565979, 'init_value': -160.10276794433594, 'soft_opc': 0.853280051509671}\u001b[0m \u001b[36mstep\u001b[0m=\u001b[35m340000\u001b[0m\n",
      "\u001b[2m2024-03-16 19:30.03\u001b[0m [\u001b[32m\u001b[1minfo     \u001b[0m] \u001b[1mModel parameters are saved to d3rlpy_logs/DiscreteFQE_20240315200128/model_340000.d3\u001b[0m\n"
     ]
    },
    {
     "data": {
      "application/vnd.jupyter.widget-view+json": {
       "model_id": "87cfa4f9994240da8c0a7daedb3dc002",
       "version_major": 2,
       "version_minor": 0
      },
      "text/plain": [
       "Epoch 35/100:   0%|          | 0/10000 [00:00<?, ?it/s]"
      ]
     },
     "metadata": {},
     "output_type": "display_data"
    },
    {
     "name": "stdout",
     "output_type": "stream",
     "text": [
      "\u001b[2m2024-03-16 20:11.24\u001b[0m [\u001b[32m\u001b[1minfo     \u001b[0m] \u001b[1mDiscreteFQE_20240315200128: epoch=35 step=350000\u001b[0m \u001b[36mepoch\u001b[0m=\u001b[35m35\u001b[0m \u001b[36mmetrics\u001b[0m=\u001b[35m{'time_sample_batch': 0.0033832905530929566, 'time_algorithm_update': 0.002432651662826538, 'loss': 3.4603195749998092, 'time_step': 0.0058948894739151, 'init_value': -164.77952575683594, 'soft_opc': 2.8250933193564833}\u001b[0m \u001b[36mstep\u001b[0m=\u001b[35m350000\u001b[0m\n",
      "\u001b[2m2024-03-16 20:11.24\u001b[0m [\u001b[32m\u001b[1minfo     \u001b[0m] \u001b[1mModel parameters are saved to d3rlpy_logs/DiscreteFQE_20240315200128/model_350000.d3\u001b[0m\n"
     ]
    },
    {
     "data": {
      "application/vnd.jupyter.widget-view+json": {
       "model_id": "3dd65f4946af461bb444841191917317",
       "version_major": 2,
       "version_minor": 0
      },
      "text/plain": [
       "Epoch 36/100:   0%|          | 0/10000 [00:00<?, ?it/s]"
      ]
     },
     "metadata": {},
     "output_type": "display_data"
    },
    {
     "name": "stdout",
     "output_type": "stream",
     "text": [
      "\u001b[2m2024-03-16 20:53.05\u001b[0m [\u001b[32m\u001b[1minfo     \u001b[0m] \u001b[1mDiscreteFQE_20240315200128: epoch=36 step=360000\u001b[0m \u001b[36mepoch\u001b[0m=\u001b[35m36\u001b[0m \u001b[36mmetrics\u001b[0m=\u001b[35m{'time_sample_batch': 0.003355557560920715, 'time_algorithm_update': 0.002401793169975281, 'loss': 3.368630289512873, 'time_step': 0.005835967659950256, 'init_value': -168.09085083007812, 'soft_opc': 3.0099501692025967}\u001b[0m \u001b[36mstep\u001b[0m=\u001b[35m360000\u001b[0m\n",
      "\u001b[2m2024-03-16 20:53.05\u001b[0m [\u001b[32m\u001b[1minfo     \u001b[0m] \u001b[1mModel parameters are saved to d3rlpy_logs/DiscreteFQE_20240315200128/model_360000.d3\u001b[0m\n"
     ]
    },
    {
     "data": {
      "application/vnd.jupyter.widget-view+json": {
       "model_id": "18eeae231a1e4aeebc89224309180de5",
       "version_major": 2,
       "version_minor": 0
      },
      "text/plain": [
       "Epoch 37/100:   0%|          | 0/10000 [00:00<?, ?it/s]"
      ]
     },
     "metadata": {},
     "output_type": "display_data"
    },
    {
     "name": "stdout",
     "output_type": "stream",
     "text": [
      "\u001b[2m2024-03-16 21:34.26\u001b[0m [\u001b[32m\u001b[1minfo     \u001b[0m] \u001b[1mDiscreteFQE_20240315200128: epoch=37 step=370000\u001b[0m \u001b[36mepoch\u001b[0m=\u001b[35m37\u001b[0m \u001b[36mmetrics\u001b[0m=\u001b[35m{'time_sample_batch': 0.0033466962337493898, 'time_algorithm_update': 0.0023859444618225096, 'loss': 3.5110375106573106, 'time_step': 0.005809589481353759, 'init_value': -168.9925994873047, 'soft_opc': 2.3163152407164773}\u001b[0m \u001b[36mstep\u001b[0m=\u001b[35m370000\u001b[0m\n",
      "\u001b[2m2024-03-16 21:34.26\u001b[0m [\u001b[32m\u001b[1minfo     \u001b[0m] \u001b[1mModel parameters are saved to d3rlpy_logs/DiscreteFQE_20240315200128/model_370000.d3\u001b[0m\n"
     ]
    },
    {
     "data": {
      "application/vnd.jupyter.widget-view+json": {
       "model_id": "202c3def55454f28a32491ef42acb047",
       "version_major": 2,
       "version_minor": 0
      },
      "text/plain": [
       "Epoch 38/100:   0%|          | 0/10000 [00:00<?, ?it/s]"
      ]
     },
     "metadata": {},
     "output_type": "display_data"
    },
    {
     "name": "stdout",
     "output_type": "stream",
     "text": [
      "\u001b[2m2024-03-16 22:16.03\u001b[0m [\u001b[32m\u001b[1minfo     \u001b[0m] \u001b[1mDiscreteFQE_20240315200128: epoch=38 step=380000\u001b[0m \u001b[36mepoch\u001b[0m=\u001b[35m38\u001b[0m \u001b[36mmetrics\u001b[0m=\u001b[35m{'time_sample_batch': 0.003361301612854004, 'time_algorithm_update': 0.0024192106246948243, 'loss': 3.558044799351692, 'time_step': 0.005857291531562805, 'init_value': -177.93003845214844, 'soft_opc': 2.9031546022251575}\u001b[0m \u001b[36mstep\u001b[0m=\u001b[35m380000\u001b[0m\n",
      "\u001b[2m2024-03-16 22:16.03\u001b[0m [\u001b[32m\u001b[1minfo     \u001b[0m] \u001b[1mModel parameters are saved to d3rlpy_logs/DiscreteFQE_20240315200128/model_380000.d3\u001b[0m\n"
     ]
    },
    {
     "data": {
      "application/vnd.jupyter.widget-view+json": {
       "model_id": "1d4ec619a613482386c0110a5d6b7afd",
       "version_major": 2,
       "version_minor": 0
      },
      "text/plain": [
       "Epoch 39/100:   0%|          | 0/10000 [00:00<?, ?it/s]"
      ]
     },
     "metadata": {},
     "output_type": "display_data"
    },
    {
     "name": "stdout",
     "output_type": "stream",
     "text": [
      "\u001b[2m2024-03-16 22:57.30\u001b[0m [\u001b[32m\u001b[1minfo     \u001b[0m] \u001b[1mDiscreteFQE_20240315200128: epoch=39 step=390000\u001b[0m \u001b[36mepoch\u001b[0m=\u001b[35m39\u001b[0m \u001b[36mmetrics\u001b[0m=\u001b[35m{'time_sample_batch': 0.0033491885900497438, 'time_algorithm_update': 0.002392900228500366, 'loss': 3.3947358480095864, 'time_step': 0.005821514058113098, 'init_value': -177.68223571777344, 'soft_opc': 4.1148786294117485}\u001b[0m \u001b[36mstep\u001b[0m=\u001b[35m390000\u001b[0m\n",
      "\u001b[2m2024-03-16 22:57.30\u001b[0m [\u001b[32m\u001b[1minfo     \u001b[0m] \u001b[1mModel parameters are saved to d3rlpy_logs/DiscreteFQE_20240315200128/model_390000.d3\u001b[0m\n"
     ]
    },
    {
     "data": {
      "application/vnd.jupyter.widget-view+json": {
       "model_id": "a1b47654be03404787783c0165b9421c",
       "version_major": 2,
       "version_minor": 0
      },
      "text/plain": [
       "Epoch 40/100:   0%|          | 0/10000 [00:00<?, ?it/s]"
      ]
     },
     "metadata": {},
     "output_type": "display_data"
    },
    {
     "name": "stdout",
     "output_type": "stream",
     "text": [
      "\u001b[2m2024-03-16 23:38.48\u001b[0m [\u001b[32m\u001b[1minfo     \u001b[0m] \u001b[1mDiscreteFQE_20240315200128: epoch=40 step=400000\u001b[0m \u001b[36mepoch\u001b[0m=\u001b[35m40\u001b[0m \u001b[36mmetrics\u001b[0m=\u001b[35m{'time_sample_batch': 0.003371020317077637, 'time_algorithm_update': 0.0023984557390213015, 'loss': 3.7904721821546556, 'time_step': 0.0058477675199508665, 'init_value': -184.7725372314453, 'soft_opc': 0.5673276868750463}\u001b[0m \u001b[36mstep\u001b[0m=\u001b[35m400000\u001b[0m\n",
      "\u001b[2m2024-03-16 23:38.48\u001b[0m [\u001b[32m\u001b[1minfo     \u001b[0m] \u001b[1mModel parameters are saved to d3rlpy_logs/DiscreteFQE_20240315200128/model_400000.d3\u001b[0m\n"
     ]
    },
    {
     "data": {
      "application/vnd.jupyter.widget-view+json": {
       "model_id": "1196dec3fe7d43629b361e7aed809246",
       "version_major": 2,
       "version_minor": 0
      },
      "text/plain": [
       "Epoch 41/100:   0%|          | 0/10000 [00:00<?, ?it/s]"
      ]
     },
     "metadata": {},
     "output_type": "display_data"
    },
    {
     "name": "stdout",
     "output_type": "stream",
     "text": [
      "\u001b[2m2024-03-17 00:20.22\u001b[0m [\u001b[32m\u001b[1minfo     \u001b[0m] \u001b[1mDiscreteFQE_20240315200128: epoch=41 step=410000\u001b[0m \u001b[36mepoch\u001b[0m=\u001b[35m41\u001b[0m \u001b[36mmetrics\u001b[0m=\u001b[35m{'time_sample_batch': 0.0033917417526245115, 'time_algorithm_update': 0.0024339027404785157, 'loss': 4.04244817738533, 'time_step': 0.005905530524253845, 'init_value': -183.16444396972656, 'soft_opc': -0.9464706401025182}\u001b[0m \u001b[36mstep\u001b[0m=\u001b[35m410000\u001b[0m\n",
      "\u001b[2m2024-03-17 00:20.22\u001b[0m [\u001b[32m\u001b[1minfo     \u001b[0m] \u001b[1mModel parameters are saved to d3rlpy_logs/DiscreteFQE_20240315200128/model_410000.d3\u001b[0m\n"
     ]
    },
    {
     "data": {
      "application/vnd.jupyter.widget-view+json": {
       "model_id": "034ae91b2eb14203b713c76abe764da8",
       "version_major": 2,
       "version_minor": 0
      },
      "text/plain": [
       "Epoch 42/100:   0%|          | 0/10000 [00:00<?, ?it/s]"
      ]
     },
     "metadata": {},
     "output_type": "display_data"
    },
    {
     "name": "stdout",
     "output_type": "stream",
     "text": [
      "\u001b[2m2024-03-17 01:01.51\u001b[0m [\u001b[32m\u001b[1minfo     \u001b[0m] \u001b[1mDiscreteFQE_20240315200128: epoch=42 step=420000\u001b[0m \u001b[36mepoch\u001b[0m=\u001b[35m42\u001b[0m \u001b[36mmetrics\u001b[0m=\u001b[35m{'time_sample_batch': 0.0034034305572509765, 'time_algorithm_update': 0.0024495962381362916, 'loss': 4.255307114923, 'time_step': 0.00593481969833374, 'init_value': -186.20623779296875, 'soft_opc': 0.4705277252339499}\u001b[0m \u001b[36mstep\u001b[0m=\u001b[35m420000\u001b[0m\n",
      "\u001b[2m2024-03-17 01:01.51\u001b[0m [\u001b[32m\u001b[1minfo     \u001b[0m] \u001b[1mModel parameters are saved to d3rlpy_logs/DiscreteFQE_20240315200128/model_420000.d3\u001b[0m\n"
     ]
    },
    {
     "data": {
      "application/vnd.jupyter.widget-view+json": {
       "model_id": "f414070bfcc440beb11a5abd40da43a4",
       "version_major": 2,
       "version_minor": 0
      },
      "text/plain": [
       "Epoch 43/100:   0%|          | 0/10000 [00:00<?, ?it/s]"
      ]
     },
     "metadata": {},
     "output_type": "display_data"
    },
    {
     "name": "stdout",
     "output_type": "stream",
     "text": [
      "\u001b[2m2024-03-17 01:43.09\u001b[0m [\u001b[32m\u001b[1minfo     \u001b[0m] \u001b[1mDiscreteFQE_20240315200128: epoch=43 step=430000\u001b[0m \u001b[36mepoch\u001b[0m=\u001b[35m43\u001b[0m \u001b[36mmetrics\u001b[0m=\u001b[35m{'time_sample_batch': 0.0033771295547485353, 'time_algorithm_update': 0.0024288432598114015, 'loss': 4.17147192299366, 'time_step': 0.005884166240692139, 'init_value': -184.807861328125, 'soft_opc': 1.7317575463841592}\u001b[0m \u001b[36mstep\u001b[0m=\u001b[35m430000\u001b[0m\n",
      "\u001b[2m2024-03-17 01:43.09\u001b[0m [\u001b[32m\u001b[1minfo     \u001b[0m] \u001b[1mModel parameters are saved to d3rlpy_logs/DiscreteFQE_20240315200128/model_430000.d3\u001b[0m\n"
     ]
    },
    {
     "data": {
      "application/vnd.jupyter.widget-view+json": {
       "model_id": "86b1d55bc60f401f9d8a18d9c677958f",
       "version_major": 2,
       "version_minor": 0
      },
      "text/plain": [
       "Epoch 44/100:   0%|          | 0/10000 [00:00<?, ?it/s]"
      ]
     },
     "metadata": {},
     "output_type": "display_data"
    },
    {
     "name": "stdout",
     "output_type": "stream",
     "text": [
      "\u001b[2m2024-03-17 02:24.32\u001b[0m [\u001b[32m\u001b[1minfo     \u001b[0m] \u001b[1mDiscreteFQE_20240315200128: epoch=44 step=440000\u001b[0m \u001b[36mepoch\u001b[0m=\u001b[35m44\u001b[0m \u001b[36mmetrics\u001b[0m=\u001b[35m{'time_sample_batch': 0.0034146882057189943, 'time_algorithm_update': 0.0024650646924972534, 'loss': 4.166382351160049, 'time_step': 0.005960524415969849, 'init_value': -179.56442260742188, 'soft_opc': 0.7922924508536937}\u001b[0m \u001b[36mstep\u001b[0m=\u001b[35m440000\u001b[0m\n",
      "\u001b[2m2024-03-17 02:24.32\u001b[0m [\u001b[32m\u001b[1minfo     \u001b[0m] \u001b[1mModel parameters are saved to d3rlpy_logs/DiscreteFQE_20240315200128/model_440000.d3\u001b[0m\n"
     ]
    },
    {
     "data": {
      "application/vnd.jupyter.widget-view+json": {
       "model_id": "fd00f43c5c2349c3ac701725c148f0cc",
       "version_major": 2,
       "version_minor": 0
      },
      "text/plain": [
       "Epoch 45/100:   0%|          | 0/10000 [00:00<?, ?it/s]"
      ]
     },
     "metadata": {},
     "output_type": "display_data"
    },
    {
     "name": "stdout",
     "output_type": "stream",
     "text": [
      "\u001b[2m2024-03-17 03:06.03\u001b[0m [\u001b[32m\u001b[1minfo     \u001b[0m] \u001b[1mDiscreteFQE_20240315200128: epoch=45 step=450000\u001b[0m \u001b[36mepoch\u001b[0m=\u001b[35m45\u001b[0m \u001b[36mmetrics\u001b[0m=\u001b[35m{'time_sample_batch': 0.003387846302986145, 'time_algorithm_update': 0.0024762829065322874, 'loss': 3.7794214344501493, 'time_step': 0.005947139573097229, 'init_value': -167.29627990722656, 'soft_opc': 4.1352415137347975}\u001b[0m \u001b[36mstep\u001b[0m=\u001b[35m450000\u001b[0m\n",
      "\u001b[2m2024-03-17 03:06.03\u001b[0m [\u001b[32m\u001b[1minfo     \u001b[0m] \u001b[1mModel parameters are saved to d3rlpy_logs/DiscreteFQE_20240315200128/model_450000.d3\u001b[0m\n"
     ]
    },
    {
     "data": {
      "application/vnd.jupyter.widget-view+json": {
       "model_id": "d90587c46f7d43da93dc399560f46454",
       "version_major": 2,
       "version_minor": 0
      },
      "text/plain": [
       "Epoch 46/100:   0%|          | 0/10000 [00:00<?, ?it/s]"
      ]
     },
     "metadata": {},
     "output_type": "display_data"
    },
    {
     "name": "stdout",
     "output_type": "stream",
     "text": [
      "\u001b[2m2024-03-17 03:47.34\u001b[0m [\u001b[32m\u001b[1minfo     \u001b[0m] \u001b[1mDiscreteFQE_20240315200128: epoch=46 step=460000\u001b[0m \u001b[36mepoch\u001b[0m=\u001b[35m46\u001b[0m \u001b[36mmetrics\u001b[0m=\u001b[35m{'time_sample_batch': 0.0033890796422958373, 'time_algorithm_update': 0.0024550800561904907, 'loss': 3.686350282609463, 'time_step': 0.005920797610282898, 'init_value': -173.47216796875, 'soft_opc': -0.46302052676060157}\u001b[0m \u001b[36mstep\u001b[0m=\u001b[35m460000\u001b[0m\n",
      "\u001b[2m2024-03-17 03:47.34\u001b[0m [\u001b[32m\u001b[1minfo     \u001b[0m] \u001b[1mModel parameters are saved to d3rlpy_logs/DiscreteFQE_20240315200128/model_460000.d3\u001b[0m\n"
     ]
    },
    {
     "data": {
      "application/vnd.jupyter.widget-view+json": {
       "model_id": "91616a55296b41a181cca635d7c5eee4",
       "version_major": 2,
       "version_minor": 0
      },
      "text/plain": [
       "Epoch 47/100:   0%|          | 0/10000 [00:00<?, ?it/s]"
      ]
     },
     "metadata": {},
     "output_type": "display_data"
    },
    {
     "name": "stdout",
     "output_type": "stream",
     "text": [
      "\u001b[2m2024-03-17 04:29.04\u001b[0m [\u001b[32m\u001b[1minfo     \u001b[0m] \u001b[1mDiscreteFQE_20240315200128: epoch=47 step=470000\u001b[0m \u001b[36mepoch\u001b[0m=\u001b[35m47\u001b[0m \u001b[36mmetrics\u001b[0m=\u001b[35m{'time_sample_batch': 0.00341396906375885, 'time_algorithm_update': 0.002434194326400757, 'loss': 4.160402981710434, 'time_step': 0.005923544239997864, 'init_value': -183.72264099121094, 'soft_opc': -1.035355396857085}\u001b[0m \u001b[36mstep\u001b[0m=\u001b[35m470000\u001b[0m\n",
      "\u001b[2m2024-03-17 04:29.04\u001b[0m [\u001b[32m\u001b[1minfo     \u001b[0m] \u001b[1mModel parameters are saved to d3rlpy_logs/DiscreteFQE_20240315200128/model_470000.d3\u001b[0m\n"
     ]
    },
    {
     "data": {
      "application/vnd.jupyter.widget-view+json": {
       "model_id": "4e4a60fbccb045e6adbcfa751b7866a2",
       "version_major": 2,
       "version_minor": 0
      },
      "text/plain": [
       "Epoch 48/100:   0%|          | 0/10000 [00:00<?, ?it/s]"
      ]
     },
     "metadata": {},
     "output_type": "display_data"
    },
    {
     "name": "stdout",
     "output_type": "stream",
     "text": [
      "\u001b[2m2024-03-17 05:10.36\u001b[0m [\u001b[32m\u001b[1minfo     \u001b[0m] \u001b[1mDiscreteFQE_20240315200128: epoch=48 step=480000\u001b[0m \u001b[36mepoch\u001b[0m=\u001b[35m48\u001b[0m \u001b[36mmetrics\u001b[0m=\u001b[35m{'time_sample_batch': 0.0033458339214324953, 'time_algorithm_update': 0.002389898133277893, 'loss': 4.150872431433201, 'time_step': 0.005812398052215576, 'init_value': -178.65719604492188, 'soft_opc': -1.539936811488559}\u001b[0m \u001b[36mstep\u001b[0m=\u001b[35m480000\u001b[0m\n",
      "\u001b[2m2024-03-17 05:10.36\u001b[0m [\u001b[32m\u001b[1minfo     \u001b[0m] \u001b[1mModel parameters are saved to d3rlpy_logs/DiscreteFQE_20240315200128/model_480000.d3\u001b[0m\n"
     ]
    },
    {
     "data": {
      "application/vnd.jupyter.widget-view+json": {
       "model_id": "8c12d2392d584606851f8f15e3d2dbda",
       "version_major": 2,
       "version_minor": 0
      },
      "text/plain": [
       "Epoch 49/100:   0%|          | 0/10000 [00:00<?, ?it/s]"
      ]
     },
     "metadata": {},
     "output_type": "display_data"
    },
    {
     "name": "stdout",
     "output_type": "stream",
     "text": [
      "\u001b[2m2024-03-17 05:52.15\u001b[0m [\u001b[32m\u001b[1minfo     \u001b[0m] \u001b[1mDiscreteFQE_20240315200128: epoch=49 step=490000\u001b[0m \u001b[36mepoch\u001b[0m=\u001b[35m49\u001b[0m \u001b[36mmetrics\u001b[0m=\u001b[35m{'time_sample_batch': 0.0033523411989212037, 'time_algorithm_update': 0.002423327445983887, 'loss': 4.188491928708554, 'time_step': 0.005851590895652771, 'init_value': -175.06781005859375, 'soft_opc': 0.4513610593500914}\u001b[0m \u001b[36mstep\u001b[0m=\u001b[35m490000\u001b[0m\n",
      "\u001b[2m2024-03-17 05:52.15\u001b[0m [\u001b[32m\u001b[1minfo     \u001b[0m] \u001b[1mModel parameters are saved to d3rlpy_logs/DiscreteFQE_20240315200128/model_490000.d3\u001b[0m\n"
     ]
    },
    {
     "data": {
      "application/vnd.jupyter.widget-view+json": {
       "model_id": "efe2bd23ca6f4f19bbd9a3cd0e252b59",
       "version_major": 2,
       "version_minor": 0
      },
      "text/plain": [
       "Epoch 50/100:   0%|          | 0/10000 [00:00<?, ?it/s]"
      ]
     },
     "metadata": {},
     "output_type": "display_data"
    },
    {
     "name": "stdout",
     "output_type": "stream",
     "text": [
      "\u001b[2m2024-03-17 06:33.38\u001b[0m [\u001b[32m\u001b[1minfo     \u001b[0m] \u001b[1mDiscreteFQE_20240315200128: epoch=50 step=500000\u001b[0m \u001b[36mepoch\u001b[0m=\u001b[35m50\u001b[0m \u001b[36mmetrics\u001b[0m=\u001b[35m{'time_sample_batch': 0.0033498985052108766, 'time_algorithm_update': 0.0024056792974472044, 'loss': 4.018530949854851, 'time_step': 0.005834696555137634, 'init_value': -173.6131591796875, 'soft_opc': -2.556633930730925}\u001b[0m \u001b[36mstep\u001b[0m=\u001b[35m500000\u001b[0m\n",
      "\u001b[2m2024-03-17 06:33.38\u001b[0m [\u001b[32m\u001b[1minfo     \u001b[0m] \u001b[1mModel parameters are saved to d3rlpy_logs/DiscreteFQE_20240315200128/model_500000.d3\u001b[0m\n"
     ]
    },
    {
     "data": {
      "application/vnd.jupyter.widget-view+json": {
       "model_id": "7c668f81122847d8a0eeed6be782de95",
       "version_major": 2,
       "version_minor": 0
      },
      "text/plain": [
       "Epoch 51/100:   0%|          | 0/10000 [00:00<?, ?it/s]"
      ]
     },
     "metadata": {},
     "output_type": "display_data"
    },
    {
     "name": "stdout",
     "output_type": "stream",
     "text": [
      "\u001b[2m2024-03-17 07:15.03\u001b[0m [\u001b[32m\u001b[1minfo     \u001b[0m] \u001b[1mDiscreteFQE_20240315200128: epoch=51 step=510000\u001b[0m \u001b[36mepoch\u001b[0m=\u001b[35m51\u001b[0m \u001b[36mmetrics\u001b[0m=\u001b[35m{'time_sample_batch': 0.003349005436897278, 'time_algorithm_update': 0.002407644605636597, 'loss': 3.8919729254841804, 'time_step': 0.0058251540660858156, 'init_value': -189.638427734375, 'soft_opc': -6.000339392885252}\u001b[0m \u001b[36mstep\u001b[0m=\u001b[35m510000\u001b[0m\n",
      "\u001b[2m2024-03-17 07:15.03\u001b[0m [\u001b[32m\u001b[1minfo     \u001b[0m] \u001b[1mModel parameters are saved to d3rlpy_logs/DiscreteFQE_20240315200128/model_510000.d3\u001b[0m\n"
     ]
    },
    {
     "data": {
      "application/vnd.jupyter.widget-view+json": {
       "model_id": "12534375c84c40f698a4346d776ef66c",
       "version_major": 2,
       "version_minor": 0
      },
      "text/plain": [
       "Epoch 52/100:   0%|          | 0/10000 [00:00<?, ?it/s]"
      ]
     },
     "metadata": {},
     "output_type": "display_data"
    },
    {
     "name": "stdout",
     "output_type": "stream",
     "text": [
      "\u001b[2m2024-03-17 07:56.43\u001b[0m [\u001b[32m\u001b[1minfo     \u001b[0m] \u001b[1mDiscreteFQE_20240315200128: epoch=52 step=520000\u001b[0m \u001b[36mepoch\u001b[0m=\u001b[35m52\u001b[0m \u001b[36mmetrics\u001b[0m=\u001b[35m{'time_sample_batch': 0.003355144190788269, 'time_algorithm_update': 0.002422416090965271, 'loss': 3.9638527251839637, 'time_step': 0.00585565071105957, 'init_value': -177.89031982421875, 'soft_opc': -0.5948491393659765}\u001b[0m \u001b[36mstep\u001b[0m=\u001b[35m520000\u001b[0m\n",
      "\u001b[2m2024-03-17 07:56.43\u001b[0m [\u001b[32m\u001b[1minfo     \u001b[0m] \u001b[1mModel parameters are saved to d3rlpy_logs/DiscreteFQE_20240315200128/model_520000.d3\u001b[0m\n"
     ]
    },
    {
     "data": {
      "application/vnd.jupyter.widget-view+json": {
       "model_id": "b46c8a6e179d4fc097c052a615bb6ea0",
       "version_major": 2,
       "version_minor": 0
      },
      "text/plain": [
       "Epoch 53/100:   0%|          | 0/10000 [00:00<?, ?it/s]"
      ]
     },
     "metadata": {},
     "output_type": "display_data"
    },
    {
     "name": "stdout",
     "output_type": "stream",
     "text": [
      "\u001b[2m2024-03-17 08:38.20\u001b[0m [\u001b[32m\u001b[1minfo     \u001b[0m] \u001b[1mDiscreteFQE_20240315200128: epoch=53 step=530000\u001b[0m \u001b[36mepoch\u001b[0m=\u001b[35m53\u001b[0m \u001b[36mmetrics\u001b[0m=\u001b[35m{'time_sample_batch': 0.003372226071357727, 'time_algorithm_update': 0.002401452136039734, 'loss': 3.8330154702544212, 'time_step': 0.0058476167917251584, 'init_value': -174.32363891601562, 'soft_opc': -5.541421731177877}\u001b[0m \u001b[36mstep\u001b[0m=\u001b[35m530000\u001b[0m\n",
      "\u001b[2m2024-03-17 08:38.20\u001b[0m [\u001b[32m\u001b[1minfo     \u001b[0m] \u001b[1mModel parameters are saved to d3rlpy_logs/DiscreteFQE_20240315200128/model_530000.d3\u001b[0m\n"
     ]
    },
    {
     "data": {
      "application/vnd.jupyter.widget-view+json": {
       "model_id": "d635155a661645fb9026ec1d315fa68c",
       "version_major": 2,
       "version_minor": 0
      },
      "text/plain": [
       "Epoch 54/100:   0%|          | 0/10000 [00:00<?, ?it/s]"
      ]
     },
     "metadata": {},
     "output_type": "display_data"
    },
    {
     "name": "stdout",
     "output_type": "stream",
     "text": [
      "\u001b[2m2024-03-17 09:19.52\u001b[0m [\u001b[32m\u001b[1minfo     \u001b[0m] \u001b[1mDiscreteFQE_20240315200128: epoch=54 step=540000\u001b[0m \u001b[36mepoch\u001b[0m=\u001b[35m54\u001b[0m \u001b[36mmetrics\u001b[0m=\u001b[35m{'time_sample_batch': 0.0033464930057525637, 'time_algorithm_update': 0.0024271712064743043, 'loss': 3.796026766514778, 'time_step': 0.005852331185340881, 'init_value': -170.60693359375, 'soft_opc': -6.991295510322402}\u001b[0m \u001b[36mstep\u001b[0m=\u001b[35m540000\u001b[0m\n",
      "\u001b[2m2024-03-17 09:19.52\u001b[0m [\u001b[32m\u001b[1minfo     \u001b[0m] \u001b[1mModel parameters are saved to d3rlpy_logs/DiscreteFQE_20240315200128/model_540000.d3\u001b[0m\n"
     ]
    },
    {
     "data": {
      "application/vnd.jupyter.widget-view+json": {
       "model_id": "4faab183ec624b8eae2b994707b742ca",
       "version_major": 2,
       "version_minor": 0
      },
      "text/plain": [
       "Epoch 55/100:   0%|          | 0/10000 [00:00<?, ?it/s]"
      ]
     },
     "metadata": {},
     "output_type": "display_data"
    },
    {
     "name": "stdout",
     "output_type": "stream",
     "text": [
      "\u001b[2m2024-03-17 10:01.21\u001b[0m [\u001b[32m\u001b[1minfo     \u001b[0m] \u001b[1mDiscreteFQE_20240315200128: epoch=55 step=550000\u001b[0m \u001b[36mepoch\u001b[0m=\u001b[35m55\u001b[0m \u001b[36mmetrics\u001b[0m=\u001b[35m{'time_sample_batch': 0.003357177472114563, 'time_algorithm_update': 0.0024000633478164675, 'loss': 3.854975585615635, 'time_step': 0.00583525013923645, 'init_value': -177.447265625, 'soft_opc': -5.518467705578075}\u001b[0m \u001b[36mstep\u001b[0m=\u001b[35m550000\u001b[0m\n",
      "\u001b[2m2024-03-17 10:01.22\u001b[0m [\u001b[32m\u001b[1minfo     \u001b[0m] \u001b[1mModel parameters are saved to d3rlpy_logs/DiscreteFQE_20240315200128/model_550000.d3\u001b[0m\n"
     ]
    },
    {
     "data": {
      "application/vnd.jupyter.widget-view+json": {
       "model_id": "9a8ee64f6176407083b4499ef0d9d421",
       "version_major": 2,
       "version_minor": 0
      },
      "text/plain": [
       "Epoch 56/100:   0%|          | 0/10000 [00:00<?, ?it/s]"
      ]
     },
     "metadata": {},
     "output_type": "display_data"
    },
    {
     "name": "stdout",
     "output_type": "stream",
     "text": [
      "\u001b[2m2024-03-17 10:42.53\u001b[0m [\u001b[32m\u001b[1minfo     \u001b[0m] \u001b[1mDiscreteFQE_20240315200128: epoch=56 step=560000\u001b[0m \u001b[36mepoch\u001b[0m=\u001b[35m56\u001b[0m \u001b[36mmetrics\u001b[0m=\u001b[35m{'time_sample_batch': 0.0034103710651397705, 'time_algorithm_update': 0.0024276169300079344, 'loss': 4.105951755142212, 'time_step': 0.005913022327423096, 'init_value': -181.81622314453125, 'soft_opc': -4.00292006559269}\u001b[0m \u001b[36mstep\u001b[0m=\u001b[35m560000\u001b[0m\n",
      "\u001b[2m2024-03-17 10:42.53\u001b[0m [\u001b[32m\u001b[1minfo     \u001b[0m] \u001b[1mModel parameters are saved to d3rlpy_logs/DiscreteFQE_20240315200128/model_560000.d3\u001b[0m\n"
     ]
    },
    {
     "data": {
      "application/vnd.jupyter.widget-view+json": {
       "model_id": "93c316c7d9d74fffb71bead5354c4073",
       "version_major": 2,
       "version_minor": 0
      },
      "text/plain": [
       "Epoch 57/100:   0%|          | 0/10000 [00:00<?, ?it/s]"
      ]
     },
     "metadata": {},
     "output_type": "display_data"
    },
    {
     "name": "stdout",
     "output_type": "stream",
     "text": [
      "\u001b[2m2024-03-17 11:24.13\u001b[0m [\u001b[32m\u001b[1minfo     \u001b[0m] \u001b[1mDiscreteFQE_20240315200128: epoch=57 step=570000\u001b[0m \u001b[36mepoch\u001b[0m=\u001b[35m57\u001b[0m \u001b[36mmetrics\u001b[0m=\u001b[35m{'time_sample_batch': 0.003395304536819458, 'time_algorithm_update': 0.0024388696432113646, 'loss': 4.298467681252957, 'time_step': 0.005909958744049072, 'init_value': -187.29299926757812, 'soft_opc': -0.9830592221641155}\u001b[0m \u001b[36mstep\u001b[0m=\u001b[35m570000\u001b[0m\n",
      "\u001b[2m2024-03-17 11:24.13\u001b[0m [\u001b[32m\u001b[1minfo     \u001b[0m] \u001b[1mModel parameters are saved to d3rlpy_logs/DiscreteFQE_20240315200128/model_570000.d3\u001b[0m\n"
     ]
    },
    {
     "data": {
      "application/vnd.jupyter.widget-view+json": {
       "model_id": "dd3b9ac7457d49bdbda944b26dd23435",
       "version_major": 2,
       "version_minor": 0
      },
      "text/plain": [
       "Epoch 58/100:   0%|          | 0/10000 [00:00<?, ?it/s]"
      ]
     },
     "metadata": {},
     "output_type": "display_data"
    },
    {
     "name": "stdout",
     "output_type": "stream",
     "text": [
      "\u001b[2m2024-03-17 12:05.42\u001b[0m [\u001b[32m\u001b[1minfo     \u001b[0m] \u001b[1mDiscreteFQE_20240315200128: epoch=58 step=580000\u001b[0m \u001b[36mepoch\u001b[0m=\u001b[35m58\u001b[0m \u001b[36mmetrics\u001b[0m=\u001b[35m{'time_sample_batch': 0.003382846665382385, 'time_algorithm_update': 0.0024062942504882814, 'loss': 4.40665651717186, 'time_step': 0.005865260457992553, 'init_value': -197.35084533691406, 'soft_opc': -0.9896671773737467}\u001b[0m \u001b[36mstep\u001b[0m=\u001b[35m580000\u001b[0m\n",
      "\u001b[2m2024-03-17 12:05.42\u001b[0m [\u001b[32m\u001b[1minfo     \u001b[0m] \u001b[1mModel parameters are saved to d3rlpy_logs/DiscreteFQE_20240315200128/model_580000.d3\u001b[0m\n"
     ]
    },
    {
     "data": {
      "application/vnd.jupyter.widget-view+json": {
       "model_id": "af338160ebf249119ed9a057efc182d6",
       "version_major": 2,
       "version_minor": 0
      },
      "text/plain": [
       "Epoch 59/100:   0%|          | 0/10000 [00:00<?, ?it/s]"
      ]
     },
     "metadata": {},
     "output_type": "display_data"
    },
    {
     "name": "stdout",
     "output_type": "stream",
     "text": [
      "\u001b[2m2024-03-17 12:47.05\u001b[0m [\u001b[32m\u001b[1minfo     \u001b[0m] \u001b[1mDiscreteFQE_20240315200128: epoch=59 step=590000\u001b[0m \u001b[36mepoch\u001b[0m=\u001b[35m59\u001b[0m \u001b[36mmetrics\u001b[0m=\u001b[35m{'time_sample_batch': 0.0033735329151153566, 'time_algorithm_update': 0.0024162002325057983, 'loss': 4.5094466475367545, 'time_step': 0.005869347047805786, 'init_value': -196.546630859375, 'soft_opc': 1.6989438958119365}\u001b[0m \u001b[36mstep\u001b[0m=\u001b[35m590000\u001b[0m\n",
      "\u001b[2m2024-03-17 12:47.05\u001b[0m [\u001b[32m\u001b[1minfo     \u001b[0m] \u001b[1mModel parameters are saved to d3rlpy_logs/DiscreteFQE_20240315200128/model_590000.d3\u001b[0m\n"
     ]
    },
    {
     "data": {
      "application/vnd.jupyter.widget-view+json": {
       "model_id": "c0f4c6dbfe484a1f9c85121a1ddaf41f",
       "version_major": 2,
       "version_minor": 0
      },
      "text/plain": [
       "Epoch 60/100:   0%|          | 0/10000 [00:00<?, ?it/s]"
      ]
     },
     "metadata": {},
     "output_type": "display_data"
    },
    {
     "name": "stdout",
     "output_type": "stream",
     "text": [
      "\u001b[2m2024-03-17 13:28.34\u001b[0m [\u001b[32m\u001b[1minfo     \u001b[0m] \u001b[1mDiscreteFQE_20240315200128: epoch=60 step=600000\u001b[0m \u001b[36mepoch\u001b[0m=\u001b[35m60\u001b[0m \u001b[36mmetrics\u001b[0m=\u001b[35m{'time_sample_batch': 0.003403401231765747, 'time_algorithm_update': 0.002449997806549072, 'loss': 4.085293275678158, 'time_step': 0.00593133590221405, 'init_value': -177.55831909179688, 'soft_opc': 0.681924430305827}\u001b[0m \u001b[36mstep\u001b[0m=\u001b[35m600000\u001b[0m\n",
      "\u001b[2m2024-03-17 13:28.34\u001b[0m [\u001b[32m\u001b[1minfo     \u001b[0m] \u001b[1mModel parameters are saved to d3rlpy_logs/DiscreteFQE_20240315200128/model_600000.d3\u001b[0m\n"
     ]
    },
    {
     "data": {
      "application/vnd.jupyter.widget-view+json": {
       "model_id": "18779048475c432e8ca51093daf2f3e5",
       "version_major": 2,
       "version_minor": 0
      },
      "text/plain": [
       "Epoch 61/100:   0%|          | 0/10000 [00:00<?, ?it/s]"
      ]
     },
     "metadata": {},
     "output_type": "display_data"
    },
    {
     "name": "stdout",
     "output_type": "stream",
     "text": [
      "\u001b[2m2024-03-17 14:09.59\u001b[0m [\u001b[32m\u001b[1minfo     \u001b[0m] \u001b[1mDiscreteFQE_20240315200128: epoch=61 step=610000\u001b[0m \u001b[36mepoch\u001b[0m=\u001b[35m61\u001b[0m \u001b[36mmetrics\u001b[0m=\u001b[35m{'time_sample_batch': 0.0034391918897628783, 'time_algorithm_update': 0.0024835124015808105, 'loss': 3.9381106761336326, 'time_step': 0.005997117638587951, 'init_value': -196.35865783691406, 'soft_opc': -3.577684220813154}\u001b[0m \u001b[36mstep\u001b[0m=\u001b[35m610000\u001b[0m\n",
      "\u001b[2m2024-03-17 14:09.59\u001b[0m [\u001b[32m\u001b[1minfo     \u001b[0m] \u001b[1mModel parameters are saved to d3rlpy_logs/DiscreteFQE_20240315200128/model_610000.d3\u001b[0m\n"
     ]
    },
    {
     "data": {
      "application/vnd.jupyter.widget-view+json": {
       "model_id": "f7c5c90329784135992b9d9a6ebced8f",
       "version_major": 2,
       "version_minor": 0
      },
      "text/plain": [
       "Epoch 62/100:   0%|          | 0/10000 [00:00<?, ?it/s]"
      ]
     },
     "metadata": {},
     "output_type": "display_data"
    },
    {
     "name": "stdout",
     "output_type": "stream",
     "text": [
      "\u001b[2m2024-03-17 14:51.16\u001b[0m [\u001b[32m\u001b[1minfo     \u001b[0m] \u001b[1mDiscreteFQE_20240315200128: epoch=62 step=620000\u001b[0m \u001b[36mepoch\u001b[0m=\u001b[35m62\u001b[0m \u001b[36mmetrics\u001b[0m=\u001b[35m{'time_sample_batch': 0.0034034738779067995, 'time_algorithm_update': 0.00242957866191864, 'loss': 3.8195168793916703, 'time_step': 0.005912685084342956, 'init_value': -181.7989044189453, 'soft_opc': -2.0355456056924197}\u001b[0m \u001b[36mstep\u001b[0m=\u001b[35m620000\u001b[0m\n",
      "\u001b[2m2024-03-17 14:51.16\u001b[0m [\u001b[32m\u001b[1minfo     \u001b[0m] \u001b[1mModel parameters are saved to d3rlpy_logs/DiscreteFQE_20240315200128/model_620000.d3\u001b[0m\n"
     ]
    },
    {
     "data": {
      "application/vnd.jupyter.widget-view+json": {
       "model_id": "a881f13b2a4f4791bdf38eaa8ff65243",
       "version_major": 2,
       "version_minor": 0
      },
      "text/plain": [
       "Epoch 63/100:   0%|          | 0/10000 [00:00<?, ?it/s]"
      ]
     },
     "metadata": {},
     "output_type": "display_data"
    },
    {
     "name": "stdout",
     "output_type": "stream",
     "text": [
      "\u001b[2m2024-03-17 15:32.41\u001b[0m [\u001b[32m\u001b[1minfo     \u001b[0m] \u001b[1mDiscreteFQE_20240315200128: epoch=63 step=630000\u001b[0m \u001b[36mepoch\u001b[0m=\u001b[35m63\u001b[0m \u001b[36mmetrics\u001b[0m=\u001b[35m{'time_sample_batch': 0.003344915318489075, 'time_algorithm_update': 0.0024244354486465452, 'loss': 4.201217199027538, 'time_step': 0.005846472835540771, 'init_value': -209.3337860107422, 'soft_opc': -5.471999635243122}\u001b[0m \u001b[36mstep\u001b[0m=\u001b[35m630000\u001b[0m\n",
      "\u001b[2m2024-03-17 15:32.41\u001b[0m [\u001b[32m\u001b[1minfo     \u001b[0m] \u001b[1mModel parameters are saved to d3rlpy_logs/DiscreteFQE_20240315200128/model_630000.d3\u001b[0m\n"
     ]
    },
    {
     "data": {
      "application/vnd.jupyter.widget-view+json": {
       "model_id": "e65647a27bcb4df9a6b6a3616974417a",
       "version_major": 2,
       "version_minor": 0
      },
      "text/plain": [
       "Epoch 64/100:   0%|          | 0/10000 [00:00<?, ?it/s]"
      ]
     },
     "metadata": {},
     "output_type": "display_data"
    },
    {
     "name": "stdout",
     "output_type": "stream",
     "text": [
      "\u001b[2m2024-03-17 16:14.11\u001b[0m [\u001b[32m\u001b[1minfo     \u001b[0m] \u001b[1mDiscreteFQE_20240315200128: epoch=64 step=640000\u001b[0m \u001b[36mepoch\u001b[0m=\u001b[35m64\u001b[0m \u001b[36mmetrics\u001b[0m=\u001b[35m{'time_sample_batch': 0.0033542176961898805, 'time_algorithm_update': 0.0024231759548187255, 'loss': 4.427118434023857, 'time_step': 0.005856154155731201, 'init_value': -206.73866271972656, 'soft_opc': -1.115962604410015}\u001b[0m \u001b[36mstep\u001b[0m=\u001b[35m640000\u001b[0m\n",
      "\u001b[2m2024-03-17 16:14.11\u001b[0m [\u001b[32m\u001b[1minfo     \u001b[0m] \u001b[1mModel parameters are saved to d3rlpy_logs/DiscreteFQE_20240315200128/model_640000.d3\u001b[0m\n"
     ]
    },
    {
     "data": {
      "application/vnd.jupyter.widget-view+json": {
       "model_id": "bb88fc81a2af4eb995cc72a1453c58f0",
       "version_major": 2,
       "version_minor": 0
      },
      "text/plain": [
       "Epoch 65/100:   0%|          | 0/10000 [00:00<?, ?it/s]"
      ]
     },
     "metadata": {},
     "output_type": "display_data"
    },
    {
     "name": "stdout",
     "output_type": "stream",
     "text": [
      "\u001b[2m2024-03-17 16:55.51\u001b[0m [\u001b[32m\u001b[1minfo     \u001b[0m] \u001b[1mDiscreteFQE_20240315200128: epoch=65 step=650000\u001b[0m \u001b[36mepoch\u001b[0m=\u001b[35m65\u001b[0m \u001b[36mmetrics\u001b[0m=\u001b[35m{'time_sample_batch': 0.0033884654998779296, 'time_algorithm_update': 0.0024484601497650146, 'loss': 4.334233795905114, 'time_step': 0.0059166412591934205, 'init_value': -197.34628295898438, 'soft_opc': 1.276208611985453}\u001b[0m \u001b[36mstep\u001b[0m=\u001b[35m650000\u001b[0m\n",
      "\u001b[2m2024-03-17 16:55.51\u001b[0m [\u001b[32m\u001b[1minfo     \u001b[0m] \u001b[1mModel parameters are saved to d3rlpy_logs/DiscreteFQE_20240315200128/model_650000.d3\u001b[0m\n"
     ]
    },
    {
     "data": {
      "application/vnd.jupyter.widget-view+json": {
       "model_id": "96bed908eb11411eb0c49c133d5d239e",
       "version_major": 2,
       "version_minor": 0
      },
      "text/plain": [
       "Epoch 66/100:   0%|          | 0/10000 [00:00<?, ?it/s]"
      ]
     },
     "metadata": {},
     "output_type": "display_data"
    },
    {
     "name": "stdout",
     "output_type": "stream",
     "text": [
      "\u001b[2m2024-03-17 17:37.26\u001b[0m [\u001b[32m\u001b[1minfo     \u001b[0m] \u001b[1mDiscreteFQE_20240315200128: epoch=66 step=660000\u001b[0m \u001b[36mepoch\u001b[0m=\u001b[35m66\u001b[0m \u001b[36mmetrics\u001b[0m=\u001b[35m{'time_sample_batch': 0.003402782082557678, 'time_algorithm_update': 0.0024515791416168213, 'loss': 4.077486064994335, 'time_step': 0.0059331918478012086, 'init_value': -176.19578552246094, 'soft_opc': 0.7203790181677618}\u001b[0m \u001b[36mstep\u001b[0m=\u001b[35m660000\u001b[0m\n",
      "\u001b[2m2024-03-17 17:37.26\u001b[0m [\u001b[32m\u001b[1minfo     \u001b[0m] \u001b[1mModel parameters are saved to d3rlpy_logs/DiscreteFQE_20240315200128/model_660000.d3\u001b[0m\n"
     ]
    },
    {
     "data": {
      "application/vnd.jupyter.widget-view+json": {
       "model_id": "5b4eb219c1fb4e6ca433d6a6e69e8892",
       "version_major": 2,
       "version_minor": 0
      },
      "text/plain": [
       "Epoch 67/100:   0%|          | 0/10000 [00:00<?, ?it/s]"
      ]
     },
     "metadata": {},
     "output_type": "display_data"
    },
    {
     "name": "stdout",
     "output_type": "stream",
     "text": [
      "\u001b[2m2024-03-17 18:19.07\u001b[0m [\u001b[32m\u001b[1minfo     \u001b[0m] \u001b[1mDiscreteFQE_20240315200128: epoch=67 step=670000\u001b[0m \u001b[36mepoch\u001b[0m=\u001b[35m67\u001b[0m \u001b[36mmetrics\u001b[0m=\u001b[35m{'time_sample_batch': 0.0034363600730895998, 'time_algorithm_update': 0.0024599174976348876, 'loss': 3.9479402144908904, 'time_step': 0.005980328893661499, 'init_value': -176.33670043945312, 'soft_opc': -1.200781783319627}\u001b[0m \u001b[36mstep\u001b[0m=\u001b[35m670000\u001b[0m\n",
      "\u001b[2m2024-03-17 18:19.07\u001b[0m [\u001b[32m\u001b[1minfo     \u001b[0m] \u001b[1mModel parameters are saved to d3rlpy_logs/DiscreteFQE_20240315200128/model_670000.d3\u001b[0m\n"
     ]
    },
    {
     "data": {
      "application/vnd.jupyter.widget-view+json": {
       "model_id": "53647ec01c6240d99dd3a193edc08e45",
       "version_major": 2,
       "version_minor": 0
      },
      "text/plain": [
       "Epoch 68/100:   0%|          | 0/10000 [00:00<?, ?it/s]"
      ]
     },
     "metadata": {},
     "output_type": "display_data"
    },
    {
     "name": "stdout",
     "output_type": "stream",
     "text": [
      "\u001b[2m2024-03-17 19:00.35\u001b[0m [\u001b[32m\u001b[1minfo     \u001b[0m] \u001b[1mDiscreteFQE_20240315200128: epoch=68 step=680000\u001b[0m \u001b[36mepoch\u001b[0m=\u001b[35m68\u001b[0m \u001b[36mmetrics\u001b[0m=\u001b[35m{'time_sample_batch': 0.0033842760801315306, 'time_algorithm_update': 0.0024506669759750367, 'loss': 3.751967678320408, 'time_step': 0.00591455934047699, 'init_value': -179.5575714111328, 'soft_opc': 2.14474509853801}\u001b[0m \u001b[36mstep\u001b[0m=\u001b[35m680000\u001b[0m\n",
      "\u001b[2m2024-03-17 19:00.35\u001b[0m [\u001b[32m\u001b[1minfo     \u001b[0m] \u001b[1mModel parameters are saved to d3rlpy_logs/DiscreteFQE_20240315200128/model_680000.d3\u001b[0m\n"
     ]
    },
    {
     "data": {
      "application/vnd.jupyter.widget-view+json": {
       "model_id": "e4c4882bc82f4e26996506ebd8168046",
       "version_major": 2,
       "version_minor": 0
      },
      "text/plain": [
       "Epoch 69/100:   0%|          | 0/10000 [00:00<?, ?it/s]"
      ]
     },
     "metadata": {},
     "output_type": "display_data"
    },
    {
     "name": "stdout",
     "output_type": "stream",
     "text": [
      "\u001b[2m2024-03-17 19:41.58\u001b[0m [\u001b[32m\u001b[1minfo     \u001b[0m] \u001b[1mDiscreteFQE_20240315200128: epoch=69 step=690000\u001b[0m \u001b[36mepoch\u001b[0m=\u001b[35m69\u001b[0m \u001b[36mmetrics\u001b[0m=\u001b[35m{'time_sample_batch': 0.003393223237991333, 'time_algorithm_update': 0.002429934597015381, 'loss': 3.692819813501835, 'time_step': 0.005898259019851685, 'init_value': -181.0871124267578, 'soft_opc': -0.5658973483456577}\u001b[0m \u001b[36mstep\u001b[0m=\u001b[35m690000\u001b[0m\n",
      "\u001b[2m2024-03-17 19:41.58\u001b[0m [\u001b[32m\u001b[1minfo     \u001b[0m] \u001b[1mModel parameters are saved to d3rlpy_logs/DiscreteFQE_20240315200128/model_690000.d3\u001b[0m\n"
     ]
    },
    {
     "data": {
      "application/vnd.jupyter.widget-view+json": {
       "model_id": "7430160a5ba04f798b7df1bf02b8ab70",
       "version_major": 2,
       "version_minor": 0
      },
      "text/plain": [
       "Epoch 70/100:   0%|          | 0/10000 [00:00<?, ?it/s]"
      ]
     },
     "metadata": {},
     "output_type": "display_data"
    },
    {
     "name": "stdout",
     "output_type": "stream",
     "text": [
      "\u001b[2m2024-03-17 20:23.27\u001b[0m [\u001b[32m\u001b[1minfo     \u001b[0m] \u001b[1mDiscreteFQE_20240315200128: epoch=70 step=700000\u001b[0m \u001b[36mepoch\u001b[0m=\u001b[35m70\u001b[0m \u001b[36mmetrics\u001b[0m=\u001b[35m{'time_sample_batch': 0.0033766910791397093, 'time_algorithm_update': 0.0024107900619506836, 'loss': 3.802585138177872, 'time_step': 0.005864131546020508, 'init_value': -183.7818603515625, 'soft_opc': 1.0790307871763503}\u001b[0m \u001b[36mstep\u001b[0m=\u001b[35m700000\u001b[0m\n",
      "\u001b[2m2024-03-17 20:23.27\u001b[0m [\u001b[32m\u001b[1minfo     \u001b[0m] \u001b[1mModel parameters are saved to d3rlpy_logs/DiscreteFQE_20240315200128/model_700000.d3\u001b[0m\n"
     ]
    },
    {
     "data": {
      "application/vnd.jupyter.widget-view+json": {
       "model_id": "d60061e3cd0a49df94273a69cdcf00da",
       "version_major": 2,
       "version_minor": 0
      },
      "text/plain": [
       "Epoch 71/100:   0%|          | 0/10000 [00:00<?, ?it/s]"
      ]
     },
     "metadata": {},
     "output_type": "display_data"
    },
    {
     "name": "stdout",
     "output_type": "stream",
     "text": [
      "\u001b[2m2024-03-17 21:04.46\u001b[0m [\u001b[32m\u001b[1minfo     \u001b[0m] \u001b[1mDiscreteFQE_20240315200128: epoch=71 step=710000\u001b[0m \u001b[36mepoch\u001b[0m=\u001b[35m71\u001b[0m \u001b[36mmetrics\u001b[0m=\u001b[35m{'time_sample_batch': 0.003363784623146057, 'time_algorithm_update': 0.002409803581237793, 'loss': 3.613757977747917, 'time_step': 0.00585290105342865, 'init_value': -189.33624267578125, 'soft_opc': 1.1893207955806133}\u001b[0m \u001b[36mstep\u001b[0m=\u001b[35m710000\u001b[0m\n",
      "\u001b[2m2024-03-17 21:04.46\u001b[0m [\u001b[32m\u001b[1minfo     \u001b[0m] \u001b[1mModel parameters are saved to d3rlpy_logs/DiscreteFQE_20240315200128/model_710000.d3\u001b[0m\n"
     ]
    },
    {
     "data": {
      "application/vnd.jupyter.widget-view+json": {
       "model_id": "e47f96f7745d4dfb9a7c0be6f697e233",
       "version_major": 2,
       "version_minor": 0
      },
      "text/plain": [
       "Epoch 72/100:   0%|          | 0/10000 [00:00<?, ?it/s]"
      ]
     },
     "metadata": {},
     "output_type": "display_data"
    },
    {
     "name": "stdout",
     "output_type": "stream",
     "text": [
      "\u001b[2m2024-03-17 21:46.08\u001b[0m [\u001b[32m\u001b[1minfo     \u001b[0m] \u001b[1mDiscreteFQE_20240315200128: epoch=72 step=720000\u001b[0m \u001b[36mepoch\u001b[0m=\u001b[35m72\u001b[0m \u001b[36mmetrics\u001b[0m=\u001b[35m{'time_sample_batch': 0.0033538797855377197, 'time_algorithm_update': 0.0023975677251815795, 'loss': 3.815412395441532, 'time_step': 0.005826819252967835, 'init_value': -187.27346801757812, 'soft_opc': 4.265562044432443}\u001b[0m \u001b[36mstep\u001b[0m=\u001b[35m720000\u001b[0m\n",
      "\u001b[2m2024-03-17 21:46.08\u001b[0m [\u001b[32m\u001b[1minfo     \u001b[0m] \u001b[1mModel parameters are saved to d3rlpy_logs/DiscreteFQE_20240315200128/model_720000.d3\u001b[0m\n"
     ]
    },
    {
     "data": {
      "application/vnd.jupyter.widget-view+json": {
       "model_id": "7b4b19033b8747cbb1b397017dd5d32b",
       "version_major": 2,
       "version_minor": 0
      },
      "text/plain": [
       "Epoch 73/100:   0%|          | 0/10000 [00:00<?, ?it/s]"
      ]
     },
     "metadata": {},
     "output_type": "display_data"
    },
    {
     "name": "stdout",
     "output_type": "stream",
     "text": [
      "\u001b[2m2024-03-17 22:27.36\u001b[0m [\u001b[32m\u001b[1minfo     \u001b[0m] \u001b[1mDiscreteFQE_20240315200128: epoch=73 step=730000\u001b[0m \u001b[36mepoch\u001b[0m=\u001b[35m73\u001b[0m \u001b[36mmetrics\u001b[0m=\u001b[35m{'time_sample_batch': 0.0033774032592773437, 'time_algorithm_update': 0.0024183780193328857, 'loss': 3.7933116005659104, 'time_step': 0.005874145793914795, 'init_value': -178.64878845214844, 'soft_opc': 5.9510039685496565}\u001b[0m \u001b[36mstep\u001b[0m=\u001b[35m730000\u001b[0m\n",
      "\u001b[2m2024-03-17 22:27.36\u001b[0m [\u001b[32m\u001b[1minfo     \u001b[0m] \u001b[1mModel parameters are saved to d3rlpy_logs/DiscreteFQE_20240315200128/model_730000.d3\u001b[0m\n"
     ]
    },
    {
     "data": {
      "application/vnd.jupyter.widget-view+json": {
       "model_id": "91aeb748d947491aa49957d61d92ef09",
       "version_major": 2,
       "version_minor": 0
      },
      "text/plain": [
       "Epoch 74/100:   0%|          | 0/10000 [00:00<?, ?it/s]"
      ]
     },
     "metadata": {},
     "output_type": "display_data"
    },
    {
     "name": "stdout",
     "output_type": "stream",
     "text": [
      "\u001b[2m2024-03-17 23:09.03\u001b[0m [\u001b[32m\u001b[1minfo     \u001b[0m] \u001b[1mDiscreteFQE_20240315200128: epoch=74 step=740000\u001b[0m \u001b[36mepoch\u001b[0m=\u001b[35m74\u001b[0m \u001b[36mmetrics\u001b[0m=\u001b[35m{'time_sample_batch': 0.003392874312400818, 'time_algorithm_update': 0.002425047016143799, 'loss': 3.8385210106253624, 'time_step': 0.005896384930610656, 'init_value': -179.8079071044922, 'soft_opc': 8.338483334805943}\u001b[0m \u001b[36mstep\u001b[0m=\u001b[35m740000\u001b[0m\n",
      "\u001b[2m2024-03-17 23:09.03\u001b[0m [\u001b[32m\u001b[1minfo     \u001b[0m] \u001b[1mModel parameters are saved to d3rlpy_logs/DiscreteFQE_20240315200128/model_740000.d3\u001b[0m\n"
     ]
    },
    {
     "data": {
      "application/vnd.jupyter.widget-view+json": {
       "model_id": "a8ee92dcbe0d4fb58a1abb9f3ec508cd",
       "version_major": 2,
       "version_minor": 0
      },
      "text/plain": [
       "Epoch 75/100:   0%|          | 0/10000 [00:00<?, ?it/s]"
      ]
     },
     "metadata": {},
     "output_type": "display_data"
    },
    {
     "name": "stdout",
     "output_type": "stream",
     "text": [
      "\u001b[2m2024-03-17 23:50.35\u001b[0m [\u001b[32m\u001b[1minfo     \u001b[0m] \u001b[1mDiscreteFQE_20240315200128: epoch=75 step=750000\u001b[0m \u001b[36mepoch\u001b[0m=\u001b[35m75\u001b[0m \u001b[36mmetrics\u001b[0m=\u001b[35m{'time_sample_batch': 0.0033553400039672853, 'time_algorithm_update': 0.0024103301763534544, 'loss': 3.8667001343607903, 'time_step': 0.005843494153022766, 'init_value': -178.03562927246094, 'soft_opc': 8.784250180222585}\u001b[0m \u001b[36mstep\u001b[0m=\u001b[35m750000\u001b[0m\n",
      "\u001b[2m2024-03-17 23:50.35\u001b[0m [\u001b[32m\u001b[1minfo     \u001b[0m] \u001b[1mModel parameters are saved to d3rlpy_logs/DiscreteFQE_20240315200128/model_750000.d3\u001b[0m\n"
     ]
    },
    {
     "data": {
      "application/vnd.jupyter.widget-view+json": {
       "model_id": "8914d3e15ad44190838a415dc9ed9d9c",
       "version_major": 2,
       "version_minor": 0
      },
      "text/plain": [
       "Epoch 76/100:   0%|          | 0/10000 [00:00<?, ?it/s]"
      ]
     },
     "metadata": {},
     "output_type": "display_data"
    },
    {
     "name": "stdout",
     "output_type": "stream",
     "text": [
      "\u001b[2m2024-03-18 00:32.02\u001b[0m [\u001b[32m\u001b[1minfo     \u001b[0m] \u001b[1mDiscreteFQE_20240315200128: epoch=76 step=760000\u001b[0m \u001b[36mepoch\u001b[0m=\u001b[35m76\u001b[0m \u001b[36mmetrics\u001b[0m=\u001b[35m{'time_sample_batch': 0.003328579306602478, 'time_algorithm_update': 0.002397660183906555, 'loss': 3.8433726296305655, 'time_step': 0.005802956652641297, 'init_value': -185.6385040283203, 'soft_opc': 6.816350576601053}\u001b[0m \u001b[36mstep\u001b[0m=\u001b[35m760000\u001b[0m\n",
      "\u001b[2m2024-03-18 00:32.02\u001b[0m [\u001b[32m\u001b[1minfo     \u001b[0m] \u001b[1mModel parameters are saved to d3rlpy_logs/DiscreteFQE_20240315200128/model_760000.d3\u001b[0m\n"
     ]
    },
    {
     "data": {
      "application/vnd.jupyter.widget-view+json": {
       "model_id": "fd2fef1f08a4499fa2f95365fd844b92",
       "version_major": 2,
       "version_minor": 0
      },
      "text/plain": [
       "Epoch 77/100:   0%|          | 0/10000 [00:00<?, ?it/s]"
      ]
     },
     "metadata": {},
     "output_type": "display_data"
    },
    {
     "name": "stdout",
     "output_type": "stream",
     "text": [
      "\u001b[2m2024-03-18 01:13.27\u001b[0m [\u001b[32m\u001b[1minfo     \u001b[0m] \u001b[1mDiscreteFQE_20240315200128: epoch=77 step=770000\u001b[0m \u001b[36mepoch\u001b[0m=\u001b[35m77\u001b[0m \u001b[36mmetrics\u001b[0m=\u001b[35m{'time_sample_batch': 0.003359704303741455, 'time_algorithm_update': 0.002421442127227783, 'loss': 3.6241748217582703, 'time_step': 0.005859177374839783, 'init_value': -174.03807067871094, 'soft_opc': 8.692476239259776}\u001b[0m \u001b[36mstep\u001b[0m=\u001b[35m770000\u001b[0m\n",
      "\u001b[2m2024-03-18 01:13.27\u001b[0m [\u001b[32m\u001b[1minfo     \u001b[0m] \u001b[1mModel parameters are saved to d3rlpy_logs/DiscreteFQE_20240315200128/model_770000.d3\u001b[0m\n"
     ]
    },
    {
     "data": {
      "application/vnd.jupyter.widget-view+json": {
       "model_id": "5de8d392aebf4afaa7430863806c1a79",
       "version_major": 2,
       "version_minor": 0
      },
      "text/plain": [
       "Epoch 78/100:   0%|          | 0/10000 [00:00<?, ?it/s]"
      ]
     },
     "metadata": {},
     "output_type": "display_data"
    },
    {
     "name": "stdout",
     "output_type": "stream",
     "text": [
      "\u001b[2m2024-03-18 01:54.54\u001b[0m [\u001b[32m\u001b[1minfo     \u001b[0m] \u001b[1mDiscreteFQE_20240315200128: epoch=78 step=780000\u001b[0m \u001b[36mepoch\u001b[0m=\u001b[35m78\u001b[0m \u001b[36mmetrics\u001b[0m=\u001b[35m{'time_sample_batch': 0.0033526898384094238, 'time_algorithm_update': 0.002397868299484253, 'loss': 3.40456123534441, 'time_step': 0.005825410413742065, 'init_value': -171.93292236328125, 'soft_opc': 9.393233933306789}\u001b[0m \u001b[36mstep\u001b[0m=\u001b[35m780000\u001b[0m\n",
      "\u001b[2m2024-03-18 01:54.54\u001b[0m [\u001b[32m\u001b[1minfo     \u001b[0m] \u001b[1mModel parameters are saved to d3rlpy_logs/DiscreteFQE_20240315200128/model_780000.d3\u001b[0m\n"
     ]
    },
    {
     "data": {
      "application/vnd.jupyter.widget-view+json": {
       "model_id": "a3ab2538598949b3a379d24ca22a7163",
       "version_major": 2,
       "version_minor": 0
      },
      "text/plain": [
       "Epoch 79/100:   0%|          | 0/10000 [00:00<?, ?it/s]"
      ]
     },
     "metadata": {},
     "output_type": "display_data"
    },
    {
     "name": "stdout",
     "output_type": "stream",
     "text": [
      "\u001b[2m2024-03-18 02:36.38\u001b[0m [\u001b[32m\u001b[1minfo     \u001b[0m] \u001b[1mDiscreteFQE_20240315200128: epoch=79 step=790000\u001b[0m \u001b[36mepoch\u001b[0m=\u001b[35m79\u001b[0m \u001b[36mmetrics\u001b[0m=\u001b[35m{'time_sample_batch': 0.003374157643318176, 'time_algorithm_update': 0.002429607915878296, 'loss': 3.6669299788832665, 'time_step': 0.0058802108526229855, 'init_value': -176.03439331054688, 'soft_opc': 8.484762789572585}\u001b[0m \u001b[36mstep\u001b[0m=\u001b[35m790000\u001b[0m\n",
      "\u001b[2m2024-03-18 02:36.38\u001b[0m [\u001b[32m\u001b[1minfo     \u001b[0m] \u001b[1mModel parameters are saved to d3rlpy_logs/DiscreteFQE_20240315200128/model_790000.d3\u001b[0m\n"
     ]
    },
    {
     "data": {
      "application/vnd.jupyter.widget-view+json": {
       "model_id": "d06a3b30a7d34315b2c1026708ef91f8",
       "version_major": 2,
       "version_minor": 0
      },
      "text/plain": [
       "Epoch 80/100:   0%|          | 0/10000 [00:00<?, ?it/s]"
      ]
     },
     "metadata": {},
     "output_type": "display_data"
    },
    {
     "name": "stdout",
     "output_type": "stream",
     "text": [
      "\u001b[2m2024-03-18 03:18.03\u001b[0m [\u001b[32m\u001b[1minfo     \u001b[0m] \u001b[1mDiscreteFQE_20240315200128: epoch=80 step=800000\u001b[0m \u001b[36mepoch\u001b[0m=\u001b[35m80\u001b[0m \u001b[36mmetrics\u001b[0m=\u001b[35m{'time_sample_batch': 0.003404939818382263, 'time_algorithm_update': 0.0025165438890457155, 'loss': 3.6359905633449556, 'time_step': 0.006005358457565307, 'init_value': -183.41683959960938, 'soft_opc': 11.425708135679457}\u001b[0m \u001b[36mstep\u001b[0m=\u001b[35m800000\u001b[0m\n",
      "\u001b[2m2024-03-18 03:18.03\u001b[0m [\u001b[32m\u001b[1minfo     \u001b[0m] \u001b[1mModel parameters are saved to d3rlpy_logs/DiscreteFQE_20240315200128/model_800000.d3\u001b[0m\n"
     ]
    },
    {
     "data": {
      "application/vnd.jupyter.widget-view+json": {
       "model_id": "4ef5938dcb97424bb34369541aded07b",
       "version_major": 2,
       "version_minor": 0
      },
      "text/plain": [
       "Epoch 81/100:   0%|          | 0/10000 [00:00<?, ?it/s]"
      ]
     },
     "metadata": {},
     "output_type": "display_data"
    },
    {
     "name": "stdout",
     "output_type": "stream",
     "text": [
      "\u001b[2m2024-03-18 03:59.46\u001b[0m [\u001b[32m\u001b[1minfo     \u001b[0m] \u001b[1mDiscreteFQE_20240315200128: epoch=81 step=810000\u001b[0m \u001b[36mepoch\u001b[0m=\u001b[35m81\u001b[0m \u001b[36mmetrics\u001b[0m=\u001b[35m{'time_sample_batch': 0.0033582259178161623, 'time_algorithm_update': 0.0023906852960586546, 'loss': 3.798150462806225, 'time_step': 0.005826346659660339, 'init_value': -204.00875854492188, 'soft_opc': 9.54205064586074}\u001b[0m \u001b[36mstep\u001b[0m=\u001b[35m810000\u001b[0m\n",
      "\u001b[2m2024-03-18 03:59.46\u001b[0m [\u001b[32m\u001b[1minfo     \u001b[0m] \u001b[1mModel parameters are saved to d3rlpy_logs/DiscreteFQE_20240315200128/model_810000.d3\u001b[0m\n"
     ]
    },
    {
     "data": {
      "application/vnd.jupyter.widget-view+json": {
       "model_id": "917fece3ed5740459dbe62028f86dab5",
       "version_major": 2,
       "version_minor": 0
      },
      "text/plain": [
       "Epoch 82/100:   0%|          | 0/10000 [00:00<?, ?it/s]"
      ]
     },
     "metadata": {},
     "output_type": "display_data"
    },
    {
     "name": "stdout",
     "output_type": "stream",
     "text": [
      "\u001b[2m2024-03-18 04:41.26\u001b[0m [\u001b[32m\u001b[1minfo     \u001b[0m] \u001b[1mDiscreteFQE_20240315200128: epoch=82 step=820000\u001b[0m \u001b[36mepoch\u001b[0m=\u001b[35m82\u001b[0m \u001b[36mmetrics\u001b[0m=\u001b[35m{'time_sample_batch': 0.0033591228246688844, 'time_algorithm_update': 0.002422714018821716, 'loss': 3.897992976605892, 'time_step': 0.005858984494209289, 'init_value': -195.36859130859375, 'soft_opc': 9.48859395224801}\u001b[0m \u001b[36mstep\u001b[0m=\u001b[35m820000\u001b[0m\n",
      "\u001b[2m2024-03-18 04:41.26\u001b[0m [\u001b[32m\u001b[1minfo     \u001b[0m] \u001b[1mModel parameters are saved to d3rlpy_logs/DiscreteFQE_20240315200128/model_820000.d3\u001b[0m\n"
     ]
    },
    {
     "data": {
      "application/vnd.jupyter.widget-view+json": {
       "model_id": "5abf0e067983473aa9ecbd782f21770d",
       "version_major": 2,
       "version_minor": 0
      },
      "text/plain": [
       "Epoch 83/100:   0%|          | 0/10000 [00:00<?, ?it/s]"
      ]
     },
     "metadata": {},
     "output_type": "display_data"
    },
    {
     "name": "stdout",
     "output_type": "stream",
     "text": [
      "\u001b[2m2024-03-18 05:22.56\u001b[0m [\u001b[32m\u001b[1minfo     \u001b[0m] \u001b[1mDiscreteFQE_20240315200128: epoch=83 step=830000\u001b[0m \u001b[36mepoch\u001b[0m=\u001b[35m83\u001b[0m \u001b[36mmetrics\u001b[0m=\u001b[35m{'time_sample_batch': 0.003371934962272644, 'time_algorithm_update': 0.00241791512966156, 'loss': 4.1002303114175795, 'time_step': 0.005865738654136658, 'init_value': -205.75982666015625, 'soft_opc': 6.530996935708032}\u001b[0m \u001b[36mstep\u001b[0m=\u001b[35m830000\u001b[0m\n",
      "\u001b[2m2024-03-18 05:22.56\u001b[0m [\u001b[32m\u001b[1minfo     \u001b[0m] \u001b[1mModel parameters are saved to d3rlpy_logs/DiscreteFQE_20240315200128/model_830000.d3\u001b[0m\n"
     ]
    },
    {
     "data": {
      "application/vnd.jupyter.widget-view+json": {
       "model_id": "d79549c639214df484ac8bf915516652",
       "version_major": 2,
       "version_minor": 0
      },
      "text/plain": [
       "Epoch 84/100:   0%|          | 0/10000 [00:00<?, ?it/s]"
      ]
     },
     "metadata": {},
     "output_type": "display_data"
    },
    {
     "name": "stdout",
     "output_type": "stream",
     "text": [
      "\u001b[2m2024-03-18 06:04.27\u001b[0m [\u001b[32m\u001b[1minfo     \u001b[0m] \u001b[1mDiscreteFQE_20240315200128: epoch=84 step=840000\u001b[0m \u001b[36mepoch\u001b[0m=\u001b[35m84\u001b[0m \u001b[36mmetrics\u001b[0m=\u001b[35m{'time_sample_batch': 0.0033503021955490113, 'time_algorithm_update': 0.002389043402671814, 'loss': 4.285312666118145, 'time_step': 0.005810830020904541, 'init_value': -194.79808044433594, 'soft_opc': 6.302949268100207}\u001b[0m \u001b[36mstep\u001b[0m=\u001b[35m840000\u001b[0m\n",
      "\u001b[2m2024-03-18 06:04.27\u001b[0m [\u001b[32m\u001b[1minfo     \u001b[0m] \u001b[1mModel parameters are saved to d3rlpy_logs/DiscreteFQE_20240315200128/model_840000.d3\u001b[0m\n"
     ]
    },
    {
     "data": {
      "application/vnd.jupyter.widget-view+json": {
       "model_id": "4a9305d91e3e41f6abeb6aaaa5129bf4",
       "version_major": 2,
       "version_minor": 0
      },
      "text/plain": [
       "Epoch 85/100:   0%|          | 0/10000 [00:00<?, ?it/s]"
      ]
     },
     "metadata": {},
     "output_type": "display_data"
    },
    {
     "name": "stdout",
     "output_type": "stream",
     "text": [
      "\u001b[2m2024-03-18 06:45.53\u001b[0m [\u001b[32m\u001b[1minfo     \u001b[0m] \u001b[1mDiscreteFQE_20240315200128: epoch=85 step=850000\u001b[0m \u001b[36mepoch\u001b[0m=\u001b[35m85\u001b[0m \u001b[36mmetrics\u001b[0m=\u001b[35m{'time_sample_batch': 0.0033657724857330323, 'time_algorithm_update': 0.002421023082733154, 'loss': 4.164751039278507, 'time_step': 0.005862017822265625, 'init_value': -204.14598083496094, 'soft_opc': 9.614522830527676}\u001b[0m \u001b[36mstep\u001b[0m=\u001b[35m850000\u001b[0m\n",
      "\u001b[2m2024-03-18 06:45.53\u001b[0m [\u001b[32m\u001b[1minfo     \u001b[0m] \u001b[1mModel parameters are saved to d3rlpy_logs/DiscreteFQE_20240315200128/model_850000.d3\u001b[0m\n"
     ]
    },
    {
     "data": {
      "application/vnd.jupyter.widget-view+json": {
       "model_id": "6de1326c7fa54e6dbcfbe42c44b5c06b",
       "version_major": 2,
       "version_minor": 0
      },
      "text/plain": [
       "Epoch 86/100:   0%|          | 0/10000 [00:00<?, ?it/s]"
      ]
     },
     "metadata": {},
     "output_type": "display_data"
    },
    {
     "name": "stdout",
     "output_type": "stream",
     "text": [
      "\u001b[2m2024-03-18 07:27.09\u001b[0m [\u001b[32m\u001b[1minfo     \u001b[0m] \u001b[1mDiscreteFQE_20240315200128: epoch=86 step=860000\u001b[0m \u001b[36mepoch\u001b[0m=\u001b[35m86\u001b[0m \u001b[36mmetrics\u001b[0m=\u001b[35m{'time_sample_batch': 0.0033425100564956666, 'time_algorithm_update': 0.0023853453397750853, 'loss': 4.826156547439099, 'time_step': 0.005806605696678162, 'init_value': -224.8140106201172, 'soft_opc': 3.0504845334095023}\u001b[0m \u001b[36mstep\u001b[0m=\u001b[35m860000\u001b[0m\n",
      "\u001b[2m2024-03-18 07:27.09\u001b[0m [\u001b[32m\u001b[1minfo     \u001b[0m] \u001b[1mModel parameters are saved to d3rlpy_logs/DiscreteFQE_20240315200128/model_860000.d3\u001b[0m\n"
     ]
    },
    {
     "data": {
      "application/vnd.jupyter.widget-view+json": {
       "model_id": "3b3cd21d7f9f407eb58c93c3b6b41c02",
       "version_major": 2,
       "version_minor": 0
      },
      "text/plain": [
       "Epoch 87/100:   0%|          | 0/10000 [00:00<?, ?it/s]"
      ]
     },
     "metadata": {},
     "output_type": "display_data"
    },
    {
     "name": "stdout",
     "output_type": "stream",
     "text": [
      "\u001b[2m2024-03-18 08:08.50\u001b[0m [\u001b[32m\u001b[1minfo     \u001b[0m] \u001b[1mDiscreteFQE_20240315200128: epoch=87 step=870000\u001b[0m \u001b[36mepoch\u001b[0m=\u001b[35m87\u001b[0m \u001b[36mmetrics\u001b[0m=\u001b[35m{'time_sample_batch': 0.0033900401830673217, 'time_algorithm_update': 0.002419994854927063, 'loss': 4.899292922186851, 'time_step': 0.0058924263715744015, 'init_value': -219.41622924804688, 'soft_opc': 2.283867856631872}\u001b[0m \u001b[36mstep\u001b[0m=\u001b[35m870000\u001b[0m\n",
      "\u001b[2m2024-03-18 08:08.50\u001b[0m [\u001b[32m\u001b[1minfo     \u001b[0m] \u001b[1mModel parameters are saved to d3rlpy_logs/DiscreteFQE_20240315200128/model_870000.d3\u001b[0m\n"
     ]
    },
    {
     "data": {
      "application/vnd.jupyter.widget-view+json": {
       "model_id": "324507fd73954670b92ee1a5a3f5a068",
       "version_major": 2,
       "version_minor": 0
      },
      "text/plain": [
       "Epoch 88/100:   0%|          | 0/10000 [00:00<?, ?it/s]"
      ]
     },
     "metadata": {},
     "output_type": "display_data"
    },
    {
     "name": "stdout",
     "output_type": "stream",
     "text": [
      "\u001b[2m2024-03-18 08:50.04\u001b[0m [\u001b[32m\u001b[1minfo     \u001b[0m] \u001b[1mDiscreteFQE_20240315200128: epoch=88 step=880000\u001b[0m \u001b[36mepoch\u001b[0m=\u001b[35m88\u001b[0m \u001b[36mmetrics\u001b[0m=\u001b[35m{'time_sample_batch': 0.003383444905281067, 'time_algorithm_update': 0.002413882541656494, 'loss': 4.5260936218380925, 'time_step': 0.005870005488395691, 'init_value': -219.8658905029297, 'soft_opc': 4.650964158904401}\u001b[0m \u001b[36mstep\u001b[0m=\u001b[35m880000\u001b[0m\n",
      "\u001b[2m2024-03-18 08:50.04\u001b[0m [\u001b[32m\u001b[1minfo     \u001b[0m] \u001b[1mModel parameters are saved to d3rlpy_logs/DiscreteFQE_20240315200128/model_880000.d3\u001b[0m\n"
     ]
    },
    {
     "data": {
      "application/vnd.jupyter.widget-view+json": {
       "model_id": "b9d7751682c34ac4887816c0e68d5c95",
       "version_major": 2,
       "version_minor": 0
      },
      "text/plain": [
       "Epoch 89/100:   0%|          | 0/10000 [00:00<?, ?it/s]"
      ]
     },
     "metadata": {},
     "output_type": "display_data"
    },
    {
     "name": "stdout",
     "output_type": "stream",
     "text": [
      "\u001b[2m2024-03-18 09:31.48\u001b[0m [\u001b[32m\u001b[1minfo     \u001b[0m] \u001b[1mDiscreteFQE_20240315200128: epoch=89 step=890000\u001b[0m \u001b[36mepoch\u001b[0m=\u001b[35m89\u001b[0m \u001b[36mmetrics\u001b[0m=\u001b[35m{'time_sample_batch': 0.0033640627145767213, 'time_algorithm_update': 0.002403093457221985, 'loss': 4.619787867665291, 'time_step': 0.005842626667022705, 'init_value': -199.17214965820312, 'soft_opc': 10.896420539817228}\u001b[0m \u001b[36mstep\u001b[0m=\u001b[35m890000\u001b[0m\n",
      "\u001b[2m2024-03-18 09:31.48\u001b[0m [\u001b[32m\u001b[1minfo     \u001b[0m] \u001b[1mModel parameters are saved to d3rlpy_logs/DiscreteFQE_20240315200128/model_890000.d3\u001b[0m\n"
     ]
    },
    {
     "data": {
      "application/vnd.jupyter.widget-view+json": {
       "model_id": "7495942cb47341b89338563abe187276",
       "version_major": 2,
       "version_minor": 0
      },
      "text/plain": [
       "Epoch 90/100:   0%|          | 0/10000 [00:00<?, ?it/s]"
      ]
     },
     "metadata": {},
     "output_type": "display_data"
    },
    {
     "name": "stdout",
     "output_type": "stream",
     "text": [
      "\u001b[2m2024-03-18 10:13.19\u001b[0m [\u001b[32m\u001b[1minfo     \u001b[0m] \u001b[1mDiscreteFQE_20240315200128: epoch=90 step=900000\u001b[0m \u001b[36mepoch\u001b[0m=\u001b[35m90\u001b[0m \u001b[36mmetrics\u001b[0m=\u001b[35m{'time_sample_batch': 0.0033578386068344114, 'time_algorithm_update': 0.0024285337924957275, 'loss': 3.9834203513264654, 'time_step': 0.005861138153076172, 'init_value': -201.07763671875, 'soft_opc': 4.936566281524023}\u001b[0m \u001b[36mstep\u001b[0m=\u001b[35m900000\u001b[0m\n",
      "\u001b[2m2024-03-18 10:13.19\u001b[0m [\u001b[32m\u001b[1minfo     \u001b[0m] \u001b[1mModel parameters are saved to d3rlpy_logs/DiscreteFQE_20240315200128/model_900000.d3\u001b[0m\n"
     ]
    },
    {
     "data": {
      "application/vnd.jupyter.widget-view+json": {
       "model_id": "36d6730cdc68461abbea2806b9474205",
       "version_major": 2,
       "version_minor": 0
      },
      "text/plain": [
       "Epoch 91/100:   0%|          | 0/10000 [00:00<?, ?it/s]"
      ]
     },
     "metadata": {},
     "output_type": "display_data"
    },
    {
     "name": "stdout",
     "output_type": "stream",
     "text": [
      "\u001b[2m2024-03-18 10:54.50\u001b[0m [\u001b[32m\u001b[1minfo     \u001b[0m] \u001b[1mDiscreteFQE_20240315200128: epoch=91 step=910000\u001b[0m \u001b[36mepoch\u001b[0m=\u001b[35m91\u001b[0m \u001b[36mmetrics\u001b[0m=\u001b[35m{'time_sample_batch': 0.0033744003295898438, 'time_algorithm_update': 0.002435515666007996, 'loss': 3.63594510576725, 'time_step': 0.005886885786056518, 'init_value': -192.49977111816406, 'soft_opc': 6.311841188673611}\u001b[0m \u001b[36mstep\u001b[0m=\u001b[35m910000\u001b[0m\n",
      "\u001b[2m2024-03-18 10:54.50\u001b[0m [\u001b[32m\u001b[1minfo     \u001b[0m] \u001b[1mModel parameters are saved to d3rlpy_logs/DiscreteFQE_20240315200128/model_910000.d3\u001b[0m\n"
     ]
    },
    {
     "data": {
      "application/vnd.jupyter.widget-view+json": {
       "model_id": "8a5b1c6c22b54f71aa0c44d3cb5adc1c",
       "version_major": 2,
       "version_minor": 0
      },
      "text/plain": [
       "Epoch 92/100:   0%|          | 0/10000 [00:00<?, ?it/s]"
      ]
     },
     "metadata": {},
     "output_type": "display_data"
    },
    {
     "name": "stdout",
     "output_type": "stream",
     "text": [
      "\u001b[2m2024-03-18 11:36.26\u001b[0m [\u001b[32m\u001b[1minfo     \u001b[0m] \u001b[1mDiscreteFQE_20240315200128: epoch=92 step=920000\u001b[0m \u001b[36mepoch\u001b[0m=\u001b[35m92\u001b[0m \u001b[36mmetrics\u001b[0m=\u001b[35m{'time_sample_batch': 0.003424186038970947, 'time_algorithm_update': 0.0025141416549682616, 'loss': 3.711051479113102, 'time_step': 0.006023715138435364, 'init_value': -207.10125732421875, 'soft_opc': 8.428795516408144}\u001b[0m \u001b[36mstep\u001b[0m=\u001b[35m920000\u001b[0m\n",
      "\u001b[2m2024-03-18 11:36.26\u001b[0m [\u001b[32m\u001b[1minfo     \u001b[0m] \u001b[1mModel parameters are saved to d3rlpy_logs/DiscreteFQE_20240315200128/model_920000.d3\u001b[0m\n"
     ]
    },
    {
     "data": {
      "application/vnd.jupyter.widget-view+json": {
       "model_id": "331851d37f4b4621973a62703eec4ba4",
       "version_major": 2,
       "version_minor": 0
      },
      "text/plain": [
       "Epoch 93/100:   0%|          | 0/10000 [00:00<?, ?it/s]"
      ]
     },
     "metadata": {},
     "output_type": "display_data"
    }
   ],
   "source": [
    "# Initialize FQE algorithm\n",
    "fqe = DiscreteFQE(algo=cql, config=FQEConfig(), device='cuda:0')  \n",
    "\n",
    "fqe.fit(\n",
    "   dataset,\n",
    "   n_steps=1000000,\n",
    "   evaluators={\n",
    "      'init_value': d3rlpy.metrics.InitialStateValueEstimationEvaluator(),\n",
    "      'soft_opc': d3rlpy.metrics.SoftOPCEvaluator(return_threshold=-5),\n",
    "   },\n",
    ")"
   ]
  },
  {
   "cell_type": "code",
   "execution_count": null,
   "metadata": {},
   "outputs": [],
   "source": []
  }
 ],
 "metadata": {
  "kernelspec": {
   "display_name": "mprl_env",
   "language": "python",
   "name": "mprl-research-py3.10"
  },
  "language_info": {
   "codemirror_mode": {
    "name": "ipython",
    "version": 3
   },
   "file_extension": ".py",
   "mimetype": "text/x-python",
   "name": "python",
   "nbconvert_exporter": "python",
   "pygments_lexer": "ipython3",
   "version": "3.10.13"
  }
 },
 "nbformat": 4,
 "nbformat_minor": 2
}
